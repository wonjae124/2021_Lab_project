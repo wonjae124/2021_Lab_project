{
  "nbformat": 4,
  "nbformat_minor": 0,
  "metadata": {
    "colab": {
      "name": "220623.RNN_tutorial",
      "provenance": [],
      "collapsed_sections": [],
      "mount_file_id": "1zGVh69BDstSHDdrUODkPmm7Wa8711vcY",
      "authorship_tag": "ABX9TyNDX2tt7TTtbXu1OXASiCw7",
      "include_colab_link": true
    },
    "kernelspec": {
      "name": "python3",
      "display_name": "Python 3"
    },
    "language_info": {
      "name": "python"
    },
    "accelerator": "GPU",
    "gpuClass": "standard"
  },
  "cells": [
    {
      "cell_type": "markdown",
      "metadata": {
        "id": "view-in-github",
        "colab_type": "text"
      },
      "source": [
        "<a href=\"https://colab.research.google.com/github/wonjae124/2021_Lab_project/blob/main/220623_RNN_tutorial.ipynb\" target=\"_parent\"><img src=\"https://colab.research.google.com/assets/colab-badge.svg\" alt=\"Open In Colab\"/></a>"
      ]
    },
    {
      "cell_type": "code",
      "execution_count": 2,
      "metadata": {
        "id": "Qv7m8Gu-P13C"
      },
      "outputs": [],
      "source": [
        "import numpy as np\n",
        "import pandas as pd\n",
        "from sklearn.preprocessing import MinMaxScaler\n",
        "import torch\n",
        "import torch.nn as nn\n",
        "import torch.optim as optim\n",
        "import matplotlib.pyplot as plt"
      ]
    },
    {
      "cell_type": "code",
      "source": [
        "df = pd.read_csv(\"/content/drive/MyDrive/deeplearningbro/kospi.csv\")\n",
        "scaler = MinMaxScaler()\n",
        "df[['Open','High','Low','Close','Volume']] = scaler.fit_transform(df[['Open','High','Low','Close','Volume']])"
      ],
      "metadata": {
        "id": "F38NsnlbYb54"
      },
      "execution_count": 3,
      "outputs": []
    },
    {
      "cell_type": "code",
      "source": [
        "df"
      ],
      "metadata": {
        "colab": {
          "base_uri": "https://localhost:8080/",
          "height": 424
        },
        "id": "pTq4Ydblcuub",
        "outputId": "5f44dc47-31ea-4785-d51b-ae05c9aa2b71"
      },
      "execution_count": 4,
      "outputs": [
        {
          "output_type": "execute_result",
          "data": {
            "text/plain": [
              "           Date      Open      High       Low     Close    Adj Close    Volume\n",
              "0    2019-01-30  0.722898  0.732351  0.745525  0.759235  2206.199951  0.242113\n",
              "1    2019-01-31  0.763058  0.750069  0.769089  0.757866  2204.850098  0.274771\n",
              "2    2019-02-01  0.751894  0.745714  0.769280  0.756456  2203.459961  0.241609\n",
              "3    2019-02-07  0.755809  0.742538  0.764596  0.756415  2203.419922  0.215603\n",
              "4    2019-02-08  0.731584  0.717777  0.739548  0.729669  2177.050049  0.197057\n",
              "..          ...       ...       ...       ...       ...          ...       ...\n",
              "426  2020-10-26  0.909485  0.911124  0.911803  0.898908  2343.909912  0.414424\n",
              "427  2020-10-27  0.870905  0.884388  0.890248  0.885652  2330.840088  0.336105\n",
              "428  2020-10-28  0.866338  0.880277  0.885443  0.900278  2345.260010  0.355408\n",
              "429  2020-10-29  0.854266  0.864035  0.868724  0.881423  2326.669922  0.256577\n",
              "430  2020-10-30  0.861627  0.853445  0.835428  0.821054  2267.149902  0.400960\n",
              "\n",
              "[431 rows x 7 columns]"
            ],
            "text/html": [
              "\n",
              "  <div id=\"df-071d70f6-14fb-470c-84a5-ead9eded9f07\">\n",
              "    <div class=\"colab-df-container\">\n",
              "      <div>\n",
              "<style scoped>\n",
              "    .dataframe tbody tr th:only-of-type {\n",
              "        vertical-align: middle;\n",
              "    }\n",
              "\n",
              "    .dataframe tbody tr th {\n",
              "        vertical-align: top;\n",
              "    }\n",
              "\n",
              "    .dataframe thead th {\n",
              "        text-align: right;\n",
              "    }\n",
              "</style>\n",
              "<table border=\"1\" class=\"dataframe\">\n",
              "  <thead>\n",
              "    <tr style=\"text-align: right;\">\n",
              "      <th></th>\n",
              "      <th>Date</th>\n",
              "      <th>Open</th>\n",
              "      <th>High</th>\n",
              "      <th>Low</th>\n",
              "      <th>Close</th>\n",
              "      <th>Adj Close</th>\n",
              "      <th>Volume</th>\n",
              "    </tr>\n",
              "  </thead>\n",
              "  <tbody>\n",
              "    <tr>\n",
              "      <th>0</th>\n",
              "      <td>2019-01-30</td>\n",
              "      <td>0.722898</td>\n",
              "      <td>0.732351</td>\n",
              "      <td>0.745525</td>\n",
              "      <td>0.759235</td>\n",
              "      <td>2206.199951</td>\n",
              "      <td>0.242113</td>\n",
              "    </tr>\n",
              "    <tr>\n",
              "      <th>1</th>\n",
              "      <td>2019-01-31</td>\n",
              "      <td>0.763058</td>\n",
              "      <td>0.750069</td>\n",
              "      <td>0.769089</td>\n",
              "      <td>0.757866</td>\n",
              "      <td>2204.850098</td>\n",
              "      <td>0.274771</td>\n",
              "    </tr>\n",
              "    <tr>\n",
              "      <th>2</th>\n",
              "      <td>2019-02-01</td>\n",
              "      <td>0.751894</td>\n",
              "      <td>0.745714</td>\n",
              "      <td>0.769280</td>\n",
              "      <td>0.756456</td>\n",
              "      <td>2203.459961</td>\n",
              "      <td>0.241609</td>\n",
              "    </tr>\n",
              "    <tr>\n",
              "      <th>3</th>\n",
              "      <td>2019-02-07</td>\n",
              "      <td>0.755809</td>\n",
              "      <td>0.742538</td>\n",
              "      <td>0.764596</td>\n",
              "      <td>0.756415</td>\n",
              "      <td>2203.419922</td>\n",
              "      <td>0.215603</td>\n",
              "    </tr>\n",
              "    <tr>\n",
              "      <th>4</th>\n",
              "      <td>2019-02-08</td>\n",
              "      <td>0.731584</td>\n",
              "      <td>0.717777</td>\n",
              "      <td>0.739548</td>\n",
              "      <td>0.729669</td>\n",
              "      <td>2177.050049</td>\n",
              "      <td>0.197057</td>\n",
              "    </tr>\n",
              "    <tr>\n",
              "      <th>...</th>\n",
              "      <td>...</td>\n",
              "      <td>...</td>\n",
              "      <td>...</td>\n",
              "      <td>...</td>\n",
              "      <td>...</td>\n",
              "      <td>...</td>\n",
              "      <td>...</td>\n",
              "    </tr>\n",
              "    <tr>\n",
              "      <th>426</th>\n",
              "      <td>2020-10-26</td>\n",
              "      <td>0.909485</td>\n",
              "      <td>0.911124</td>\n",
              "      <td>0.911803</td>\n",
              "      <td>0.898908</td>\n",
              "      <td>2343.909912</td>\n",
              "      <td>0.414424</td>\n",
              "    </tr>\n",
              "    <tr>\n",
              "      <th>427</th>\n",
              "      <td>2020-10-27</td>\n",
              "      <td>0.870905</td>\n",
              "      <td>0.884388</td>\n",
              "      <td>0.890248</td>\n",
              "      <td>0.885652</td>\n",
              "      <td>2330.840088</td>\n",
              "      <td>0.336105</td>\n",
              "    </tr>\n",
              "    <tr>\n",
              "      <th>428</th>\n",
              "      <td>2020-10-28</td>\n",
              "      <td>0.866338</td>\n",
              "      <td>0.880277</td>\n",
              "      <td>0.885443</td>\n",
              "      <td>0.900278</td>\n",
              "      <td>2345.260010</td>\n",
              "      <td>0.355408</td>\n",
              "    </tr>\n",
              "    <tr>\n",
              "      <th>429</th>\n",
              "      <td>2020-10-29</td>\n",
              "      <td>0.854266</td>\n",
              "      <td>0.864035</td>\n",
              "      <td>0.868724</td>\n",
              "      <td>0.881423</td>\n",
              "      <td>2326.669922</td>\n",
              "      <td>0.256577</td>\n",
              "    </tr>\n",
              "    <tr>\n",
              "      <th>430</th>\n",
              "      <td>2020-10-30</td>\n",
              "      <td>0.861627</td>\n",
              "      <td>0.853445</td>\n",
              "      <td>0.835428</td>\n",
              "      <td>0.821054</td>\n",
              "      <td>2267.149902</td>\n",
              "      <td>0.400960</td>\n",
              "    </tr>\n",
              "  </tbody>\n",
              "</table>\n",
              "<p>431 rows × 7 columns</p>\n",
              "</div>\n",
              "      <button class=\"colab-df-convert\" onclick=\"convertToInteractive('df-071d70f6-14fb-470c-84a5-ead9eded9f07')\"\n",
              "              title=\"Convert this dataframe to an interactive table.\"\n",
              "              style=\"display:none;\">\n",
              "        \n",
              "  <svg xmlns=\"http://www.w3.org/2000/svg\" height=\"24px\"viewBox=\"0 0 24 24\"\n",
              "       width=\"24px\">\n",
              "    <path d=\"M0 0h24v24H0V0z\" fill=\"none\"/>\n",
              "    <path d=\"M18.56 5.44l.94 2.06.94-2.06 2.06-.94-2.06-.94-.94-2.06-.94 2.06-2.06.94zm-11 1L8.5 8.5l.94-2.06 2.06-.94-2.06-.94L8.5 2.5l-.94 2.06-2.06.94zm10 10l.94 2.06.94-2.06 2.06-.94-2.06-.94-.94-2.06-.94 2.06-2.06.94z\"/><path d=\"M17.41 7.96l-1.37-1.37c-.4-.4-.92-.59-1.43-.59-.52 0-1.04.2-1.43.59L10.3 9.45l-7.72 7.72c-.78.78-.78 2.05 0 2.83L4 21.41c.39.39.9.59 1.41.59.51 0 1.02-.2 1.41-.59l7.78-7.78 2.81-2.81c.8-.78.8-2.07 0-2.86zM5.41 20L4 18.59l7.72-7.72 1.47 1.35L5.41 20z\"/>\n",
              "  </svg>\n",
              "      </button>\n",
              "      \n",
              "  <style>\n",
              "    .colab-df-container {\n",
              "      display:flex;\n",
              "      flex-wrap:wrap;\n",
              "      gap: 12px;\n",
              "    }\n",
              "\n",
              "    .colab-df-convert {\n",
              "      background-color: #E8F0FE;\n",
              "      border: none;\n",
              "      border-radius: 50%;\n",
              "      cursor: pointer;\n",
              "      display: none;\n",
              "      fill: #1967D2;\n",
              "      height: 32px;\n",
              "      padding: 0 0 0 0;\n",
              "      width: 32px;\n",
              "    }\n",
              "\n",
              "    .colab-df-convert:hover {\n",
              "      background-color: #E2EBFA;\n",
              "      box-shadow: 0px 1px 2px rgba(60, 64, 67, 0.3), 0px 1px 3px 1px rgba(60, 64, 67, 0.15);\n",
              "      fill: #174EA6;\n",
              "    }\n",
              "\n",
              "    [theme=dark] .colab-df-convert {\n",
              "      background-color: #3B4455;\n",
              "      fill: #D2E3FC;\n",
              "    }\n",
              "\n",
              "    [theme=dark] .colab-df-convert:hover {\n",
              "      background-color: #434B5C;\n",
              "      box-shadow: 0px 1px 3px 1px rgba(0, 0, 0, 0.15);\n",
              "      filter: drop-shadow(0px 1px 2px rgba(0, 0, 0, 0.3));\n",
              "      fill: #FFFFFF;\n",
              "    }\n",
              "  </style>\n",
              "\n",
              "      <script>\n",
              "        const buttonEl =\n",
              "          document.querySelector('#df-071d70f6-14fb-470c-84a5-ead9eded9f07 button.colab-df-convert');\n",
              "        buttonEl.style.display =\n",
              "          google.colab.kernel.accessAllowed ? 'block' : 'none';\n",
              "\n",
              "        async function convertToInteractive(key) {\n",
              "          const element = document.querySelector('#df-071d70f6-14fb-470c-84a5-ead9eded9f07');\n",
              "          const dataTable =\n",
              "            await google.colab.kernel.invokeFunction('convertToInteractive',\n",
              "                                                     [key], {});\n",
              "          if (!dataTable) return;\n",
              "\n",
              "          const docLinkHtml = 'Like what you see? Visit the ' +\n",
              "            '<a target=\"_blank\" href=https://colab.research.google.com/notebooks/data_table.ipynb>data table notebook</a>'\n",
              "            + ' to learn more about interactive tables.';\n",
              "          element.innerHTML = '';\n",
              "          dataTable['output_type'] = 'display_data';\n",
              "          await google.colab.output.renderOutput(dataTable, element);\n",
              "          const docLink = document.createElement('div');\n",
              "          docLink.innerHTML = docLinkHtml;\n",
              "          element.appendChild(docLink);\n",
              "        }\n",
              "      </script>\n",
              "    </div>\n",
              "  </div>\n",
              "  "
            ]
          },
          "metadata": {},
          "execution_count": 4
        }
      ]
    },
    {
      "cell_type": "code",
      "source": [
        "device = torch.device(\"cuda:0\"if torch.cuda.is_available() else \"cpu\")\n",
        "device"
      ],
      "metadata": {
        "colab": {
          "base_uri": "https://localhost:8080/"
        },
        "id": "qh-H-MWjcsZj",
        "outputId": "86d616de-a097-4b7a-e9c8-1421c6007e1f"
      },
      "execution_count": 5,
      "outputs": [
        {
          "output_type": "execute_result",
          "data": {
            "text/plain": [
              "device(type='cuda', index=0)"
            ]
          },
          "metadata": {},
          "execution_count": 5
        }
      ]
    },
    {
      "cell_type": "markdown",
      "source": [
        "#입력값, 라벨값 지정"
      ],
      "metadata": {
        "id": "DFC9rt06dqZn"
      }
    },
    {
      "cell_type": "markdown",
      "source": [
        "### 데이터 프레임에서는 values를 이용하면 넘파이로 변환 가능\n"
      ],
      "metadata": {
        "id": "uxLq9OlddoVw"
      }
    },
    {
      "cell_type": "code",
      "source": [
        "X = df[['Open','High','Low','Volume']].values #feature data\n",
        "y = df[['Close']].values #target data "
      ],
      "metadata": {
        "id": "4tvkqkYSc-ex"
      },
      "execution_count": 6,
      "outputs": []
    },
    {
      "cell_type": "markdown",
      "source": [
        "## 시퀀스 생성 함수"
      ],
      "metadata": {
        "id": "R99-b8pRd6m3"
      }
    },
    {
      "cell_type": "markdown",
      "source": [
        "### 시퀀스 순서 직접 값 넣어보기"
      ],
      "metadata": {
        "id": "OHWqi6IsekzN"
      }
    },
    {
      "cell_type": "code",
      "source": [
        "def seq_data(x, y, sequence_length): #며칠 간격으로 볼 것인지 선택\n",
        "    x_seq = [] #시퀀스 저장 빈리스트\n",
        "    y_seq = [] \n",
        "    for i in range(len(x)-sequence_length): #값이 커짐\n",
        "        x_seq.append(x[i:i+sequence_length])  #커진만큼 간격도 이동\n",
        "        y_seq.append(y[i+sequence_length]) # 타겟은 다음날 값. 즉 마지막 값이다.\n",
        "        \n",
        "    return torch.FloatTensor(x_seq).to(device), torch.FloatTensor(y_seq).to(device).view(-1,1) \n",
        "    #float32 GPU텐서 변환 후 2차원으로 만듦\n",
        "    #텐서 변수 초기화 때는 대문자 사용함. https://subinium.github.io/pytorch-Tensor-Variable/\n",
        "    #MSE loss는 2차원 데이터를 타깃데이터로 받는다."
      ],
      "metadata": {
        "id": "ndFGWw_vdGKp"
      },
      "execution_count": 7,
      "outputs": []
    },
    {
      "cell_type": "markdown",
      "source": [
        "#### 200개는 학습용 데이터, 226개는 테스트용 데이터"
      ],
      "metadata": {
        "id": "kXtHWK24gYlo"
      }
    },
    {
      "cell_type": "code",
      "source": [
        "split = 200\n",
        "sequence_length = 5 # (sequence_length, 입력 변수의 개수) 만큼의 list가 (전체 데이터-sequence_length)번 추가\n",
        "x_seq, y_seq = seq_data(X, y, sequence_length) \n",
        "x_train_seq = x_seq[:split]\n",
        "y_train_seq = y_seq[:split]\n",
        "x_test_seq = x_seq[split:]\n",
        "y_test_seq = y_seq[split:]\n",
        "print(x_train_seq.size(), y_train_seq.size())\n",
        "print(x_test_seq.size(), y_test_seq.size())"
      ],
      "metadata": {
        "colab": {
          "base_uri": "https://localhost:8080/"
        },
        "id": "RdEhgZYTdcXM",
        "outputId": "1c0d1d54-d51a-498e-dc4c-be97d33b689e"
      },
      "execution_count": 8,
      "outputs": [
        {
          "output_type": "stream",
          "name": "stderr",
          "text": [
            "/usr/local/lib/python3.7/dist-packages/ipykernel_launcher.py:8: UserWarning: Creating a tensor from a list of numpy.ndarrays is extremely slow. Please consider converting the list to a single numpy.ndarray with numpy.array() before converting to a tensor. (Triggered internally at  ../torch/csrc/utils/tensor_new.cpp:210.)\n",
            "  \n"
          ]
        },
        {
          "output_type": "stream",
          "name": "stdout",
          "text": [
            "torch.Size([200, 5, 4]) torch.Size([200, 1])\n",
            "torch.Size([226, 5, 4]) torch.Size([226, 1])\n"
          ]
        }
      ]
    },
    {
      "cell_type": "markdown",
      "source": [
        "### DataLoader"
      ],
      "metadata": {
        "id": "LLVSMnXhiNO6"
      }
    },
    {
      "cell_type": "code",
      "source": [
        "train = torch.utils.data.TensorDataset(x_train_seq, y_train_seq)\n",
        "test = torch.utils.data.TensorDataset(x_test_seq, y_test_seq)\n",
        "batch_size = 20\n",
        "train_loader = torch.utils.data.DataLoader(dataset = train, batch_size = batch_size, shuffle = True)\n",
        "test_loader = torch.utils.data.DataLoader(dataset = test, batch_size = batch_size)"
      ],
      "metadata": {
        "id": "j0pefePig_eG"
      },
      "execution_count": 9,
      "outputs": []
    },
    {
      "cell_type": "code",
      "source": [
        "input_size = x_seq.size(2) #입력 변수의 개수(=변수의 크기)로 초기화\n",
        "num_layers = 2 #은닉층의 개수\n",
        "hidden_size = 8 #은닉상태 저장 벡터 크기"
      ],
      "metadata": {
        "id": "kv1OqunMfj3C"
      },
      "execution_count": 10,
      "outputs": []
    },
    {
      "cell_type": "code",
      "source": [
        "input_size"
      ],
      "metadata": {
        "colab": {
          "base_uri": "https://localhost:8080/"
        },
        "id": "GeBLAY67iWQ6",
        "outputId": "e21791f1-6442-48f1-ba7f-0dfb45048bef"
      },
      "execution_count": 11,
      "outputs": [
        {
          "output_type": "execute_result",
          "data": {
            "text/plain": [
              "4"
            ]
          },
          "metadata": {},
          "execution_count": 11
        }
      ]
    },
    {
      "cell_type": "markdown",
      "source": [
        "### 입력 사이즈, 변환 사이즈 확인"
      ],
      "metadata": {
        "id": "Snzmo1QlnWpL"
      }
    },
    {
      "cell_type": "code",
      "source": [
        "class VanilaRNN(nn.Module): #가장 기본이 되므로 바닐라라고 함\n",
        "    #입력 [200, 5, 4] = [배치 사이즈, 변수의 크기, 시퀀스 길이]\n",
        "    def __init__(self, input_size, hidden_size, sequence_length, num_layers, device):\n",
        "        super(VanilaRNN, self).__init__()\n",
        "        self.device = device\n",
        "        self.hidden_size = hidden_size\n",
        "        self.num_layers = num_layers\n",
        "        self.rnn = nn.RNN(input_size, hidden_size, num_layers, batch_first = True) # RNN(시퀀스 길이, 배치사이즈, 변수의 크기) ?\n",
        "        self.fc = nn.Sequential(nn.Linear(hidden_size*sequence_length,1),nn.Sigmoid()) \n",
        "\n",
        "    def forward(self, x):\n",
        "        h0 = torch.zeros(self.num_layers, x.size()[0], self.hidden_size).to(self.device) #초기값을 크기만 맞추어서 0인 텐서로 형성\n",
        "        out,_ = self.rnn(x, h0) # 반환은 예측값, 예측상태임. 뒤에 값을 버림\n",
        "        # out => [20,5,8]\n",
        "        out = out.reshape(out.shape[0],-1) \n",
        "        # out => [20,40]\n",
        "        out = self.fc(out)\n",
        "        # out => [20,1] fc했더니 40이 어떻게 1로 변했는지 혼동...\n",
        "\n",
        "        return out"
      ],
      "metadata": {
        "id": "07BTFIWwiJQy"
      },
      "execution_count": 12,
      "outputs": []
    },
    {
      "cell_type": "code",
      "source": [
        "model = VanilaRNN(input_size = input_size,\n",
        "                   hidden_size = hidden_size,\n",
        "                   sequence_length = sequence_length,\n",
        "                   num_layers = num_layers,\n",
        "                   device = device).to(device) "
      ],
      "metadata": {
        "id": "4NXjfHBzj6ql"
      },
      "execution_count": 13,
      "outputs": []
    },
    {
      "cell_type": "markdown",
      "source": [
        "### Loss func & Optimizer"
      ],
      "metadata": {
        "id": "BeYk-zW3n-Uh"
      }
    },
    {
      "cell_type": "code",
      "source": [
        "criterion = nn.MSELoss()\n",
        "num_epochs = 301\n",
        "optimizer = optim.Adam(model.parameters(), lr = 1e-3)"
      ],
      "metadata": {
        "id": "jJOl5bbIlx2_"
      },
      "execution_count": 14,
      "outputs": []
    },
    {
      "cell_type": "markdown",
      "source": [
        "### Model Train"
      ],
      "metadata": {
        "id": "Qut_SJZhn6Gy"
      }
    },
    {
      "cell_type": "code",
      "source": [
        "loss_graph = []\n",
        "n = len(train_loader)\n",
        "\n",
        "for epoch in range(num_epochs):\n",
        "    running_loss = 0.0\n",
        "    for data in train_loader:\n",
        "        seq, target = data # 배치 데이터\n",
        "        seq = seq.to(device)\n",
        "        out = model(seq)\n",
        "        loss = criterion(out, target)\n",
        "\n",
        "        optimizer.zero_grad()\n",
        "        loss.backward()\n",
        "        optimizer.step()\n",
        "        running_loss += loss.item()\n",
        "\n",
        "    loss_graph.append(running_loss/n)\n",
        "    if epoch % 100 == 0:\n",
        "        print('[epoch : %d] loss: %.4f' %(epoch, running_loss/n))"
      ],
      "metadata": {
        "colab": {
          "base_uri": "https://localhost:8080/"
        },
        "id": "ei9mVwd2mD7n",
        "outputId": "c9a45055-ac2c-4145-9ee6-8510c81399ae"
      },
      "execution_count": 15,
      "outputs": [
        {
          "output_type": "stream",
          "name": "stdout",
          "text": [
            "[epoch : 0] loss: 0.0173\n",
            "[epoch : 100] loss: 0.0007\n",
            "[epoch : 200] loss: 0.0005\n",
            "[epoch : 300] loss: 0.0004\n"
          ]
        }
      ]
    },
    {
      "cell_type": "code",
      "source": [
        "plt.figure(figsize = (20,10))\n",
        "plt.plot(loss_graph)\n",
        "plt.show()"
      ],
      "metadata": {
        "colab": {
          "base_uri": "https://localhost:8080/",
          "height": 563
        },
        "id": "hMlOmFCpmJ82",
        "outputId": "f33d0da1-929f-45c8-d7f9-498dde792dfd"
      },
      "execution_count": 16,
      "outputs": [
        {
          "output_type": "display_data",
          "data": {
            "text/plain": [
              "<Figure size 1440x720 with 1 Axes>"
            ],
            "image/png": "[encoded data removed]"
          },
          "metadata": {
            "needs_background": "light"
          }
        }
      ]
    },
    {
      "cell_type": "markdown",
      "source": [
        "### 주가 그래프 그리기"
      ],
      "metadata": {
        "id": "nQHVEWLIsPmc"
      }
    },
    {
      "cell_type": "code",
      "source": [
        "concatdata  = torch.utils.data.ConcatDataset([train, test])\n",
        "data_loader = torch.utils.data.DataLoader(dataset = concatdata, batch_size = 100)\n",
        "with torch.no_grad():\n",
        "    pred = []\n",
        "    model.eval()\n",
        "    for data in data_loader:\n",
        "        seq, target = data\n",
        "        out = model(seq)\n",
        "        pred+=out.cpu().tolist()"
      ],
      "metadata": {
        "id": "SYkWJKRqsM20"
      },
      "execution_count": 17,
      "outputs": []
    },
    {
      "cell_type": "code",
      "source": [
        "plt.figure(figsize = (20,10))\n",
        "plt.plot(np.ones(100)*len(train), np.linspace(0,1,100),'--', linewidth=0.6) #np.linspace(start, stop, num개수)로 훈련 데이터와 테스트 데이터의 구간 나눔\n",
        "plt.plot(df['Close'][sequence_length:].values,'--')\n",
        "plt.plot(pred,'b',linewidth=0.6)\n",
        "plt.legend(['train boundary','actual','prediction'])\n",
        "plt.show()\n",
        "\n",
        "# 평가 부분은 급락하는 부분은 잡아내지 못한다."
      ],
      "metadata": {
        "colab": {
          "base_uri": "https://localhost:8080/",
          "height": 572
        },
        "id": "9lZX_O-xtIax",
        "outputId": "3ea1303b-507e-4d75-f891-32117a630b24"
      },
      "execution_count": 18,
      "outputs": [
        {
          "output_type": "display_data",
          "data": {
            "text/plain": [
              "<Figure size 1440x720 with 1 Axes>"
            ],
            "image/png": "[encoded data removed]"
          },
          "metadata": {
            "needs_background": "light"
          }
        }
      ]
    },
    {
      "cell_type": "code",
      "source": [
        ""
      ],
      "metadata": {
        "id": "v6kxixO_tghw"
      },
      "execution_count": 18,
      "outputs": []
    }
  ]
}