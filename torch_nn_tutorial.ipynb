{
  "nbformat": 4,
  "nbformat_minor": 0,
  "metadata": {
    "colab": {
      "name": "torch.nn tutorial",
      "provenance": [],
      "collapsed_sections": [],
      "authorship_tag": "ABX9TyNllNSIITn/RQk2JoOHZ34x",
      "include_colab_link": true
    },
    "kernelspec": {
      "name": "python3",
      "display_name": "Python 3"
    },
    "language_info": {
      "name": "python"
    }
  },
  "cells": [
    {
      "cell_type": "markdown",
      "metadata": {
        "id": "view-in-github",
        "colab_type": "text"
      },
      "source": [
        "<a href=\"https://colab.research.google.com/github/wonjae124/2021_Lab_project/blob/main/torch_nn_tutorial.ipynb\" target=\"_parent\"><img src=\"https://colab.research.google.com/assets/colab-badge.svg\" alt=\"Open In Colab\"/></a>"
      ]
    },
    {
      "cell_type": "code",
      "execution_count": 1,
      "metadata": {
        "id": "-kv09lmY6xZN"
      },
      "outputs": [],
      "source": [
        "import torch\n",
        "import torch.nn as nn\n",
        "import torch.nn.functional as F"
      ]
    },
    {
      "cell_type": "markdown",
      "source": [
        "#모델에 conv나 linear를 1개 추가시 parameter 개수는 2개 증가한다. 왜냐하면 weight와 bias로 총 2개가 증가하기 때문이다."
      ],
      "metadata": {
        "id": "DIMA7DY1aCJy"
      }
    },
    {
      "cell_type": "code",
      "source": [
        "class Net(nn.Module):\n",
        "    def __init__(self):\n",
        "        super(Net, self).__init__()\n",
        "        self.conv1 = nn.Conv2d(1, 6, 3)\n",
        "        self.conv2 = nn.Conv2d(6, 16, 3)\n",
        "        self.fc1 = nn.Linear(16*6*6, 120)\n",
        "        self.fc2 = nn.Linear(120, 84)\n",
        "        self.fc3 = nn.Linear(84, 10)\n",
        "\n",
        "    def forward(self, x):\n",
        "        x = F.max_pool2d(F.relu(self.conv1(x)),(2,2))\n",
        "        x = F.max_pool2d(F.relu(self.conv2(x)),2)\n",
        "        x = x.view(-1, self.num_flat_features(x))\n",
        "        x = F.relu(self.fc1(x)) \n",
        "        x = F.relu(self.fc2(x))\n",
        "        x = self.fc3(x)\n",
        "        return x\n",
        "\n",
        "    def num_flat_features(self, x):\n",
        "        size = x.size()[1:]\n",
        "        num_features = 1\n",
        "        for s in size:\n",
        "            num_features *= s\n",
        "        return num_features\n",
        "\n"
      ],
      "metadata": {
        "id": "AxhIaWfm7FAC"
      },
      "execution_count": 2,
      "outputs": []
    },
    {
      "cell_type": "code",
      "source": [
        "net = Net()\n",
        "print(net)"
      ],
      "metadata": {
        "colab": {
          "base_uri": "https://localhost:8080/"
        },
        "id": "LK79p09X9cG8",
        "outputId": "c2f0cb0d-bd88-4d47-ba0b-63e6792252d3"
      },
      "execution_count": 3,
      "outputs": [
        {
          "output_type": "stream",
          "name": "stdout",
          "text": [
            "Net(\n",
            "  (conv1): Conv2d(1, 6, kernel_size=(3, 3), stride=(1, 1))\n",
            "  (conv2): Conv2d(6, 16, kernel_size=(3, 3), stride=(1, 1))\n",
            "  (fc1): Linear(in_features=576, out_features=120, bias=True)\n",
            "  (fc2): Linear(in_features=120, out_features=84, bias=True)\n",
            "  (fc3): Linear(in_features=84, out_features=10, bias=True)\n",
            ")\n"
          ]
        }
      ]
    },
    {
      "cell_type": "code",
      "source": [
        "for param in net.parameters(): #6,1,3,3은 weight이고 단일 값인 6은 bias이다.\n",
        "    print(type(param),param.size())"
      ],
      "metadata": {
        "colab": {
          "base_uri": "https://localhost:8080/"
        },
        "id": "nd-TfVur-HXo",
        "outputId": "e9101810-d375-4270-9d37-66bdfac8bb39"
      },
      "execution_count": 4,
      "outputs": [
        {
          "output_type": "stream",
          "name": "stdout",
          "text": [
            "<class 'torch.nn.parameter.Parameter'> torch.Size([6, 1, 3, 3])\n",
            "<class 'torch.nn.parameter.Parameter'> torch.Size([6])\n",
            "<class 'torch.nn.parameter.Parameter'> torch.Size([16, 6, 3, 3])\n",
            "<class 'torch.nn.parameter.Parameter'> torch.Size([16])\n",
            "<class 'torch.nn.parameter.Parameter'> torch.Size([120, 576])\n",
            "<class 'torch.nn.parameter.Parameter'> torch.Size([120])\n",
            "<class 'torch.nn.parameter.Parameter'> torch.Size([84, 120])\n",
            "<class 'torch.nn.parameter.Parameter'> torch.Size([84])\n",
            "<class 'torch.nn.parameter.Parameter'> torch.Size([10, 84])\n",
            "<class 'torch.nn.parameter.Parameter'> torch.Size([10])\n"
          ]
        }
      ]
    },
    {
      "cell_type": "code",
      "source": [
        "params = list(net.parameters())\n",
        "print(len(params))\n",
        "print(params[0].size())\n",
        "\n"
      ],
      "metadata": {
        "colab": {
          "base_uri": "https://localhost:8080/"
        },
        "id": "HO-_d9yV82Q7",
        "outputId": "fd31ac3a-20ab-48ae-bd31-f27131c27eb1"
      },
      "execution_count": 5,
      "outputs": [
        {
          "output_type": "stream",
          "name": "stdout",
          "text": [
            "10\n",
            "torch.Size([6, 1, 3, 3])\n"
          ]
        }
      ]
    },
    {
      "cell_type": "code",
      "source": [
        "input = torch.randn(1, 1, 32, 32)\n",
        "out = net(input)\n",
        "print(out)\n"
      ],
      "metadata": {
        "colab": {
          "base_uri": "https://localhost:8080/"
        },
        "id": "-_tGL3npbxZ2",
        "outputId": "69a86da9-b8b5-48ab-d70e-8136ed3b7922"
      },
      "execution_count": 23,
      "outputs": [
        {
          "output_type": "stream",
          "name": "stdout",
          "text": [
            "tensor([[-0.0690,  0.1088, -0.0685,  0.0086,  0.1180, -0.0991, -0.0494,  0.0592,\n",
            "          0.0406,  0.0422]], grad_fn=<AddmmBackward0>)\n"
          ]
        }
      ]
    },
    {
      "cell_type": "code",
      "source": [
        "net.zero_grad()\n",
        "out.backward(torch.randn(1, 10))"
      ],
      "metadata": {
        "id": "nmnSFTtOccHl"
      },
      "execution_count": 24,
      "outputs": []
    },
    {
      "cell_type": "markdown",
      "source": [
        "#손실함수"
      ],
      "metadata": {
        "id": "QRGV7ltCcoU3"
      }
    },
    {
      "cell_type": "code",
      "source": [
        "input.shape"
      ],
      "metadata": {
        "colab": {
          "base_uri": "https://localhost:8080/"
        },
        "id": "E62m3tiRckBt",
        "outputId": "64479c75-eea3-4644-a41d-73ca9c76d94a"
      },
      "execution_count": 26,
      "outputs": [
        {
          "output_type": "execute_result",
          "data": {
            "text/plain": [
              "torch.Size([1, 1, 32, 32])"
            ]
          },
          "metadata": {},
          "execution_count": 26
        }
      ]
    },
    {
      "cell_type": "code",
      "source": [
        "out = net(input)\n",
        "out"
      ],
      "metadata": {
        "colab": {
          "base_uri": "https://localhost:8080/"
        },
        "id": "R2hORYYWc-5e",
        "outputId": "82f55819-48d4-4c7f-89bc-1709603e19ef"
      },
      "execution_count": 28,
      "outputs": [
        {
          "output_type": "execute_result",
          "data": {
            "text/plain": [
              "tensor([[-0.0690,  0.1088, -0.0685,  0.0086,  0.1180, -0.0991, -0.0494,  0.0592,\n",
              "          0.0406,  0.0422]], grad_fn=<AddmmBackward0>)"
            ]
          },
          "metadata": {},
          "execution_count": 28
        }
      ]
    },
    {
      "cell_type": "code",
      "source": [
        "out.shape"
      ],
      "metadata": {
        "colab": {
          "base_uri": "https://localhost:8080/"
        },
        "id": "u2wwigQlcrE-",
        "outputId": "1a849377-e74d-4aca-928f-3efd459a1229"
      },
      "execution_count": 29,
      "outputs": [
        {
          "output_type": "execute_result",
          "data": {
            "text/plain": [
              "torch.Size([1, 10])"
            ]
          },
          "metadata": {},
          "execution_count": 29
        }
      ]
    },
    {
      "cell_type": "code",
      "source": [
        "output = net(input)\n",
        "target = torch.randn(10)\n",
        "target = target.view(1, -1)\n",
        "criterion = nn.MSELoss()\n",
        "\n",
        "loss = criterion(output, target)\n",
        "print('loss : ', loss)"
      ],
      "metadata": {
        "colab": {
          "base_uri": "https://localhost:8080/"
        },
        "id": "akJtDPy-dEGe",
        "outputId": "067d877e-6eda-4839-9452-41c49cbf7001"
      },
      "execution_count": 33,
      "outputs": [
        {
          "output_type": "stream",
          "name": "stdout",
          "text": [
            "loss :  tensor(1.6406, grad_fn=<MseLossBackward0>)\n"
          ]
        }
      ]
    },
    {
      "cell_type": "markdown",
      "source": [
        "# nn.Linear \n",
        "# y =xA^t+b\n"
      ],
      "metadata": {
        "id": "myFB5fcRAYo-"
      }
    },
    {
      "cell_type": "code",
      "source": [
        "m = nn.Linear(20,30) # in_feature 20을 out_features 30으로 바꾸겠다.\n",
        "input = torch.randn(128, 20)\n",
        "output = m(input) # (128X20) => 128X30 \n",
        "print(output.size())\n",
        "\n",
        "n = nn.Linear(20,30) # output. A = 20X30 인데 A^T로 바꾸므로 30X20이 된다. 마지막만 바꿀 기준이 될 수 있다.\n",
        "input = torch.randn(40,50,20) #input. 마지막만 바꿀 수 있다.\n",
        "output = n(input)\n",
        "print(output.size())\n",
        "\n",
        "k = nn.Linear(10*20,10*30)\n",
        "input = torch.randn(40,50,200)\n",
        "output = k(input)\n",
        "print(output.size())\n"
      ],
      "metadata": {
        "colab": {
          "base_uri": "https://localhost:8080/"
        },
        "id": "-oypXn4a_pdQ",
        "outputId": "6e43831c-602f-43b0-df56-73b841fdcfc4"
      },
      "execution_count": 7,
      "outputs": [
        {
          "output_type": "stream",
          "name": "stdout",
          "text": [
            "torch.Size([128, 30])\n",
            "torch.Size([40, 50, 30])\n",
            "torch.Size([40, 50, 300])\n"
          ]
        }
      ]
    },
    {
      "cell_type": "markdown",
      "source": [
        "# TORCH.TENSOR.VIEW"
      ],
      "metadata": {
        "id": "clhDuxniJihQ"
      }
    },
    {
      "cell_type": "code",
      "source": [
        "x = torch.randn(4, 4)\n",
        "x.size()"
      ],
      "metadata": {
        "colab": {
          "base_uri": "https://localhost:8080/"
        },
        "id": "wMFvbTyvJhAT",
        "outputId": "77657c05-7874-47df-ecee-d9f6469f30fa"
      },
      "execution_count": 8,
      "outputs": [
        {
          "output_type": "execute_result",
          "data": {
            "text/plain": [
              "torch.Size([4, 4])"
            ]
          },
          "metadata": {},
          "execution_count": 8
        }
      ]
    },
    {
      "cell_type": "code",
      "source": [
        "y = x.view(16)\n",
        "y.size()"
      ],
      "metadata": {
        "colab": {
          "base_uri": "https://localhost:8080/"
        },
        "id": "IVlqIm-4Jylq",
        "outputId": "3a0910f3-87e7-4909-fc82-21ee1e3961cb"
      },
      "execution_count": 9,
      "outputs": [
        {
          "output_type": "execute_result",
          "data": {
            "text/plain": [
              "torch.Size([16])"
            ]
          },
          "metadata": {},
          "execution_count": 9
        }
      ]
    },
    {
      "cell_type": "code",
      "source": [
        "z = x.view(-1,8) # -1은 임의로 크기를 만들어낸다."
      ],
      "metadata": {
        "id": "luPD2VCqJ3qy"
      },
      "execution_count": 10,
      "outputs": []
    },
    {
      "cell_type": "code",
      "source": [
        "z.size()"
      ],
      "metadata": {
        "colab": {
          "base_uri": "https://localhost:8080/"
        },
        "id": "E-BT6dd4J5LU",
        "outputId": "306e281d-196f-4a81-8dde-49495582a903"
      },
      "execution_count": 11,
      "outputs": [
        {
          "output_type": "execute_result",
          "data": {
            "text/plain": [
              "torch.Size([2, 8])"
            ]
          },
          "metadata": {},
          "execution_count": 11
        }
      ]
    }
  ]
}