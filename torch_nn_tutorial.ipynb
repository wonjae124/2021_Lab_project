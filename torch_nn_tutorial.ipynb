{
  "nbformat": 4,
  "nbformat_minor": 0,
  "metadata": {
    "colab": {
      "name": "torch.nn tutorial",
      "provenance": [],
      "collapsed_sections": [],
      "authorship_tag": "ABX9TyN+PVmQogxEIAaJkgw/idAR",
      "include_colab_link": true
    },
    "kernelspec": {
      "name": "python3",
      "display_name": "Python 3"
    },
    "language_info": {
      "name": "python"
    }
  },
  "cells": [
    {
      "cell_type": "markdown",
      "metadata": {
        "id": "view-in-github",
        "colab_type": "text"
      },
      "source": [
        "<a href=\"https://colab.research.google.com/github/wonjae124/2021_Lab_project/blob/main/torch_nn_tutorial.ipynb\" target=\"_parent\"><img src=\"https://colab.research.google.com/assets/colab-badge.svg\" alt=\"Open In Colab\"/></a>"
      ]
    },
    {
      "cell_type": "code",
      "execution_count": 3,
      "metadata": {
        "id": "-kv09lmY6xZN"
      },
      "outputs": [],
      "source": [
        "import torch\n",
        "import torch.nn as nn\n",
        "import torch.nn.functional as F"
      ]
    },
    {
      "cell_type": "markdown",
      "source": [
        "#모델에 conv나 linear를 1개 추가시 parameter 개수는 2개 증가한다. 왜냐하면 weight와 bias로 총 2개가 증가하기 때문이다."
      ],
      "metadata": {
        "id": "DIMA7DY1aCJy"
      }
    },
    {
      "cell_type": "code",
      "source": [
        "class Net(nn.Module):\n",
        "    def __init__(self):\n",
        "        super(Net, self).__init__()\n",
        "        self.conv1 = nn.Conv2d(1, 6, 3)\n",
        "        self.conv2 = nn.Conv2d(6, 16, 3)\n",
        "        self.fc1 = nn.Linear(16*6*6, 120)\n",
        "        self.fc2 = nn.Linear(120, 84)\n",
        "        self.fc3 = nn.Linear(84, 10)\n",
        " #       self.fc4 = nn.Linear(10,10)\n",
        "\n",
        "    def forward(self, x):\n",
        "        x = F.max_pool2d(F.relu(self.conv1(x)),(2,2))\n",
        "        x = F.max_pool2d(F.relu(self.conv2(x)),2)\n",
        "        x = x.view(-1, self.num_flat_features(x))\n",
        "        x = F.relu(self.fc1(x)) \n",
        "        x = F.relu(self.fc2(x))\n",
        "        x = self.fc3(x)\n",
        "        x = self.fc4(x)\n",
        "        return x\n",
        "\n",
        "    def num_flat_features(self, x):\n",
        "        size = x.size()[1:]\n",
        "        num_features = 1\n",
        "        for s in size:\n",
        "            num_features *= s\n",
        "        return num_features\n",
        "\n"
      ],
      "metadata": {
        "id": "AxhIaWfm7FAC"
      },
      "execution_count": 104,
      "outputs": []
    },
    {
      "cell_type": "code",
      "source": [
        "net = Net()\n",
        "print(net)"
      ],
      "metadata": {
        "colab": {
          "base_uri": "https://localhost:8080/"
        },
        "id": "LK79p09X9cG8",
        "outputId": "2cc322a3-1c5b-4730-f029-69c5a1e1b62d"
      },
      "execution_count": 105,
      "outputs": [
        {
          "output_type": "stream",
          "name": "stdout",
          "text": [
            "Net(\n",
            "  (conv1): Conv2d(1, 6, kernel_size=(3, 3), stride=(1, 1))\n",
            "  (conv2): Conv2d(6, 16, kernel_size=(3, 3), stride=(1, 1))\n",
            "  (fc1): Linear(in_features=576, out_features=120, bias=True)\n",
            "  (fc2): Linear(in_features=120, out_features=84, bias=True)\n",
            "  (fc3): Linear(in_features=84, out_features=10, bias=True)\n",
            "  (fc4): Linear(in_features=10, out_features=10, bias=True)\n",
            ")\n"
          ]
        }
      ]
    },
    {
      "cell_type": "code",
      "source": [
        "for param in net.parameters(): #6,1,3,3은 weight이고 단일 값인 6은 bias이다.\n",
        "    print(type(param),param.size())"
      ],
      "metadata": {
        "colab": {
          "base_uri": "https://localhost:8080/"
        },
        "id": "nd-TfVur-HXo",
        "outputId": "bcd6c4fa-960a-43cf-cd9c-e82d30a41463"
      },
      "execution_count": 106,
      "outputs": [
        {
          "output_type": "stream",
          "name": "stdout",
          "text": [
            "<class 'torch.nn.parameter.Parameter'> torch.Size([6, 1, 3, 3])\n",
            "<class 'torch.nn.parameter.Parameter'> torch.Size([6])\n",
            "<class 'torch.nn.parameter.Parameter'> torch.Size([16, 6, 3, 3])\n",
            "<class 'torch.nn.parameter.Parameter'> torch.Size([16])\n",
            "<class 'torch.nn.parameter.Parameter'> torch.Size([120, 576])\n",
            "<class 'torch.nn.parameter.Parameter'> torch.Size([120])\n",
            "<class 'torch.nn.parameter.Parameter'> torch.Size([84, 120])\n",
            "<class 'torch.nn.parameter.Parameter'> torch.Size([84])\n",
            "<class 'torch.nn.parameter.Parameter'> torch.Size([10, 84])\n",
            "<class 'torch.nn.parameter.Parameter'> torch.Size([10])\n",
            "<class 'torch.nn.parameter.Parameter'> torch.Size([10, 10])\n",
            "<class 'torch.nn.parameter.Parameter'> torch.Size([10])\n"
          ]
        }
      ]
    },
    {
      "cell_type": "code",
      "source": [
        "params = list(net.parameters())\n",
        "print(len(params))\n",
        "print(params[0].size)\n",
        "\n"
      ],
      "metadata": {
        "colab": {
          "base_uri": "https://localhost:8080/"
        },
        "id": "HO-_d9yV82Q7",
        "outputId": "6f0e8c6b-6092-4a45-a3b3-cbdfa5769e6e"
      },
      "execution_count": 107,
      "outputs": [
        {
          "output_type": "stream",
          "name": "stdout",
          "text": [
            "12\n",
            "<built-in method size of Parameter object at 0x7fdd210a8bf0>\n"
          ]
        }
      ]
    },
    {
      "cell_type": "markdown",
      "source": [
        "# nn.Linear \n",
        "# y =xA^t+b\n"
      ],
      "metadata": {
        "id": "myFB5fcRAYo-"
      }
    },
    {
      "cell_type": "code",
      "source": [
        "m = nn.Linear(20,30) # in_feature 20을 out_features 30으로 바꾸겠다.\n",
        "input = torch.randn(128, 20)\n",
        "output = m(input) # (128X20) => 128X30 \n",
        "print(output.size())\n",
        "\n",
        "n = nn.Linear(20,30) # output. A = 20X30 인데 A^T로 바꾸므로 30X20이 된다. 마지막만 바꿀 기준이 될 수 있다.\n",
        "input = torch.randn(40,50,20) #input. 마지막만 바꿀 수 있다.\n",
        "output = n(input)\n",
        "print(output.size())\n",
        "\n",
        "k = nn.Linear(10*20,10*30)\n",
        "input = torch.randn(40,50,200)\n",
        "output = k(input)\n",
        "print(output.size())\n"
      ],
      "metadata": {
        "colab": {
          "base_uri": "https://localhost:8080/"
        },
        "id": "-oypXn4a_pdQ",
        "outputId": "3088d5e4-8ce8-4c34-c34f-4fe979b66f37"
      },
      "execution_count": 44,
      "outputs": [
        {
          "output_type": "stream",
          "name": "stdout",
          "text": [
            "torch.Size([128, 30])\n",
            "torch.Size([40, 50, 30])\n",
            "torch.Size([40, 50, 300])\n"
          ]
        }
      ]
    },
    {
      "cell_type": "markdown",
      "source": [
        "# TORCH.TENSOR.VIEW"
      ],
      "metadata": {
        "id": "clhDuxniJihQ"
      }
    },
    {
      "cell_type": "code",
      "source": [
        "x = torch.randn(4, 4)\n",
        "x.size()"
      ],
      "metadata": {
        "colab": {
          "base_uri": "https://localhost:8080/"
        },
        "id": "wMFvbTyvJhAT",
        "outputId": "49295d95-b12d-490c-d841-9b6a0da96873"
      },
      "execution_count": 73,
      "outputs": [
        {
          "output_type": "execute_result",
          "data": {
            "text/plain": [
              "torch.Size([4, 4])"
            ]
          },
          "metadata": {},
          "execution_count": 73
        }
      ]
    },
    {
      "cell_type": "code",
      "source": [
        "y = x.view(16)\n",
        "y.size()"
      ],
      "metadata": {
        "colab": {
          "base_uri": "https://localhost:8080/"
        },
        "id": "IVlqIm-4Jylq",
        "outputId": "f096ba2e-0271-4947-8b15-a0db42081251"
      },
      "execution_count": 74,
      "outputs": [
        {
          "output_type": "execute_result",
          "data": {
            "text/plain": [
              "torch.Size([16])"
            ]
          },
          "metadata": {},
          "execution_count": 74
        }
      ]
    },
    {
      "cell_type": "code",
      "source": [
        "z = x.view(-1,8) # -1은 임의로 크기를 만들어낸다."
      ],
      "metadata": {
        "id": "luPD2VCqJ3qy"
      },
      "execution_count": 75,
      "outputs": []
    },
    {
      "cell_type": "code",
      "source": [
        "z.size()"
      ],
      "metadata": {
        "colab": {
          "base_uri": "https://localhost:8080/"
        },
        "id": "E-BT6dd4J5LU",
        "outputId": "acb9d03a-79cd-4410-85d0-1a08bbb26cdf"
      },
      "execution_count": 77,
      "outputs": [
        {
          "output_type": "execute_result",
          "data": {
            "text/plain": [
              "torch.Size([2, 8])"
            ]
          },
          "metadata": {},
          "execution_count": 77
        }
      ]
    },
    {
      "cell_type": "code",
      "source": [
        ""
      ],
      "metadata": {
        "id": "yWE2JOSLJ6Ps"
      },
      "execution_count": null,
      "outputs": []
    }
  ]
}