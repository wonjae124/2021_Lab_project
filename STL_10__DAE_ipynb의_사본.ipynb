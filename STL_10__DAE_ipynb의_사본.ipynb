{
  "cells": [
    {
      "cell_type": "markdown",
      "metadata": {
        "id": "view-in-github",
        "colab_type": "text"
      },
      "source": [
        "<a href=\"https://colab.research.google.com/github/wonjae124/2021_Lab_project/blob/main/STL_10__DAE_ipynb%EC%9D%98_%EC%82%AC%EB%B3%B8.ipynb\" target=\"_parent\"><img src=\"https://colab.research.google.com/assets/colab-badge.svg\" alt=\"Open In Colab\"/></a>"
      ]
    },
    {
      "cell_type": "code",
      "execution_count": 3,
      "metadata": {
        "id": "Ryi7uQ1ajE5o"
      },
      "outputs": [],
      "source": [
        "import matplotlib.pyplot as plt\n",
        "%matplotlib inline\n",
        "import numpy as np\n",
        "import torch\n",
        "import torch.nn as nn\n",
        "import torch.optim as optim\n",
        "from torch.utils.data import DataLoader\n",
        "from torchvision import datasets, transforms\n",
        "from torchvision import utils\n",
        "from skimage.metrics import structural_similarity as ssim\n",
        "import math\n",
        "import cv2\n",
        "import time\n",
        "import os"
      ]
    },
    {
      "cell_type": "code",
      "execution_count": 4,
      "metadata": {
        "id": "vQaDSS81BTaz",
        "outputId": "5c9468e9-70e4-4844-9cb6-700881122686",
        "colab": {
          "base_uri": "https://localhost:8080/"
        }
      },
      "outputs": [
        {
          "output_type": "stream",
          "name": "stdout",
          "text": [
            "cuda\n"
          ]
        }
      ],
      "source": [
        "def get_device():\n",
        "    if torch.cuda.is_available():\n",
        "        device = 'cuda'\n",
        "    else:\n",
        "        device = 'cpu'\n",
        "    return device\n",
        "\n",
        "device = get_device()\n",
        "print(device)"
      ]
    },
    {
      "cell_type": "code",
      "execution_count": 5,
      "metadata": {
        "id": "uYkusPPemguQ"
      },
      "outputs": [],
      "source": [
        "# Define Loss function\n",
        "def mse_loss(input, target):\n",
        "    r = input[:,0:1,:,:] - target[:,0:1,:,:]\n",
        "    g = (input[:,1:2,:,:] - target[:,1:2,:,:])\n",
        "    b = input[:,2:3,:,:] - target[:,2:3,:,:]\n",
        "    \n",
        "    r = torch.mean(r**2)\n",
        "    g = torch.mean(g**2)\n",
        "    b = torch.mean(b**2)\n",
        "    \n",
        "    mean = (r + g + b)/3\n",
        "   \n",
        "    return mean"
      ]
    },
    {
      "cell_type": "code",
      "execution_count": 6,
      "metadata": {
        "id": "GGLOO7ISXBrq"
      },
      "outputs": [],
      "source": [
        "def Get_psnr(input, output, max_val=1.0):\n",
        "    \"\"\"\n",
        "    Remark\n",
        "    \n",
        "    input type : tensor\n",
        "    output type : float\n",
        "    \"\"\"\n",
        "    input = input.cpu().detach().numpy()\n",
        "    output = output.cpu().detach().numpy()\n",
        "\n",
        " #   print(np.max(input)) check. 1임.\n",
        " #   print(np.min(input)) ---> 0\n",
        " #   print(np.min(output)) ----> 0\n",
        "\n",
        "    b = input[:,:,0]\n",
        "    g = input[:,:,1]\n",
        "    r = input[:,:,2]\n",
        "\n",
        "    hat_b = output[:,:,0]\n",
        "    hat_g = output[:,:,1]\n",
        "    hat_r = output[:,:,2]\n",
        "\n",
        "    b_img_diff = hat_b - b\n",
        "    g_img_diff = hat_g - g \n",
        "    r_img_diff = hat_r - r\n",
        "    \n",
        "    b_mse = np.mean(b_img_diff**2)\n",
        "    g_mse = np.mean(g_img_diff**2)\n",
        "    r_mse = np.mean(r_img_diff**2)\n",
        "\n",
        "    total_mse = r_mse + g_mse + b_mse\n",
        "    \n",
        "\n",
        "    if total_mse == 0:\n",
        "      return 100\n",
        "    else:\n",
        "      psnr = 10 * math.log10( (max_val**2)/total_mse)\n",
        "      return psnr "
      ]
    },
    {
      "cell_type": "code",
      "source": [
        "batch_size = 32\n",
        "torch.manual_seed(1)\n",
        "torch.cuda.manual_seed(1)\n"
      ],
      "metadata": {
        "id": "AxY9z287EFFD"
      },
      "execution_count": 7,
      "outputs": []
    },
    {
      "cell_type": "code",
      "execution_count": 8,
      "metadata": {
        "id": "5U-7qoJRRx5n",
        "scrolled": true,
        "colab": {
          "base_uri": "https://localhost:8080/"
        },
        "outputId": "fc8f8d54-861c-4a8e-9d9e-8a3df4fbbdc9"
      },
      "outputs": [
        {
          "output_type": "stream",
          "name": "stdout",
          "text": [
            "Files already downloaded and verified\n"
          ]
        }
      ],
      "source": [
        "# 훈련 데이터, 검증 데이터, 테스트 데이터순으로 80,000, 20,000, 8,000\n",
        "\n",
        "tr_set = datasets.STL10(root = \"./data\", split = \"unlabeled\", transform = transforms.ToTensor(), download=True)"
      ]
    },
    {
      "cell_type": "code",
      "source": [
        "tr_subset, val_subset = torch.utils.data.random_split(tr_set,[80000,20000],generator=torch.Generator().manual_seed(1))\n",
        "\n",
        "test_set = datasets.STL10(root = \"./data\", split = \"test\", transform = transforms.ToTensor(), download=True)\n"
      ],
      "metadata": {
        "colab": {
          "base_uri": "https://localhost:8080/"
        },
        "id": "yUeot9hZIkaZ",
        "outputId": "9fab9850-732f-45e4-b917-32b401a3ad6d"
      },
      "execution_count": 9,
      "outputs": [
        {
          "output_type": "stream",
          "name": "stdout",
          "text": [
            "Files already downloaded and verified\n"
          ]
        }
      ]
    },
    {
      "cell_type": "code",
      "source": [
        "train_loader = DataLoader(tr_subset, batch_size = batch_size, shuffle=True)\n",
        "val_loader = DataLoader(val_subset, batch_size = batch_size, shuffle=True)\n",
        "test_loader = DataLoader(test_set, batch_size = batch_size, shuffle=True)"
      ],
      "metadata": {
        "id": "_q4goqowQ-AP"
      },
      "execution_count": 10,
      "outputs": []
    },
    {
      "cell_type": "code",
      "source": [
        "it = iter(val_subset)\n",
        "\n",
        "at = next(it)\n",
        "\n",
        "print(at[0].shape)\n"
      ],
      "metadata": {
        "colab": {
          "base_uri": "https://localhost:8080/"
        },
        "id": "niUKZGL2Na84",
        "outputId": "907c5120-2dc6-492a-8ee1-3b57500869c6"
      },
      "execution_count": 11,
      "outputs": [
        {
          "output_type": "stream",
          "name": "stdout",
          "text": [
            "torch.Size([3, 96, 96])\n"
          ]
        }
      ]
    },
    {
      "cell_type": "code",
      "source": [
        "at2 = next()\n",
        "\n",
        "print(at2[0].shape)\n"
      ],
      "metadata": {
        "colab": {
          "base_uri": "https://localhost:8080/"
        },
        "id": "geEkTimmN2u2",
        "outputId": "f14bb1a0-2407-4ca2-fcd9-e5fa9360c6f8"
      },
      "execution_count": 41,
      "outputs": [
        {
          "output_type": "stream",
          "name": "stdout",
          "text": [
            "torch.Size([3, 96, 96])\n"
          ]
        }
      ]
    },
    {
      "cell_type": "code",
      "source": [
        "it = iter(test_loader)\n",
        "\n",
        "at = next(it)\n",
        "print(at[0].shape)"
      ],
      "metadata": {
        "colab": {
          "base_uri": "https://localhost:8080/"
        },
        "id": "kwS0Iy4ENwB2",
        "outputId": "ae2bb773-9168-467f-fbce-1f3ab643872e"
      },
      "execution_count": 12,
      "outputs": [
        {
          "output_type": "stream",
          "name": "stdout",
          "text": [
            "torch.Size([32, 3, 96, 96])\n"
          ]
        }
      ]
    },
    {
      "cell_type": "code",
      "source": [
        "print(len(tr_subset),len(val_subset), len(test_set))"
      ],
      "metadata": {
        "colab": {
          "base_uri": "https://localhost:8080/"
        },
        "id": "ol6QZe4-IeV_",
        "outputId": "179ffa31-864b-4e25-d177-642a5e086165"
      },
      "execution_count": 13,
      "outputs": [
        {
          "output_type": "stream",
          "name": "stdout",
          "text": [
            "80000 20000 8000\n"
          ]
        }
      ]
    },
    {
      "cell_type": "code",
      "source": [
        "img_train_set = tr_subset.dataset.data[tr_subset.indices]\n",
        "label_train_set = tr_subset.dataset.labels[tr_subset.indices]\n",
        "\n",
        "img_val_set = val_subset.dataset.data[val_subset.indices]\n",
        "label_val_set = val_subset.dataset.labels[val_subset.indices]\n",
        "\n",
        "img_test_set = test_set.data\n",
        "label_test_set = test_set.labels"
      ],
      "metadata": {
        "id": "AwWsEdXTI0NI"
      },
      "execution_count": 19,
      "outputs": []
    },
    {
      "cell_type": "code",
      "source": [
        "img_val_set.shape"
      ],
      "metadata": {
        "colab": {
          "base_uri": "https://localhost:8080/"
        },
        "id": "Z2i8LU1hXI1w",
        "outputId": "2bf10925-83ea-4916-d95f-8977803d5ea7"
      },
      "execution_count": 15,
      "outputs": [
        {
          "output_type": "execute_result",
          "data": {
            "text/plain": [
              "(20000, 3, 96, 96)"
            ]
          },
          "metadata": {},
          "execution_count": 15
        }
      ]
    },
    {
      "cell_type": "code",
      "source": [
        "label_val_set #No Label"
      ],
      "metadata": {
        "colab": {
          "base_uri": "https://localhost:8080/"
        },
        "id": "FoLKeX9tXhbC",
        "outputId": "2bcb16e7-0955-4858-f732-bdaaba8f49ff"
      },
      "execution_count": 17,
      "outputs": [
        {
          "output_type": "execute_result",
          "data": {
            "text/plain": [
              "array([-1, -1, -1, ..., -1, -1, -1])"
            ]
          },
          "metadata": {},
          "execution_count": 17
        }
      ]
    },
    {
      "cell_type": "code",
      "source": [
        "img_test_set.shape"
      ],
      "metadata": {
        "colab": {
          "base_uri": "https://localhost:8080/"
        },
        "id": "7EG7Dau-UQxx",
        "outputId": "67102104-dc0d-4910-f28e-44d463743646"
      },
      "execution_count": 20,
      "outputs": [
        {
          "output_type": "execute_result",
          "data": {
            "text/plain": [
              "(8000, 3, 96, 96)"
            ]
          },
          "metadata": {},
          "execution_count": 20
        }
      ]
    },
    {
      "cell_type": "code",
      "source": [
        "label_test_set"
      ],
      "metadata": {
        "colab": {
          "base_uri": "https://localhost:8080/"
        },
        "id": "nAtCZD1JXot6",
        "outputId": "86043d17-872e-4459-c58e-2bab2637967c"
      },
      "execution_count": 22,
      "outputs": [
        {
          "output_type": "execute_result",
          "data": {
            "text/plain": [
              "array([6, 7, 5, ..., 8, 8, 8], dtype=uint8)"
            ]
          },
          "metadata": {},
          "execution_count": 22
        }
      ]
    },
    {
      "cell_type": "code",
      "source": [
        "img_ds = tr_subset.dataset.data"
      ],
      "metadata": {
        "id": "au08m5BGTb3r"
      },
      "execution_count": 106,
      "outputs": []
    },
    {
      "cell_type": "code",
      "source": [
        "img_ds"
      ],
      "metadata": {
        "id": "NgUQ9FAhUPFJ"
      },
      "execution_count": null,
      "outputs": []
    },
    {
      "cell_type": "code",
      "source": [
        "test_set.data[0].shape"
      ],
      "metadata": {
        "colab": {
          "base_uri": "https://localhost:8080/"
        },
        "id": "x8H29SEETKPk",
        "outputId": "0f359da7-c0e2-45ec-b875-4811fb8a1fa9"
      },
      "execution_count": 141,
      "outputs": [
        {
          "output_type": "execute_result",
          "data": {
            "text/plain": [
              "(3, 96, 96)"
            ]
          },
          "metadata": {},
          "execution_count": 141
        }
      ]
    },
    {
      "cell_type": "code",
      "source": [
        "test_set.labels[2]"
      ],
      "metadata": {
        "colab": {
          "base_uri": "https://localhost:8080/"
        },
        "id": "hgxU7JkVWyYc",
        "outputId": "ca8dd61a-9c5d-4fb4-d7ea-cc0f129319d9"
      },
      "execution_count": 138,
      "outputs": [
        {
          "output_type": "execute_result",
          "data": {
            "text/plain": [
              "5"
            ]
          },
          "metadata": {},
          "execution_count": 138
        }
      ]
    },
    {
      "cell_type": "code",
      "source": [
        ""
      ],
      "metadata": {
        "id": "6pdx1eShMzYA"
      },
      "execution_count": 140,
      "outputs": []
    },
    {
      "cell_type": "code",
      "source": [
        "hat_"
      ],
      "metadata": {
        "id": "H5L_UaOPQClX"
      },
      "execution_count": null,
      "outputs": []
    },
    {
      "cell_type": "code",
      "execution_count": null,
      "metadata": {
        "id": "HxsZndIdBTa1",
        "outputId": "ba5250bf-b19d-4bdc-bf46-090bfe5b0055"
      },
      "outputs": [
        {
          "ename": "AttributeError",
          "evalue": "'list' object has no attribute 'size'",
          "output_type": "error",
          "traceback": [
            "\u001b[1;31m---------------------------------------------------------------------------\u001b[0m",
            "\u001b[1;31mAttributeError\u001b[0m                            Traceback (most recent call last)",
            "Input \u001b[1;32mIn [25]\u001b[0m, in \u001b[0;36m<module>\u001b[1;34m\u001b[0m\n\u001b[0;32m      3\u001b[0m \u001b[38;5;28;01mfor\u001b[39;00m i \u001b[38;5;129;01min\u001b[39;00m \u001b[38;5;28mrange\u001b[39m(\u001b[38;5;241m1850\u001b[39m):\n\u001b[0;32m      4\u001b[0m     \u001b[38;5;28mlist\u001b[39m\u001b[38;5;241m.\u001b[39mappend([torch\u001b[38;5;241m.\u001b[39mfrom_numpy(cv2\u001b[38;5;241m.\u001b[39mGaussianBlur(w_arr,(\u001b[38;5;241m3\u001b[39m,\u001b[38;5;241m3\u001b[39m),\u001b[38;5;241m0\u001b[39m)),\u001b[38;5;241m0\u001b[39m])\n\u001b[1;32m----> 6\u001b[0m \u001b[38;5;28mprint\u001b[39m(\u001b[38;5;28;43mlist\u001b[39;49m\u001b[38;5;241;43m.\u001b[39;49m\u001b[43msize\u001b[49m)\n",
            "\u001b[1;31mAttributeError\u001b[0m: 'list' object has no attribute 'size'"
          ]
        }
      ],
      "source": [
        "dcv2.GaussianBlur(w_arr,(3,3),0).shape\n",
        "\n",
        "for i in range(1850):\n",
        "    list.append([torch.from_numpy(cv2.GaussianBlur(w_arr,(3,3),0)),0])\n",
        "\n",
        "print(list)"
      ]
    },
    {
      "cell_type": "code",
      "execution_count": null,
      "metadata": {
        "id": "BTsFiFvNn4Gb"
      },
      "outputs": [],
      "source": [
        "batch = next(iter(valid_dataloader))\n",
        "plt.figure(figsize=(8,8))\n",
        "plt.axis(\"off\")\n",
        "plt.imshow(np.transpose(vutils.make_grid(batch[0].to(device)[:64], padding=2, normalize=True).cpu(),(1,2,0)))"
      ]
    },
    {
      "cell_type": "code",
      "execution_count": null,
      "metadata": {
        "id": "vZTbQv0bn4xy"
      },
      "outputs": [],
      "source": [
        "batch = next(iter(test_dataloader))\n",
        "plt.figure(figsize=(8,8))\n",
        "plt.axis(\"off\")\n",
        "plt.imshow(np.transpose(vutils.make_grid(batch[0].to(device)[:64], padding=2, normalize=True).cpu(),(1,2,0)))"
      ]
    },
    {
      "cell_type": "code",
      "execution_count": null,
      "metadata": {
        "id": "e_AVf5UKBTa2"
      },
      "outputs": [],
      "source": [
        "print(batch[0].shape)\n",
        "print(batch[1])"
      ]
    },
    {
      "cell_type": "code",
      "execution_count": null,
      "metadata": {
        "id": "2oEv_vheBTa2"
      },
      "outputs": [],
      "source": [
        "tr_dataset.classes"
      ]
    },
    {
      "cell_type": "code",
      "execution_count": null,
      "metadata": {
        "id": "GNaCRH6ZBTa2"
      },
      "outputs": [],
      "source": [
        "print(len(tr_dataloader))"
      ]
    },
    {
      "cell_type": "code",
      "execution_count": null,
      "metadata": {
        "id": "qtwgSgsgBTa2"
      },
      "outputs": [],
      "source": [
        "tr_dataset.imgs"
      ]
    },
    {
      "cell_type": "code",
      "execution_count": null,
      "metadata": {
        "id": "xiXO8dIBBTa2"
      },
      "outputs": [],
      "source": [
        "tr_dataset.class_to_idx"
      ]
    },
    {
      "cell_type": "code",
      "execution_count": null,
      "metadata": {
        "id": "MsSoInjv99EG"
      },
      "outputs": [],
      "source": [
        "X_train_set = tr_dataset.targets\n",
        "X_train_set"
      ]
    },
    {
      "cell_type": "code",
      "execution_count": null,
      "metadata": {
        "id": "ccB7WhJ3BTa2"
      },
      "outputs": [],
      "source": [
        ""
      ]
    },
    {
      "cell_type": "code",
      "execution_count": null,
      "metadata": {
        "id": "3h5z9yufBKHv"
      },
      "outputs": [],
      "source": [
        "tr_dataset[1][0].shape"
      ]
    },
    {
      "cell_type": "markdown",
      "metadata": {
        "id": "o-kmOm7BeFhy"
      },
      "source": [
        "print(torch.from_numpy(cv2.GaussianBlur(train_set_arr[i],(3,3),0).transpose(1,0,2)).float().div(255.0).shape)"
      ]
    },
    {
      "cell_type": "markdown",
      "metadata": {
        "id": "ejWDd8yXLjQs"
      },
      "source": [
        "Gaussian_blur_weak_tr_arr = np.array([])\n",
        "y = np.array([])\n",
        "GS = cv2.GaussianBlur(train_set_arr[1],(3,3),0)\n",
        "Gaussian_blur_weak_tr_arr = np.append(Gaussian_blur_weak_tr_arr,GS)\n",
        "print(y.shape)\n",
        "print(Gaussian_blur_weak_tr_arr.shape)\n",
        "\n",
        "print(type(GS))\n",
        "\n",
        "print(Gaussian_blur_weak_tr_arr.shape)"
      ]
    },
    {
      "cell_type": "markdown",
      "metadata": {
        "id": "HyS90AxwBVkG"
      },
      "source": [
        "type(Gaussian_blur_weak_tr_arr)"
      ]
    },
    {
      "cell_type": "code",
      "execution_count": null,
      "metadata": {
        "id": "fY18EkZDO93a"
      },
      "outputs": [],
      "source": [
        "class DenosingAutoencoder(nn.Module):\n",
        "  def __init__(self):\n",
        "    super(DenosingAutoencoder, self).__init__()\n",
        "    #input = 3 by 128 by 128\n",
        "    self.encoder = nn.Sequential(\n",
        "        nn.Conv2d(in_channels = 3, out_channels = 32, kernel_size = 2, stride = 2, padding=0),\n",
        "    #1nd 64 by 64 by 32\n",
        "        nn.ReLU(True),\n",
        "\n",
        "        nn.Conv2d(in_channels =32, out_channels = 64,  kernel_size = 2, stride = 2, padding=0),\n",
        "    #2nd 32 by 32 by 64   \n",
        "        nn.ReLU(True),\n",
        "\n",
        "        nn.Conv2d(in_channels = 64, out_channels = 128,  kernel_size = 2, stride = 2, padding=0),\n",
        "    #3nd 16 by 16 by 128\n",
        "        nn.ReLU(True),\n",
        "    )\n",
        "    self.decoder = nn.Sequential(\n",
        " \n",
        "        nn.ConvTranspose2d(in_channels = 128, out_channels = 64,  kernel_size = 2, stride = 2, padding=0),\n",
        "        nn.ReLU(True),\n",
        "    #3nd  32 by 32 by 64  \n",
        "        nn.ConvTranspose2d(in_channels = 64, out_channels = 32,  kernel_size = 2, stride = 2, padding=0),\n",
        "        nn.ReLU(True),\n",
        "    #4nd  64 by 64 by 32\n",
        "        nn.ConvTranspose2d(in_channels = 32, out_channels = 3, kernel_size = 2, stride = 2, padding=0),\n",
        "    #5nd  128 by 128 by 3\n",
        "        nn.Sigmoid())\n",
        "  \n",
        "  def forward(self, x):\n",
        "        encoded = self.encoder(x)\n",
        "        decoded = self.decoder(encoded)\n",
        "        return decoded\n"
      ]
    },
    {
      "cell_type": "code",
      "execution_count": null,
      "metadata": {
        "id": "f-CcEloMjViX"
      },
      "outputs": [],
      "source": [
        "#Instantiate the model\n",
        "model_weak = DenosingAutoencoder()\n",
        "model_moderate = DenosingAutoencoder()\n",
        "model_strong = DenosingAutoencoder()\n",
        "\n"
      ]
    },
    {
      "cell_type": "code",
      "execution_count": null,
      "metadata": {
        "id": "R5BgD5a4j8la"
      },
      "outputs": [],
      "source": [
        "#Epochs\n",
        "n_epochs = 5\n",
        "\n",
        "#Optimizer\n",
        "\n",
        "optimizer_weak = torch.optim.Adam(model_weak.parameters(), lr=0.001, weight_decay  = 1e-04)\n",
        "\n",
        "optimizer_moderate = torch.optim.Adam(model_moderate.parameters(), lr=0.001, weight_decay  = 1e-04)\n",
        "\n",
        "optimizer_strong = torch.optim.Adam(model_strong.parameters(), lr=0.001, weight_decay  = 1e-04)\n",
        "\n",
        "\n",
        "\n",
        "# lr 0.1에서 1이 최적. \n",
        "\n"
      ]
    },
    {
      "cell_type": "code",
      "execution_count": null,
      "metadata": {
        "id": "UYwZfKaR80Sw"
      },
      "outputs": [],
      "source": [
        "model_weak.to(device)"
      ]
    },
    {
      "cell_type": "markdown",
      "metadata": {
        "id": "VkZKymjR36iM"
      },
      "source": [
        ""
      ]
    },
    {
      "cell_type": "code",
      "execution_count": null,
      "metadata": {
        "id": "e0Fv-crsj-8x",
        "scrolled": false
      },
      "outputs": [],
      "source": [
        "\n",
        "weak_train_loss_graph = np.array([])\n",
        "moderate_val_loss_graph = np.array([])\n",
        "\n",
        "\n",
        "start = time.time()\n",
        "\n",
        "for epoch in range(1, n_epochs+1):\n",
        "    print(f\"Epoch : [{epoch}/{n_epochs}]\",\"\\n\")\n",
        "    model_weak.train()\n",
        "    # monitor training loss\n",
        "    train_loss = 0.0\n",
        "    total_train_loss = 0.0\n",
        "    val_los = 0.0\n",
        "    total_val_loss = 0.0\n",
        "    tr_dataloader_iter = iter(tr_dataloader)\n",
        "    '''\n",
        "    Total되는 새로운 변수를 하나 만들어줘야지 val_loss가 제대로 더해진다. 안 하면 이상하게 안 더해진다.\n",
        "    '''\n",
        "    tr_iter = iter(tr_dataloader)\n",
        "    #Training\n",
        "    for i in range(len(tr_dataloader)):\n",
        "        \n",
        "        tr_images, _ = next(tr_iter)\n",
        "        tr_images = tr_images.to(device)\n",
        "        tr_images_arr = tr_images.cpu().numpy() \n",
        "        print(tr_images_arr.shape)\n",
        "        hat_tr_images_arr = cv2.GaussianBlur(tr_images_arr[i], (3,3), 0).reshape(-1,3,128,128)\n",
        "        print(len(hat_tr_images_arr))\n",
        "        hat_tr_images = torch.from_numpy(hat_tr_images_arr).float().div(255.0)\n",
        "        hat_tr_images = hat_tr_images.to(device)\n",
        "        #check       \n",
        "        print(tr_images.shape)\n",
        "        optimizer_weak.zero_grad()\n",
        "#check0.\n",
        "        print(hat_tr_images.shape)  \n",
        "        tr_outputs =model_weak(hat_tr_images)\n",
        "#check      print(outputs.shape)\n",
        "        loss = mse_loss(tr_outputs, tr_images)\n",
        "        loss.backward()\n",
        "        optimizer_weak.step()\n",
        "        train_loss = loss.item()\n",
        "        total_train_loss += train_loss\n",
        "\n",
        "#check1.        print(f\"minibatch : {i}, train_loss_added : {total_train_loss/1250}\")\n",
        "    total_train_loss = total_train_loss/len(tr_dataloader)\n",
        "    train_loss_graph = np.append(train_loss_graph, total_train_loss)\n",
        "\n",
        "\n",
        "    #evaluation\n",
        "    model_weak.eval()\n",
        "\n",
        "    with torch.no_grad():   \n",
        "        optimizer_weak.zero_grad()\n",
        "        \n",
        "        val_iter = iter(valid_dataloader)\n",
        "        for i in range(len(val_dataloader)):\n",
        "                val_img, _ = next(val_iter)\n",
        "                val_img = val_img.to(device)\n",
        "                val_img_arr = val_img.cpu().numpy()\n",
        "                hat_val_img_arr = cv2.GaussianBlur(val_img_arr[i], (3,3), 0).reshape(-1,3,128,128)\n",
        "                hat_val_img = torch.from_numpy(hat_val_img_arr).float().div(255.0)\n",
        "                hat_val_img = hat_val_img.to(device)\n",
        "                val_outputs =model_weak(hat_images)\n",
        "\n",
        "                val_loss = mse_loss(val_outputs, val_img)\n",
        "                val_loss = val_loss.item()\n",
        "                total_val_loss += val_loss\n",
        "#check2.     print(f\"val_mini_batch : {i }, val_loss_added : {total_val_loss/313}\")                \n",
        "        total_val_loss = total_val_loss/len(val_dataloader)\n",
        "        val_loss_graph = np.append(val_loss_graph, total_val_loss)\n",
        "        print('Training Loss: {:.6f}\\t validation Loss {:.6f}'.format(total_train_loss, total_val_loss))\n",
        "          \n",
        "#check3.     \n",
        "        if (epoch)%5 == 0:\n",
        "\n",
        "          for j in range(5):\n",
        "            val_ssim = ssim(val_img[j].cpu().detach().numpy().transpose(1, 2, 0), val_outputs[j].cpu().detach().numpy().transpose(1, 2, 0), multichannel=True, gaussian_weights=True, use_sample_covariance=False)\n",
        "            val_psnr = Get_psnr(val_img[j], val_outputs[j], max_val = 1.0)\n",
        "            print(f'Class:{classes[labels[j]]} \\t PNSR :{val_psnr} \\t SSIM : {val_ssim}')\n",
        "            \n",
        "            ax = plt.subplot(3,5,j+1)\n",
        "            plt.imshow(images[j].cpu().numpy().transpose(1, 2, 0))\n",
        "            ax.get_xaxis().set_visible(False)\n",
        "            ax.get_yaxis().set_visible(False)\n",
        "            ax.set_title(classes[labels[j]])\n",
        "\n",
        "            ax = plt.subplot(3,5,j+5+1)\n",
        "            plt.imshow(hat_val_img[j].cpu().numpy().transpose(1, 2, 0))\n",
        "            ax.get_xaxis().set_visible(False)\n",
        "            ax.get_yaxis().set_visible(False)\n",
        "            ax.set_title(classes[labels[j]])\n",
        "\n",
        "            ax = plt.subplot(3, 5, j+5+5+1)\n",
        "            plt.imshow(val_outputs[j].cpu().detach().numpy().transpose(1, 2, 0))\n",
        "            ax.get_xaxis().set_visible(False)\n",
        "            ax.get_yaxis().set_visible(False)\n",
        "            ax.set_title(classes[labels[j]])\n",
        "          plt.show()   \n",
        "\n",
        "end = time.time()\n",
        "total_time = (end-start)/60\n",
        "print(\"execution time : {%d}min\".format(total_time))"
      ]
    },
    {
      "cell_type": "code",
      "execution_count": null,
      "metadata": {
        "id": "qGU5iKmCi-f3"
      },
      "outputs": [],
      "source": [
        "print(images[0].cpu().detach().numpy().transpose(1,2,0).shape)"
      ]
    },
    {
      "cell_type": "code",
      "execution_count": null,
      "metadata": {
        "id": "j024zlDgUWJ7"
      },
      "outputs": [],
      "source": [
        "plt.figure(figsize=(10,5))\n",
        "plt.plot(train_loss_graph,'r-*')\n",
        "plt.plot(val_loss_graph, 'b-*')\n",
        "plt.legend(['train_loss_graph','val_loss_graph'])\n",
        "plt.title(\"CIFAR10\")\n",
        "plt.xlabel(\"epoch\")\n",
        "plt.ylabel(\"loss\")\n",
        "plt.show()\n",
        "\n"
      ]
    },
    {
      "cell_type": "code",
      "execution_count": null,
      "metadata": {
        "id": "wHW28QrXfbi_"
      },
      "outputs": [],
      "source": [
        "#모델 세이브\n",
        "\n",
        "PATH1 = './model/Gs_blur_weak_DAE_model.pth'\n",
        "PATH2 = './model/Gs_blur_moderate_DAE_model.pth'\n",
        "PATH3 = './model/Gs_blur_strong_DAE_model.pth'\n",
        "\n",
        "torch.save(mode1.state_dict(), PATH1)\n",
        "torch.save(mode2.state_dict(), PATH2)\n",
        "torch.save(mode3.state_dict(), PATH3)"
      ]
    },
    {
      "cell_type": "code",
      "execution_count": null,
      "metadata": {
        "id": "nUmZc914NJTc"
      },
      "outputs": [],
      "source": [
        "len(tr_dataloader)"
      ]
    },
    {
      "cell_type": "code",
      "execution_count": null,
      "metadata": {
        "id": "QToBFwaQlz6d"
      },
      "outputs": [],
      "source": [
        "print(images.size(0))"
      ]
    },
    {
      "cell_type": "code",
      "execution_count": null,
      "metadata": {
        "id": "RcjZPhqTcqPd"
      },
      "outputs": [],
      "source": [
        "#Batch of test images\n",
        "dataiter = iter(test_dataloader)\n",
        "images, labels = dataiter.next()\n",
        "\n",
        "\n"
      ]
    },
    {
      "cell_type": "code",
      "execution_count": null,
      "metadata": {
        "id": "VISLRKKJkAhh"
      },
      "outputs": [],
      "source": [
        "#Batch of test images\n",
        "dataiter = iter(test_dataloader)\n",
        "images, labels = dataiter.next()\n",
        "\n",
        "#Sample outputs\n",
        "images = images.to(device)\n",
        "print('입력 이미지 크기',images.shape)\n",
        "\n",
        "output = model(images)\n",
        "print('출력 이미지 크기',output.shape)\n",
        "\n",
        "images_np = images.cpu().numpy() #입력값은 그래디언 계산이 안 되었으므로(model 안 거침) detach가 필요 없다.\n",
        "output=output.to(device)\n",
        "output_np = output.detach().cpu().numpy()\n",
        "\n",
        "#Original Image(5):\n",
        "for idx in np.arange(5):\n",
        "    \n",
        "    image, label = dataier.next()\n",
        "    image = image.to(device)\n",
        "    output = model()\n",
        "\n",
        "    val_ssim_scikit =  ssim((images_np[idx], output_np[idx], data_range = 1.0,multichannel = True)           \n",
        "\n",
        "    PSNR_custom = Get_psnr(images[idx], output[idx], max_val = 1.0)\n",
        "    PSNR_scikit = psnr(images_np[idx], output_np[idx], data_range = 1.0)\n",
        "#    SSIM = pytorch_ssim(images[idx],output[idx]).data\n",
        "#    SSIM = ssim(images[idx], output[idx], data_range = 1.0, multichannel =True)\n",
        "    print(f'Class {classes[labels[idx]]} Scikit_PSNR {PSNR_scikit} / Custom_PSNR {PSNR_custom}')\n",
        "#   print(SSIM)\n",
        "    print(\"SSIM : {.3f}\", val_ssim_scikit)\n",
        "    ax = plt.subplot(2, 5, idx+1, xticks=[], yticks=[])\n",
        "    imshow(images[idx].cpu())\n",
        "    ax.set_title(classes[labels[idx]])\n",
        "\n",
        "    ax = plt.subplot(2, 5, idx+1+5, xticks=[], yticks=[])\n",
        "    imshow(output[idx].detach().cpu().numpy())\n",
        "    ax.set_title(classes[labels[idx]])\n",
        "plt.show() "
      ]
    },
    {
      "cell_type": "code",
      "execution_count": null,
      "metadata": {
        "id": "LvhsbXbPIWoL"
      },
      "outputs": [],
      "source": [
        ""
      ]
    },
    {
      "cell_type": "code",
      "execution_count": null,
      "metadata": {
        "id": "tasfj9jY7Bdk"
      },
      "outputs": [],
      "source": [
        ""
      ]
    },
    {
      "cell_type": "markdown",
      "metadata": {
        "id": "0AflYIS9JtIi"
      },
      "source": [
        ""
      ]
    }
  ],
  "metadata": {
    "accelerator": "GPU",
    "colab": {
      "collapsed_sections": [],
      "name": "STL_10__DAE.ipynb의 사본",
      "provenance": [],
      "include_colab_link": true
    },
    "kernelspec": {
      "display_name": "Python 3 (ipykernel)",
      "language": "python",
      "name": "python3"
    },
    "language_info": {
      "codemirror_mode": {
        "name": "ipython",
        "version": 3
      },
      "file_extension": ".py",
      "mimetype": "text/x-python",
      "name": "python",
      "nbconvert_exporter": "python",
      "pygments_lexer": "ipython3",
      "version": "3.9.7"
    }
  },
  "nbformat": 4,
  "nbformat_minor": 0
}