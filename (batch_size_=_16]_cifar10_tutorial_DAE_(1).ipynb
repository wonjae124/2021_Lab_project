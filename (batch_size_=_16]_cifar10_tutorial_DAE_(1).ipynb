{
  "nbformat": 4,
  "nbformat_minor": 0,
  "metadata": {
    "colab": {
      "name": "(batch_size = 16]_cifar10_tutorial_DAE (1).ipynb",
      "provenance": [],
      "collapsed_sections": [],
      "include_colab_link": true
    },
    "kernelspec": {
      "name": "python3",
      "display_name": "Python 3"
    },
    "language_info": {
      "name": "python"
    }
  },
  "cells": [
    {
      "cell_type": "markdown",
      "metadata": {
        "id": "view-in-github",
        "colab_type": "text"
      },
      "source": [
        "<a href=\"https://colab.research.google.com/github/wonjae124/2021_Lab_project/blob/main/(batch_size_%3D_16%5D_cifar10_tutorial_DAE_(1).ipynb\" target=\"_parent\"><img src=\"https://colab.research.google.com/assets/colab-badge.svg\" alt=\"Open In Colab\"/></a>"
      ]
    },
    {
      "cell_type": "code",
      "source": [
        "from google.colab import drive\n",
        "drive.mount('/content/drive')\n",
        "%cd /content/drive/MyDrive/model\n",
        "!pwd"
      ],
      "metadata": {
        "colab": {
          "base_uri": "https://localhost:8080/"
        },
        "id": "o4REbOAG1T7l",
        "outputId": "bf25d4b3-72a5-4da5-8dcc-c9fd4ef80f41"
      },
      "execution_count": 1,
      "outputs": [
        {
          "output_type": "stream",
          "name": "stdout",
          "text": [
            "Mounted at /content/drive\n",
            "/content/drive/MyDrive/model\n",
            "/content/drive/MyDrive/model\n"
          ]
        }
      ]
    },
    {
      "cell_type": "code",
      "execution_count": 2,
      "metadata": {
        "id": "Ryi7uQ1ajE5o"
      },
      "outputs": [],
      "source": [
        "import numpy as np\n",
        "import torch\n",
        "import torch.nn as nn\n",
        "import torch.nn.functional as F\n",
        "import torch.optim as optim\n",
        "import matplotlib.pyplot as plt\n",
        "from torch.utils.data.sampler import SubsetRandomSampler\n",
        "from torch.utils.data import DataLoader\n",
        "from torchvision import datasets, transforms\n",
        "import matplotlib.pyplot as plt\n",
        "%matplotlib inline\n",
        "import torch.nn as nn\n",
        "import torch.nn.functional as F\n",
        "from skimage.metrics import structural_similarity as ssim\n",
        "from skimage.metrics import peak_signal_noise_ratio as psnr #use of numpy\n",
        "import math\n",
        "import cv2\n",
        "import time"
      ]
    },
    {
      "cell_type": "code",
      "source": [
        "def Get_psnr(input, output, max_val=1.0):\n",
        "    \"\"\"\n",
        "    Remark\n",
        "    \n",
        "    input type : tensor\n",
        "    output type : float\n",
        "    \"\"\"\n",
        "    input = input.cpu().detach().numpy()\n",
        "    output = output.cpu().detach().numpy()\n",
        "\n",
        " #   print(np.max(input)) check. 1임.\n",
        " #   print(np.min(input)) ---> 0\n",
        " #   print(np.min(output)) ----> 0\n",
        "\n",
        "    b = input[:,:,0]\n",
        "    g = input[:,:,1]\n",
        "    r = input[:,:,2]\n",
        "\n",
        "    hat_b = output[:,:,0]\n",
        "    hat_g = output[:,:,1]\n",
        "    hat_r = output[:,:,2]\n",
        "\n",
        "    b_img_diff = hat_b - b\n",
        "    g_img_diff = hat_g - g \n",
        "    r_img_diff = hat_r - r\n",
        "    \n",
        "    b_mse = np.mean(b_img_diff**2)\n",
        "    g_mse = np.mean(g_img_diff**2)\n",
        "    r_mse = np.mean(r_img_diff**2)\n",
        "\n",
        "    total_mse = r_mse + g_mse + b_mse\n",
        "    \n",
        "\n",
        "    if total_mse == 0:\n",
        "      return 100\n",
        "    else:\n",
        "      psnr = 10 * math.log10( (max_val**2)/total_mse)\n",
        "      return psnr "
      ],
      "metadata": {
        "id": "GGLOO7ISXBrq"
      },
      "execution_count": 3,
      "outputs": []
    },
    {
      "cell_type": "code",
      "source": [
        "# 훈련 데이터, 검증 데이터, 테스트 데이터순으로 5000개, 10000개, 10000개\n",
        "\n",
        "\n",
        "transform_m = transforms.Compose([\n",
        "    transforms.Resize(32),\n",
        "    transforms.ToTensor(),\n",
        "])\n",
        "\n",
        "tr_dataset = datasets.CIFAR10(root='./data',train=True,download=True,transform=transform_m) \n",
        "tr_subset, val_subset = torch.utils.data.random_split(tr_dataset, [40000,10000], generator=torch.Generator().manual_seed(1))\n",
        "test_set  = datasets.CIFAR10(root='./data', train=False, download=True,transform=transform_m)\n",
        "\n",
        "tr_loader = DataLoader(tr_subset, batch_size = 8, num_workers = 2)\n",
        "val_loader = DataLoader(val_subset, batch_size = 8, num_workers = 2)\n"
      ],
      "metadata": {
        "id": "5U-7qoJRRx5n",
        "colab": {
          "base_uri": "https://localhost:8080/"
        },
        "outputId": "2e5f77af-4479-4d96-b581-55d0c54aebdc"
      },
      "execution_count": 4,
      "outputs": [
        {
          "output_type": "stream",
          "name": "stdout",
          "text": [
            "Files already downloaded and verified\n",
            "Files already downloaded and verified\n"
          ]
        }
      ]
    },
    {
      "cell_type": "code",
      "source": [
        "mnist = datasets.MNIST(root='./data',train=True, download = True, transform=transforms.ToTensor())\n",
        "m_tr_subset, m_val_subset = torch.utils.data.random_split(mnist, [50000,10000],generator = torch.Generator().manual_seed(1))\n"
      ],
      "metadata": {
        "id": "MsSoInjv99EG"
      },
      "execution_count": 5,
      "outputs": []
    },
    {
      "cell_type": "code",
      "source": [
        "m_tr_subset[3][1]"
      ],
      "metadata": {
        "id": "G8oXgeBlAyfQ",
        "colab": {
          "base_uri": "https://localhost:8080/"
        },
        "outputId": "f6323d7e-e009-4950-8b17-7162b44b8f82"
      },
      "execution_count": 6,
      "outputs": [
        {
          "output_type": "execute_result",
          "data": {
            "text/plain": [
              "7"
            ]
          },
          "metadata": {},
          "execution_count": 6
        }
      ]
    },
    {
      "cell_type": "code",
      "source": [
        "m_tr_subset[1][0].shape"
      ],
      "metadata": {
        "id": "xTh1eVHjB7Nt",
        "colab": {
          "base_uri": "https://localhost:8080/"
        },
        "outputId": "76797d6b-7629-43e7-d8ed-9c796a5ce2d4"
      },
      "execution_count": 7,
      "outputs": [
        {
          "output_type": "execute_result",
          "data": {
            "text/plain": [
              "torch.Size([1, 28, 28])"
            ]
          },
          "metadata": {},
          "execution_count": 7
        }
      ]
    },
    {
      "cell_type": "code",
      "source": [
        "#print(tr_subset[1][0])\n",
        "tr_subset[1][1]"
      ],
      "metadata": {
        "id": "Z9qu9gBWUMfC",
        "colab": {
          "base_uri": "https://localhost:8080/"
        },
        "outputId": "4ccd6b24-e516-4d46-e526-cf45e25ae78e"
      },
      "execution_count": 8,
      "outputs": [
        {
          "output_type": "execute_result",
          "data": {
            "text/plain": [
              "1"
            ]
          },
          "metadata": {},
          "execution_count": 8
        }
      ]
    },
    {
      "cell_type": "code",
      "source": [
        "tr_subset[1][0].shape"
      ],
      "metadata": {
        "id": "3h5z9yufBKHv",
        "colab": {
          "base_uri": "https://localhost:8080/"
        },
        "outputId": "58824a4e-a7e6-4547-e3d8-0f8c3169bbbe"
      },
      "execution_count": 9,
      "outputs": [
        {
          "output_type": "execute_result",
          "data": {
            "text/plain": [
              "torch.Size([3, 32, 32])"
            ]
          },
          "metadata": {},
          "execution_count": 9
        }
      ]
    },
    {
      "cell_type": "code",
      "source": [
        "X_train_set = tr_subset.dataset.data[tr_subset.indices]\n",
        "tr_subset.dataset.targets = torch.tensor(tr_subset.dataset.targets)\n",
        "\n",
        "X_val_set = val_subset.dataset.data[val_subset.indices]\n",
        "val_subset.dataset.targets = torch.tensor(val_subset.dataset.targets)\n",
        "\n",
        "'''\n",
        "dataset을 나누면 tensor 성질이 사라지는건 Mnist와 Cifar10 모두 동일하다.\n",
        "'''"
      ],
      "metadata": {
        "id": "aeJOCsSH11Xd",
        "colab": {
          "base_uri": "https://localhost:8080/",
          "height": 92
        },
        "outputId": "879ebe15-90e4-4682-a312-5060b7c915e3"
      },
      "execution_count": 10,
      "outputs": [
        {
          "output_type": "stream",
          "name": "stderr",
          "text": [
            "/usr/local/lib/python3.7/dist-packages/ipykernel_launcher.py:5: UserWarning: To copy construct from a tensor, it is recommended to use sourceTensor.clone().detach() or sourceTensor.clone().detach().requires_grad_(True), rather than torch.tensor(sourceTensor).\n",
            "  \"\"\"\n"
          ]
        },
        {
          "output_type": "execute_result",
          "data": {
            "application/vnd.google.colaboratory.intrinsic+json": {
              "type": "string"
            },
            "text/plain": [
              "'\\ndataset을 나누면 tensor 성질이 사라지는건 Mnist와 Cifar10 모두 동일하다.\\n'"
            ]
          },
          "metadata": {},
          "execution_count": 10
        }
      ]
    },
    {
      "cell_type": "code",
      "source": [
        "X_train_set.shape"
      ],
      "metadata": {
        "id": "xSyIEtKB_SkB",
        "colab": {
          "base_uri": "https://localhost:8080/"
        },
        "outputId": "d2970669-857d-41e3-cb72-658453b7be6d"
      },
      "execution_count": 11,
      "outputs": [
        {
          "output_type": "execute_result",
          "data": {
            "text/plain": [
              "(40000, 32, 32, 3)"
            ]
          },
          "metadata": {},
          "execution_count": 11
        }
      ]
    },
    {
      "cell_type": "code",
      "source": [
        "X_train_set = torch.tensor(X_train_set)\n",
        "Y_train_set = tr_subset.dataset.targets[tr_subset.indices]\n",
        "\n",
        "X_val_set = torch.tensor(X_val_set)\n",
        "Y_val_set =val_subset.dataset.targets[val_subset.indices]\n"
      ],
      "metadata": {
        "id": "-88XXnOXR4fe"
      },
      "execution_count": 12,
      "outputs": []
    },
    {
      "cell_type": "code",
      "source": [
        "Y_train_set.shape"
      ],
      "metadata": {
        "id": "zQE7hcRy_1Bh",
        "colab": {
          "base_uri": "https://localhost:8080/"
        },
        "outputId": "fc2b3510-ba2a-4b45-9180-e940b4b0f120"
      },
      "execution_count": 13,
      "outputs": [
        {
          "output_type": "execute_result",
          "data": {
            "text/plain": [
              "torch.Size([40000])"
            ]
          },
          "metadata": {},
          "execution_count": 13
        }
      ]
    },
    {
      "cell_type": "code",
      "source": [
        "X_train_set.shape"
      ],
      "metadata": {
        "id": "AsU426Vt_hyY",
        "colab": {
          "base_uri": "https://localhost:8080/"
        },
        "outputId": "a9d014ce-660f-45d5-8a01-7711c09431bc"
      },
      "execution_count": 14,
      "outputs": [
        {
          "output_type": "execute_result",
          "data": {
            "text/plain": [
              "torch.Size([40000, 32, 32, 3])"
            ]
          },
          "metadata": {},
          "execution_count": 14
        }
      ]
    },
    {
      "cell_type": "code",
      "source": [
        "train_set_arr = X_train_set.numpy() #numpy 자료형(ndarray) 변환\n",
        "val_set_arr = X_val_set.numpy()\n"
      ],
      "metadata": {
        "id": "IL3VV-ObSGHx"
      },
      "execution_count": 15,
      "outputs": []
    },
    {
      "cell_type": "code",
      "source": [
        ""
      ],
      "metadata": {
        "id": "fVgLbnUyBcB7"
      },
      "execution_count": 15,
      "outputs": []
    },
    {
      "cell_type": "code",
      "source": [
        ""
      ],
      "metadata": {
        "id": "Yq8P9aU6KW-L"
      },
      "execution_count": 15,
      "outputs": []
    },
    {
      "cell_type": "code",
      "source": [
        ""
      ],
      "metadata": {
        "id": "ePp-_r3H7Dtz"
      },
      "execution_count": 15,
      "outputs": []
    },
    {
      "cell_type": "code",
      "source": [
        "Gaussian_blur_weak_tr_dataset = []\n",
        "Gaussian_blur_weak_val_dataset = []\n",
        "\n",
        "for i in range(40000):\n",
        "  Gaussian_blur_weak_tr_dataset.append( [torch.from_numpy(cv2.GaussianBlur(train_set_arr[i], (3,3),0).transpose(2,0,1)).float().div(255.0), Y_train_set[i] ])\n",
        "#append는 하나의 argument만 수용하므로 대괄호로 묶어줘야 한다.\n",
        "for i in range(10000):\n",
        "  Gaussian_blur_weak_val_dataset.append( [torch.from_numpy(cv2.GaussianBlur(val_set_arr[i],(3,3),0).transpose(2,0,1)).float().div(255.0), Y_val_set[i] ] )\n",
        "\n",
        "\n",
        "\n",
        "\n",
        "hat_tr_dataloader = DataLoader(Gaussian_blur_weak_tr_dataset, batch_size = 8, num_workers = 2)\n",
        "hat_val_dataloader = DataLoader(Gaussian_blur_weak_val_dataset, batch_size = 8, num_workers = 2)\n",
        "\n",
        "#print(len(hat_tr_dataloader))\n",
        "\n",
        "#Utility functions to un-normalize and display an image\n",
        "def imshow(img):\n",
        "\n",
        "    plt.imshow(np.transpose(img, (1, 2, 0)), interpolation= 'nearest') \n",
        "\n",
        "\n",
        "#Define the image classes\n",
        "classes = ['airplane', 'automobile', 'bird', 'cat', 'deer', 'dog', 'frog', 'horse', 'ship', 'truck']\n",
        "\n"
      ],
      "metadata": {
        "id": "4DPFM5F15pHm"
      },
      "execution_count": 16,
      "outputs": []
    },
    {
      "cell_type": "code",
      "source": [
        "print(torch.from_numpy(cv2.GaussianBlur(train_set_arr[i], (3,3),0).transpose(2,0,1)).shape)"
      ],
      "metadata": {
        "id": "VzI280IVovbv",
        "colab": {
          "base_uri": "https://localhost:8080/"
        },
        "outputId": "235ef954-9c2e-4b5a-b5bd-f3a8f1a5a8d9"
      },
      "execution_count": 17,
      "outputs": [
        {
          "output_type": "stream",
          "name": "stdout",
          "text": [
            "torch.Size([3, 32, 32])\n"
          ]
        }
      ]
    },
    {
      "cell_type": "markdown",
      "source": [
        "\n",
        "\n",
        "```\n",
        "\n",
        "print(len(dataloader))\n",
        "it = iter(dataloader)\n",
        "img, label = it.next()\n",
        "plt.imshow(img[0])\n",
        "print()\n",
        "\n",
        "print('img_shape',img.shape)\n",
        "\n",
        "\n",
        "Gaussian_blur_weak_dataset = torch.from_numpy(Gaussian_blur_weak_tr_arr).float().div(255.0) \n",
        "\n",
        "\n",
        "print(Gaussian_blur_weak_tr_arr)\n",
        "\n",
        "print(Gaussian_blur_weak_tr_tensor.shape)\n",
        "\n",
        "print(Y_train_set.shape)\n",
        "\n",
        "for i in range(len(train_set_arr)):\n",
        "  Gaussian_blur_weak_tr_merged.append([Gaussian_blur_weak_tr_tensor[i],Y_train_set[i]])\n",
        "\n",
        "\n",
        "\n",
        "\n",
        "\n",
        "for i in range(len(test_set_arr)):\n",
        "  Gaussian_blur_weak_test_arr.append(cv2.GaussianBlur(test_set_arr[i],(3,3),0))\n",
        "\n",
        "Gaussian_blur_weak_test_tensor = torch.from_numpy(Gaussian_blur_weak_test_arr).float().div(255.0).unsqueeze(1)\n",
        "\n",
        "#for i in range(len(train_set_arr)):\n",
        "\n",
        "for i in range(len(test_set_arr)):\n",
        "  Gaussian_blur_weak_test_merged.append(Gaussian_blur_weak_test_tensor[i],Y_val_set[i])```\n",
        "\n"
      ],
      "metadata": {
        "id": "q_mXOcD9iJD8"
      }
    },
    {
      "cell_type": "markdown",
      "source": [
        "print(torch.from_numpy(cv2.GaussianBlur(train_set_arr[i],(3,3),0).transpose(1,0,2)).float().div(255.0).shape)"
      ],
      "metadata": {
        "id": "o-kmOm7BeFhy"
      }
    },
    {
      "cell_type": "markdown",
      "source": [
        "Gaussian_blur_weak_tr_arr = np.array([])\n",
        "y = np.array([])\n",
        "GS = cv2.GaussianBlur(train_set_arr[1],(3,3),0)\n",
        "Gaussian_blur_weak_tr_arr = np.append(Gaussian_blur_weak_tr_arr,GS)\n",
        "print(y.shape)\n",
        "print(Gaussian_blur_weak_tr_arr.shape)\n",
        "\n",
        "print(type(GS))\n",
        "\n",
        "print(Gaussian_blur_weak_tr_arr.shape)"
      ],
      "metadata": {
        "id": "ejWDd8yXLjQs"
      }
    },
    {
      "cell_type": "markdown",
      "source": [
        "type(Gaussian_blur_weak_tr_arr)"
      ],
      "metadata": {
        "id": "HyS90AxwBVkG"
      }
    },
    {
      "cell_type": "code",
      "source": [
        "dataiter = iter(tr_loader)\n",
        "\n",
        "images, labels = dataiter.next()\n",
        "images = images.numpy() # convert images to numpy for display\n",
        "\n",
        "#Plot the images\n",
        "fig = plt.figure(figsize=(3,3))\n",
        "# display 20 images\n",
        "for idx in np.arange(5):\n",
        "    ax = plt.subplot(1, 5, idx+1, xticks=[], yticks=[])\n",
        "    plt.imshow(images[idx].reshape(32,32,3))\n",
        "    ax.set_title(classes[labels[idx]])"
      ],
      "metadata": {
        "id": "lfSLyxZsO4L9",
        "colab": {
          "base_uri": "https://localhost:8080/",
          "height": 79
        },
        "outputId": "1c717741-0c58-4ea2-96ab-00aaea587918"
      },
      "execution_count": 18,
      "outputs": [
        {
          "output_type": "display_data",
          "data": {
            "image/png": "[encoded data removed]",
            "text/plain": [
              "<Figure size 216x216 with 5 Axes>"
            ]
          },
          "metadata": {}
        }
      ]
    },
    {
      "cell_type": "code",
      "source": [
        "class DenosingAutoencoder(nn.Module):\n",
        "  def __init__(self):\n",
        "    super(DenosingAutoencoder, self).__init__()\n",
        "    #input = 3 by 32 by 32\n",
        "    self.encoder = nn.Sequential(\n",
        "        nn.Conv2d(in_channels = 3, out_channels = 8, kernel_size = 3, stride = 2, padding=0),\n",
        "    #1nd layer_size = 8 by 15 by 15\n",
        "        nn.ReLU(True),\n",
        "\n",
        "        nn.Conv2d(in_channels =8, out_channels = 16, kernel_size = 3, stride = 2, padding = 0),\n",
        "    #2nd leyar_size = 16 by 7 by 7   \n",
        "        nn.ReLU(True),\n",
        "\n",
        "        nn.Conv2d(in_channels = 16, out_channels = 32, kernel_size = 3, stride = 2, padding = 0),\n",
        "    #3nd layer_size = 32 by 3 by 3\n",
        "        nn.ReLU(True),\n",
        "    #   nn.Flatten(),\n",
        "    #5nd layer (32, 32, 3, 3) -> (32, 32*3*3) \n",
        "    #   nn.Linear(32*3*3,10),\n",
        "    #6nd layer (32, 32*3*3) -> (32, 10)\n",
        "    #   nn.ReLU(True))\n",
        "    )\n",
        "    self.decoder = nn.Sequential(\n",
        "    #   nn.Linear(10, 32*3*3),\n",
        "    #    nn.ReLU(True),\n",
        "    #1nd layer (32,10) -> (32,32*3*3)\n",
        "    #    nn.Unflatten(1,(32,3,3)),\n",
        "    #2nd layer (32, 32*3*3) -> (32, 32, 3, 3)\n",
        "        nn.ConvTranspose2d(in_channels = 32, out_channels = 16, kernel_size = 3, stride = 2, padding =0),\n",
        "        nn.ReLU(True),\n",
        "    #3nd layer (batch_size, 16, 7, 7)\n",
        "        nn.ConvTranspose2d(in_channels = 16, out_channels = 8, kernel_size = 3, stride = 2, padding = 0),\n",
        "        nn.ReLU(True),\n",
        "    #4nd layer (batch_size, 8, 15, 15)\n",
        "        nn.ConvTranspose2d(in_channels = 8, out_channels = 3, kernel_size = 3, stride = 2, padding = 0, output_padding = 1),\n",
        "    #5nd layer(batch_size, 3, 32, 32)\n",
        "        nn.Sigmoid())\n",
        "  \n",
        "  def forward(self, x):\n",
        "        encoded = self.encoder(x)\n",
        "        decoded = self.decoder(encoded)\n",
        "        return decoded\n"
      ],
      "metadata": {
        "id": "fY18EkZDO93a"
      },
      "execution_count": 19,
      "outputs": []
    },
    {
      "cell_type": "code",
      "source": [
        "#Instantiate the model\n",
        "model = DenosingAutoencoder()\n",
        "print(model)"
      ],
      "metadata": {
        "id": "f-CcEloMjViX",
        "colab": {
          "base_uri": "https://localhost:8080/"
        },
        "outputId": "d7efd91c-4e66-40ab-cd04-2bf02a3f284c"
      },
      "execution_count": 20,
      "outputs": [
        {
          "output_type": "stream",
          "name": "stdout",
          "text": [
            "DenosingAutoencoder(\n",
            "  (encoder): Sequential(\n",
            "    (0): Conv2d(3, 8, kernel_size=(3, 3), stride=(2, 2))\n",
            "    (1): ReLU(inplace=True)\n",
            "    (2): Conv2d(8, 16, kernel_size=(3, 3), stride=(2, 2))\n",
            "    (3): ReLU(inplace=True)\n",
            "    (4): Conv2d(16, 32, kernel_size=(3, 3), stride=(2, 2))\n",
            "    (5): ReLU(inplace=True)\n",
            "  )\n",
            "  (decoder): Sequential(\n",
            "    (0): ConvTranspose2d(32, 16, kernel_size=(3, 3), stride=(2, 2))\n",
            "    (1): ReLU(inplace=True)\n",
            "    (2): ConvTranspose2d(16, 8, kernel_size=(3, 3), stride=(2, 2))\n",
            "    (3): ReLU(inplace=True)\n",
            "    (4): ConvTranspose2d(8, 3, kernel_size=(3, 3), stride=(2, 2), output_padding=(1, 1))\n",
            "    (5): Sigmoid()\n",
            "  )\n",
            ")\n"
          ]
        }
      ]
    },
    {
      "cell_type": "code",
      "source": [
        "#Epochs\n",
        "n_epochs = 50\n",
        "\n",
        "#Optimizer\n",
        "criterion = nn.MSELoss()\n",
        "\n",
        "optimizer = torch.optim.Adam(model.parameters(), lr=0.001, weight_decay  = 1e-04)\n",
        "\n",
        "#Onelr = torch.optim.lr_scheduler.OneCycleLR(optimizer, max_lr = 0.005, epochs=n_epochs,\n",
        "#                                            steps_per_epoch=len(tr_loader),cycle_momentum = True, base_momentum = 0.85, max_momentum = 0.95 )\n",
        "# lr 0.1에서 1이 최적. \n",
        "def get_device():\n",
        "    if torch.cuda.is_available():\n",
        "        device = 'cuda'\n",
        "    else:\n",
        "        device = 'cpu'\n",
        "    return device\n",
        "\n",
        "device = get_device()\n",
        "print(device)\n",
        "model.to(device)"
      ],
      "metadata": {
        "id": "R5BgD5a4j8la",
        "colab": {
          "base_uri": "https://localhost:8080/"
        },
        "outputId": "3a909473-c74b-4728-8a86-6e9865400f72"
      },
      "execution_count": 21,
      "outputs": [
        {
          "output_type": "stream",
          "name": "stdout",
          "text": [
            "cpu\n"
          ]
        },
        {
          "output_type": "execute_result",
          "data": {
            "text/plain": [
              "DenosingAutoencoder(\n",
              "  (encoder): Sequential(\n",
              "    (0): Conv2d(3, 8, kernel_size=(3, 3), stride=(2, 2))\n",
              "    (1): ReLU(inplace=True)\n",
              "    (2): Conv2d(8, 16, kernel_size=(3, 3), stride=(2, 2))\n",
              "    (3): ReLU(inplace=True)\n",
              "    (4): Conv2d(16, 32, kernel_size=(3, 3), stride=(2, 2))\n",
              "    (5): ReLU(inplace=True)\n",
              "  )\n",
              "  (decoder): Sequential(\n",
              "    (0): ConvTranspose2d(32, 16, kernel_size=(3, 3), stride=(2, 2))\n",
              "    (1): ReLU(inplace=True)\n",
              "    (2): ConvTranspose2d(16, 8, kernel_size=(3, 3), stride=(2, 2))\n",
              "    (3): ReLU(inplace=True)\n",
              "    (4): ConvTranspose2d(8, 3, kernel_size=(3, 3), stride=(2, 2), output_padding=(1, 1))\n",
              "    (5): Sigmoid()\n",
              "  )\n",
              ")"
            ]
          },
          "metadata": {},
          "execution_count": 21
        }
      ]
    },
    {
      "cell_type": "code",
      "source": [
        "def get_lr(optimizer):\n",
        "    for param_group in optimizer.param_groups:\n",
        "        return param_group['lr']"
      ],
      "metadata": {
        "id": "HY8d91w4OlCj"
      },
      "execution_count": 22,
      "outputs": []
    },
    {
      "cell_type": "code",
      "source": [
        "# Define Loss function\n",
        "def mse_loss(input, target):\n",
        "    r = input[:,0:1,:,:] - target[:,0:1,:,:]\n",
        "    g = (input[:,1:2,:,:] - target[:,1:2,:,:])\n",
        "    b = input[:,2:3,:,:] - target[:,2:3,:,:]\n",
        "    \n",
        "    r = torch.mean(r**2)\n",
        "    g = torch.mean(g**2)\n",
        "    b = torch.mean(b**2)\n",
        "    \n",
        "    mean = (r + g + b)/3\n",
        "   \n",
        "    return mean"
      ],
      "metadata": {
        "id": "uYkusPPemguQ"
      },
      "execution_count": 23,
      "outputs": []
    },
    {
      "cell_type": "markdown",
      "source": [
        ""
      ],
      "metadata": {
        "id": "VkZKymjR36iM"
      }
    },
    {
      "cell_type": "code",
      "source": [
        "\n",
        "train_loss_graph = np.array([])\n",
        "val_loss_graph = np.array([])\n",
        "\n",
        "start = time.time()\n",
        "\n",
        "for epoch in range(1, n_epochs+1):\n",
        "    print(f\"Epoch : [{epoch}/{n_epochs}]\",\"\\n\")\n",
        "    model.train()\n",
        "    # monitor training loss\n",
        "    train_loss = 0.0\n",
        "    total_train_loss = 0.0\n",
        "    val_los = 0.0\n",
        "    total_val_loss = 0.0\n",
        "    tr_loader_iter = iter(tr_loader)\n",
        "    '''\n",
        "    Total되는 새로운 변수를 하나 만들어줘야지 val_loss가 제대로 더해진다. 안 하면 이상하게 안 더해진다.\n",
        "    '''\n",
        "\n",
        "    #Training\n",
        "    for i, (hat_input) in enumerate(hat_tr_dataloader):\n",
        "        \n",
        "        images, _ = tr_loader_iter.next()\n",
        "        hat_images, _ = hat_input\n",
        "        images = images.to(device)\n",
        " #check       print(images.shape)\n",
        "        hat_images = hat_images.to(device)        \n",
        "        optimizer.zero_grad()\n",
        " \n",
        "#check0. print(hat_images.shape)  -> torch.Size([32, 3, 32, 32])\n",
        "\n",
        "        outputs = model(hat_images)\n",
        "#check      print(outputs.shape)\n",
        "        loss = mse_loss(outputs, images)\n",
        "        loss.backward()\n",
        "        optimizer.step()\n",
        "        train_loss = loss.item()\n",
        "        total_train_loss += train_loss\n",
        "#        Onelr.step()\n",
        "    print(get_lr(optimizer))\n",
        "#check1.        print(f\"minibatch : {i}, train_loss_added : {total_train_loss/1250}\")\n",
        "    total_train_loss = total_train_loss/len(tr_loader)\n",
        "    train_loss_graph = np.append(train_loss_graph, total_train_loss)\n",
        "\n",
        "\n",
        "    #evaluation\n",
        "    if (epoch+1)%5 == 0:\n",
        "\n",
        "        model.eval()\n",
        "\n",
        "        with torch.no_grad():   \n",
        "          optimizer.zero_grad()\n",
        "            \n",
        "          val_loader_iter = iter(val_loader)\n",
        "          hat_val_iter    = iter(hat_val_dataloader)\n",
        "\n",
        "\n",
        "\n",
        "          for i in range(len(val_loader)):\n",
        "              \"\"\"\n",
        "              enumerate는 메모리 누설로 batch를 잃어버리는 현상 발생\n",
        "              \"\"\"\n",
        "\n",
        "         \n",
        "              images, labels = val_loader_iter.next()\n",
        "              hat_images,_ = hat_val_iter.next()\n",
        "\n",
        "              images = images.to(device)\n",
        "              hat_images = hat_images.to(device)\n",
        "              outputs = model(hat_images)\n",
        "\n",
        "              val_loss = mse_loss(outputs, images)\n",
        "              val_loss = val_loss.item()\n",
        "              total_val_loss += val_loss\n",
        "#check2.     print(f\"val_mini_batch : {i }, val_loss_added : {total_val_loss/313}\")                \n",
        "          total_val_loss = total_val_loss/len(val_loader)\n",
        "          val_loss_graph = np.append(val_loss_graph, total_val_loss)\n",
        "          print('Training Loss: {:.6f}\\t validation Loss {:.6f}'.format(total_train_loss, total_val_loss))\n",
        "          \n",
        "#check3.     \n",
        "\n",
        "          for j in range(5):\n",
        "            val_ssim = ssim(images[j].cpu().detach().numpy().transpose(1, 2, 0), outputs[j].cpu().detach().numpy().transpose(1, 2, 0), multichannel=True, gaussian_weights=True, use_sample_covariance=False)\n",
        "            val_psnr = Get_psnr(images[j], outputs[j], max_val = 1.0)\n",
        "            print(f'Class:{classes[labels[j]]} \\t PNSR :{val_psnr} \\t SSIM : {val_ssim}')\n",
        "            \n",
        "            ax = plt.subplot(3,5,j+1)\n",
        "            plt.imshow(images[j].cpu().numpy().transpose(1, 2, 0))\n",
        "            ax.get_xaxis().set_visible(False)\n",
        "            ax.get_yaxis().set_visible(False)\n",
        "            ax.set_title(classes[labels[j]])\n",
        "\n",
        "            ax = plt.subplot(3,5,j+5+1)\n",
        "            plt.imshow(hat_images[j].cpu().numpy().transpose(1, 2, 0))\n",
        "            ax.get_xaxis().set_visible(False)\n",
        "            ax.get_yaxis().set_visible(False)\n",
        "            ax.set_title(classes[labels[j]])\n",
        "\n",
        "            ax = plt.subplot(3, 5, j+5+5+1)\n",
        "            plt.imshow(outputs[j].cpu().detach().numpy().transpose(1, 2, 0))\n",
        "            ax.get_xaxis().set_visible(False)\n",
        "            ax.get_yaxis().set_visible(False)\n",
        "            ax.set_title(classes[labels[j]])\n",
        "          plt.show()   \n",
        "\n",
        "end = time.time()\n",
        "total_time = (end-start)/60\n",
        "print(total_time,'m','\\n')"
      ],
      "metadata": {
        "id": "e0Fv-crsj-8x",
        "colab": {
          "base_uri": "https://localhost:8080/",
          "height": 1000
        },
        "collapsed": true,
        "outputId": "37afa448-715d-4260-8221-5d2fee960ba0"
      },
      "execution_count": 24,
      "outputs": [
        {
          "output_type": "stream",
          "name": "stdout",
          "text": [
            "Epoch : [1/50] \n",
            "\n",
            "0.001\n",
            "Epoch : [2/50] \n",
            "\n",
            "0.001\n",
            "Epoch : [3/50] \n",
            "\n",
            "0.001\n",
            "Epoch : [4/50] \n",
            "\n",
            "0.001\n",
            "Training Loss: 0.014415\t validation Loss 0.014699\n",
            "Class:dog \t PNSR :19.619937511582258 \t SSIM : 0.6557769974346942\n",
            "Class:automobile \t PNSR :14.323623559347105 \t SSIM : 0.6930495268561403\n",
            "Class:horse \t PNSR :19.25971416069595 \t SSIM : 0.7922273303184969\n",
            "Class:cat \t PNSR :12.126341920010905 \t SSIM : 0.8569346578515254\n",
            "Class:dog \t PNSR :24.138332357636344 \t SSIM : 0.8694291753627711\n"
          ]
        },
        {
          "output_type": "display_data",
          "data": {
            "image/png": "[encoded data removed]",
            "text/plain": [
              "<Figure size 432x288 with 15 Axes>"
            ]
          },
          "metadata": {
            "needs_background": "light"
          }
        },
        {
          "output_type": "stream",
          "name": "stdout",
          "text": [
            "Epoch : [5/50] \n",
            "\n",
            "0.001\n",
            "Epoch : [6/50] \n",
            "\n",
            "0.001\n",
            "Epoch : [7/50] \n",
            "\n",
            "0.001\n",
            "Epoch : [8/50] \n",
            "\n"
          ]
        },
        {
          "output_type": "error",
          "ename": "KeyboardInterrupt",
          "evalue": "ignored",
          "traceback": [
            "\u001b[0;31m---------------------------------------------------------------------------\u001b[0m",
            "\u001b[0;31mKeyboardInterrupt\u001b[0m                         Traceback (most recent call last)",
            "\u001b[0;32m<ipython-input-24-255d9405d86f>\u001b[0m in \u001b[0;36m<module>\u001b[0;34m()\u001b[0m\n\u001b[1;32m     19\u001b[0m \u001b[0;34m\u001b[0m\u001b[0m\n\u001b[1;32m     20\u001b[0m     \u001b[0;31m#Training\u001b[0m\u001b[0;34m\u001b[0m\u001b[0;34m\u001b[0m\u001b[0;34m\u001b[0m\u001b[0m\n\u001b[0;32m---> 21\u001b[0;31m     \u001b[0;32mfor\u001b[0m \u001b[0mi\u001b[0m\u001b[0;34m,\u001b[0m \u001b[0;34m(\u001b[0m\u001b[0mhat_input\u001b[0m\u001b[0;34m)\u001b[0m \u001b[0;32min\u001b[0m \u001b[0menumerate\u001b[0m\u001b[0;34m(\u001b[0m\u001b[0mhat_tr_dataloader\u001b[0m\u001b[0;34m)\u001b[0m\u001b[0;34m:\u001b[0m\u001b[0;34m\u001b[0m\u001b[0;34m\u001b[0m\u001b[0m\n\u001b[0m\u001b[1;32m     22\u001b[0m \u001b[0;34m\u001b[0m\u001b[0m\n\u001b[1;32m     23\u001b[0m         \u001b[0mimages\u001b[0m\u001b[0;34m,\u001b[0m \u001b[0m_\u001b[0m \u001b[0;34m=\u001b[0m \u001b[0mtr_loader_iter\u001b[0m\u001b[0;34m.\u001b[0m\u001b[0mnext\u001b[0m\u001b[0;34m(\u001b[0m\u001b[0;34m)\u001b[0m\u001b[0;34m\u001b[0m\u001b[0;34m\u001b[0m\u001b[0m\n",
            "\u001b[0;32m/usr/local/lib/python3.7/dist-packages/torch/utils/data/dataloader.py\u001b[0m in \u001b[0;36m__next__\u001b[0;34m(self)\u001b[0m\n\u001b[1;32m    519\u001b[0m             \u001b[0;32mif\u001b[0m \u001b[0mself\u001b[0m\u001b[0;34m.\u001b[0m\u001b[0m_sampler_iter\u001b[0m \u001b[0;32mis\u001b[0m \u001b[0;32mNone\u001b[0m\u001b[0;34m:\u001b[0m\u001b[0;34m\u001b[0m\u001b[0;34m\u001b[0m\u001b[0m\n\u001b[1;32m    520\u001b[0m                 \u001b[0mself\u001b[0m\u001b[0;34m.\u001b[0m\u001b[0m_reset\u001b[0m\u001b[0;34m(\u001b[0m\u001b[0;34m)\u001b[0m\u001b[0;34m\u001b[0m\u001b[0;34m\u001b[0m\u001b[0m\n\u001b[0;32m--> 521\u001b[0;31m             \u001b[0mdata\u001b[0m \u001b[0;34m=\u001b[0m \u001b[0mself\u001b[0m\u001b[0;34m.\u001b[0m\u001b[0m_next_data\u001b[0m\u001b[0;34m(\u001b[0m\u001b[0;34m)\u001b[0m\u001b[0;34m\u001b[0m\u001b[0;34m\u001b[0m\u001b[0m\n\u001b[0m\u001b[1;32m    522\u001b[0m             \u001b[0mself\u001b[0m\u001b[0;34m.\u001b[0m\u001b[0m_num_yielded\u001b[0m \u001b[0;34m+=\u001b[0m \u001b[0;36m1\u001b[0m\u001b[0;34m\u001b[0m\u001b[0;34m\u001b[0m\u001b[0m\n\u001b[1;32m    523\u001b[0m             \u001b[0;32mif\u001b[0m \u001b[0mself\u001b[0m\u001b[0;34m.\u001b[0m\u001b[0m_dataset_kind\u001b[0m \u001b[0;34m==\u001b[0m \u001b[0m_DatasetKind\u001b[0m\u001b[0;34m.\u001b[0m\u001b[0mIterable\u001b[0m \u001b[0;32mand\u001b[0m\u001b[0;31m \u001b[0m\u001b[0;31m\\\u001b[0m\u001b[0;34m\u001b[0m\u001b[0;34m\u001b[0m\u001b[0m\n",
            "\u001b[0;32m/usr/local/lib/python3.7/dist-packages/torch/utils/data/dataloader.py\u001b[0m in \u001b[0;36m_next_data\u001b[0;34m(self)\u001b[0m\n\u001b[1;32m   1184\u001b[0m \u001b[0;34m\u001b[0m\u001b[0m\n\u001b[1;32m   1185\u001b[0m             \u001b[0;32massert\u001b[0m \u001b[0;32mnot\u001b[0m \u001b[0mself\u001b[0m\u001b[0;34m.\u001b[0m\u001b[0m_shutdown\u001b[0m \u001b[0;32mand\u001b[0m \u001b[0mself\u001b[0m\u001b[0;34m.\u001b[0m\u001b[0m_tasks_outstanding\u001b[0m \u001b[0;34m>\u001b[0m \u001b[0;36m0\u001b[0m\u001b[0;34m\u001b[0m\u001b[0;34m\u001b[0m\u001b[0m\n\u001b[0;32m-> 1186\u001b[0;31m             \u001b[0midx\u001b[0m\u001b[0;34m,\u001b[0m \u001b[0mdata\u001b[0m \u001b[0;34m=\u001b[0m \u001b[0mself\u001b[0m\u001b[0;34m.\u001b[0m\u001b[0m_get_data\u001b[0m\u001b[0;34m(\u001b[0m\u001b[0;34m)\u001b[0m\u001b[0;34m\u001b[0m\u001b[0;34m\u001b[0m\u001b[0m\n\u001b[0m\u001b[1;32m   1187\u001b[0m             \u001b[0mself\u001b[0m\u001b[0;34m.\u001b[0m\u001b[0m_tasks_outstanding\u001b[0m \u001b[0;34m-=\u001b[0m \u001b[0;36m1\u001b[0m\u001b[0;34m\u001b[0m\u001b[0;34m\u001b[0m\u001b[0m\n\u001b[1;32m   1188\u001b[0m             \u001b[0;32mif\u001b[0m \u001b[0mself\u001b[0m\u001b[0;34m.\u001b[0m\u001b[0m_dataset_kind\u001b[0m \u001b[0;34m==\u001b[0m \u001b[0m_DatasetKind\u001b[0m\u001b[0;34m.\u001b[0m\u001b[0mIterable\u001b[0m\u001b[0;34m:\u001b[0m\u001b[0;34m\u001b[0m\u001b[0;34m\u001b[0m\u001b[0m\n",
            "\u001b[0;32m/usr/local/lib/python3.7/dist-packages/torch/utils/data/dataloader.py\u001b[0m in \u001b[0;36m_get_data\u001b[0;34m(self)\u001b[0m\n\u001b[1;32m   1150\u001b[0m         \u001b[0;32melse\u001b[0m\u001b[0;34m:\u001b[0m\u001b[0;34m\u001b[0m\u001b[0;34m\u001b[0m\u001b[0m\n\u001b[1;32m   1151\u001b[0m             \u001b[0;32mwhile\u001b[0m \u001b[0;32mTrue\u001b[0m\u001b[0;34m:\u001b[0m\u001b[0;34m\u001b[0m\u001b[0;34m\u001b[0m\u001b[0m\n\u001b[0;32m-> 1152\u001b[0;31m                 \u001b[0msuccess\u001b[0m\u001b[0;34m,\u001b[0m \u001b[0mdata\u001b[0m \u001b[0;34m=\u001b[0m \u001b[0mself\u001b[0m\u001b[0;34m.\u001b[0m\u001b[0m_try_get_data\u001b[0m\u001b[0;34m(\u001b[0m\u001b[0;34m)\u001b[0m\u001b[0;34m\u001b[0m\u001b[0;34m\u001b[0m\u001b[0m\n\u001b[0m\u001b[1;32m   1153\u001b[0m                 \u001b[0;32mif\u001b[0m \u001b[0msuccess\u001b[0m\u001b[0;34m:\u001b[0m\u001b[0;34m\u001b[0m\u001b[0;34m\u001b[0m\u001b[0m\n\u001b[1;32m   1154\u001b[0m                     \u001b[0;32mreturn\u001b[0m \u001b[0mdata\u001b[0m\u001b[0;34m\u001b[0m\u001b[0;34m\u001b[0m\u001b[0m\n",
            "\u001b[0;32m/usr/local/lib/python3.7/dist-packages/torch/utils/data/dataloader.py\u001b[0m in \u001b[0;36m_try_get_data\u001b[0;34m(self, timeout)\u001b[0m\n\u001b[1;32m    988\u001b[0m         \u001b[0;31m#   (bool: whether successfully get data, any: data if successful else None)\u001b[0m\u001b[0;34m\u001b[0m\u001b[0;34m\u001b[0m\u001b[0;34m\u001b[0m\u001b[0m\n\u001b[1;32m    989\u001b[0m         \u001b[0;32mtry\u001b[0m\u001b[0;34m:\u001b[0m\u001b[0;34m\u001b[0m\u001b[0;34m\u001b[0m\u001b[0m\n\u001b[0;32m--> 990\u001b[0;31m             \u001b[0mdata\u001b[0m \u001b[0;34m=\u001b[0m \u001b[0mself\u001b[0m\u001b[0;34m.\u001b[0m\u001b[0m_data_queue\u001b[0m\u001b[0;34m.\u001b[0m\u001b[0mget\u001b[0m\u001b[0;34m(\u001b[0m\u001b[0mtimeout\u001b[0m\u001b[0;34m=\u001b[0m\u001b[0mtimeout\u001b[0m\u001b[0;34m)\u001b[0m\u001b[0;34m\u001b[0m\u001b[0;34m\u001b[0m\u001b[0m\n\u001b[0m\u001b[1;32m    991\u001b[0m             \u001b[0;32mreturn\u001b[0m \u001b[0;34m(\u001b[0m\u001b[0;32mTrue\u001b[0m\u001b[0;34m,\u001b[0m \u001b[0mdata\u001b[0m\u001b[0;34m)\u001b[0m\u001b[0;34m\u001b[0m\u001b[0;34m\u001b[0m\u001b[0m\n\u001b[1;32m    992\u001b[0m         \u001b[0;32mexcept\u001b[0m \u001b[0mException\u001b[0m \u001b[0;32mas\u001b[0m \u001b[0me\u001b[0m\u001b[0;34m:\u001b[0m\u001b[0;34m\u001b[0m\u001b[0;34m\u001b[0m\u001b[0m\n",
            "\u001b[0;32m/usr/lib/python3.7/multiprocessing/queues.py\u001b[0m in \u001b[0;36mget\u001b[0;34m(self, block, timeout)\u001b[0m\n\u001b[1;32m    111\u001b[0m                 \u001b[0mself\u001b[0m\u001b[0;34m.\u001b[0m\u001b[0m_rlock\u001b[0m\u001b[0;34m.\u001b[0m\u001b[0mrelease\u001b[0m\u001b[0;34m(\u001b[0m\u001b[0;34m)\u001b[0m\u001b[0;34m\u001b[0m\u001b[0;34m\u001b[0m\u001b[0m\n\u001b[1;32m    112\u001b[0m         \u001b[0;31m# unserialize the data after having released the lock\u001b[0m\u001b[0;34m\u001b[0m\u001b[0;34m\u001b[0m\u001b[0;34m\u001b[0m\u001b[0m\n\u001b[0;32m--> 113\u001b[0;31m         \u001b[0;32mreturn\u001b[0m \u001b[0m_ForkingPickler\u001b[0m\u001b[0;34m.\u001b[0m\u001b[0mloads\u001b[0m\u001b[0;34m(\u001b[0m\u001b[0mres\u001b[0m\u001b[0;34m)\u001b[0m\u001b[0;34m\u001b[0m\u001b[0;34m\u001b[0m\u001b[0m\n\u001b[0m\u001b[1;32m    114\u001b[0m \u001b[0;34m\u001b[0m\u001b[0m\n\u001b[1;32m    115\u001b[0m     \u001b[0;32mdef\u001b[0m \u001b[0mqsize\u001b[0m\u001b[0;34m(\u001b[0m\u001b[0mself\u001b[0m\u001b[0;34m)\u001b[0m\u001b[0;34m:\u001b[0m\u001b[0;34m\u001b[0m\u001b[0;34m\u001b[0m\u001b[0m\n",
            "\u001b[0;32m/usr/local/lib/python3.7/dist-packages/torch/multiprocessing/reductions.py\u001b[0m in \u001b[0;36mrebuild_storage_fd\u001b[0;34m(cls, df, size)\u001b[0m\n\u001b[1;32m    287\u001b[0m \u001b[0;34m\u001b[0m\u001b[0m\n\u001b[1;32m    288\u001b[0m \u001b[0;32mdef\u001b[0m \u001b[0mrebuild_storage_fd\u001b[0m\u001b[0;34m(\u001b[0m\u001b[0mcls\u001b[0m\u001b[0;34m,\u001b[0m \u001b[0mdf\u001b[0m\u001b[0;34m,\u001b[0m \u001b[0msize\u001b[0m\u001b[0;34m)\u001b[0m\u001b[0;34m:\u001b[0m\u001b[0;34m\u001b[0m\u001b[0;34m\u001b[0m\u001b[0m\n\u001b[0;32m--> 289\u001b[0;31m     \u001b[0mfd\u001b[0m \u001b[0;34m=\u001b[0m \u001b[0mdf\u001b[0m\u001b[0;34m.\u001b[0m\u001b[0mdetach\u001b[0m\u001b[0;34m(\u001b[0m\u001b[0;34m)\u001b[0m\u001b[0;34m\u001b[0m\u001b[0;34m\u001b[0m\u001b[0m\n\u001b[0m\u001b[1;32m    290\u001b[0m     \u001b[0;32mtry\u001b[0m\u001b[0;34m:\u001b[0m\u001b[0;34m\u001b[0m\u001b[0;34m\u001b[0m\u001b[0m\n\u001b[1;32m    291\u001b[0m         \u001b[0mstorage\u001b[0m \u001b[0;34m=\u001b[0m \u001b[0mstorage_from_cache\u001b[0m\u001b[0;34m(\u001b[0m\u001b[0mcls\u001b[0m\u001b[0;34m,\u001b[0m \u001b[0mfd_id\u001b[0m\u001b[0;34m(\u001b[0m\u001b[0mfd\u001b[0m\u001b[0;34m)\u001b[0m\u001b[0;34m)\u001b[0m\u001b[0;34m\u001b[0m\u001b[0;34m\u001b[0m\u001b[0m\n",
            "\u001b[0;32m/usr/lib/python3.7/multiprocessing/resource_sharer.py\u001b[0m in \u001b[0;36mdetach\u001b[0;34m(self)\u001b[0m\n\u001b[1;32m     55\u001b[0m         \u001b[0;32mdef\u001b[0m \u001b[0mdetach\u001b[0m\u001b[0;34m(\u001b[0m\u001b[0mself\u001b[0m\u001b[0;34m)\u001b[0m\u001b[0;34m:\u001b[0m\u001b[0;34m\u001b[0m\u001b[0;34m\u001b[0m\u001b[0m\n\u001b[1;32m     56\u001b[0m             \u001b[0;34m'''Get the fd.  This should only be called once.'''\u001b[0m\u001b[0;34m\u001b[0m\u001b[0;34m\u001b[0m\u001b[0m\n\u001b[0;32m---> 57\u001b[0;31m             \u001b[0;32mwith\u001b[0m \u001b[0m_resource_sharer\u001b[0m\u001b[0;34m.\u001b[0m\u001b[0mget_connection\u001b[0m\u001b[0;34m(\u001b[0m\u001b[0mself\u001b[0m\u001b[0;34m.\u001b[0m\u001b[0m_id\u001b[0m\u001b[0;34m)\u001b[0m \u001b[0;32mas\u001b[0m \u001b[0mconn\u001b[0m\u001b[0;34m:\u001b[0m\u001b[0;34m\u001b[0m\u001b[0;34m\u001b[0m\u001b[0m\n\u001b[0m\u001b[1;32m     58\u001b[0m                 \u001b[0;32mreturn\u001b[0m \u001b[0mreduction\u001b[0m\u001b[0;34m.\u001b[0m\u001b[0mrecv_handle\u001b[0m\u001b[0;34m(\u001b[0m\u001b[0mconn\u001b[0m\u001b[0;34m)\u001b[0m\u001b[0;34m\u001b[0m\u001b[0;34m\u001b[0m\u001b[0m\n\u001b[1;32m     59\u001b[0m \u001b[0;34m\u001b[0m\u001b[0m\n",
            "\u001b[0;32m/usr/lib/python3.7/multiprocessing/resource_sharer.py\u001b[0m in \u001b[0;36mget_connection\u001b[0;34m(ident)\u001b[0m\n\u001b[1;32m     85\u001b[0m         \u001b[0;32mfrom\u001b[0m \u001b[0;34m.\u001b[0m\u001b[0mconnection\u001b[0m \u001b[0;32mimport\u001b[0m \u001b[0mClient\u001b[0m\u001b[0;34m\u001b[0m\u001b[0;34m\u001b[0m\u001b[0m\n\u001b[1;32m     86\u001b[0m         \u001b[0maddress\u001b[0m\u001b[0;34m,\u001b[0m \u001b[0mkey\u001b[0m \u001b[0;34m=\u001b[0m \u001b[0mident\u001b[0m\u001b[0;34m\u001b[0m\u001b[0;34m\u001b[0m\u001b[0m\n\u001b[0;32m---> 87\u001b[0;31m         \u001b[0mc\u001b[0m \u001b[0;34m=\u001b[0m \u001b[0mClient\u001b[0m\u001b[0;34m(\u001b[0m\u001b[0maddress\u001b[0m\u001b[0;34m,\u001b[0m \u001b[0mauthkey\u001b[0m\u001b[0;34m=\u001b[0m\u001b[0mprocess\u001b[0m\u001b[0;34m.\u001b[0m\u001b[0mcurrent_process\u001b[0m\u001b[0;34m(\u001b[0m\u001b[0;34m)\u001b[0m\u001b[0;34m.\u001b[0m\u001b[0mauthkey\u001b[0m\u001b[0;34m)\u001b[0m\u001b[0;34m\u001b[0m\u001b[0;34m\u001b[0m\u001b[0m\n\u001b[0m\u001b[1;32m     88\u001b[0m         \u001b[0mc\u001b[0m\u001b[0;34m.\u001b[0m\u001b[0msend\u001b[0m\u001b[0;34m(\u001b[0m\u001b[0;34m(\u001b[0m\u001b[0mkey\u001b[0m\u001b[0;34m,\u001b[0m \u001b[0mos\u001b[0m\u001b[0;34m.\u001b[0m\u001b[0mgetpid\u001b[0m\u001b[0;34m(\u001b[0m\u001b[0;34m)\u001b[0m\u001b[0;34m)\u001b[0m\u001b[0;34m)\u001b[0m\u001b[0;34m\u001b[0m\u001b[0;34m\u001b[0m\u001b[0m\n\u001b[1;32m     89\u001b[0m         \u001b[0;32mreturn\u001b[0m \u001b[0mc\u001b[0m\u001b[0;34m\u001b[0m\u001b[0;34m\u001b[0m\u001b[0m\n",
            "\u001b[0;32m/usr/lib/python3.7/multiprocessing/connection.py\u001b[0m in \u001b[0;36mClient\u001b[0;34m(address, family, authkey)\u001b[0m\n\u001b[1;32m    496\u001b[0m \u001b[0;34m\u001b[0m\u001b[0m\n\u001b[1;32m    497\u001b[0m     \u001b[0;32mif\u001b[0m \u001b[0mauthkey\u001b[0m \u001b[0;32mis\u001b[0m \u001b[0;32mnot\u001b[0m \u001b[0;32mNone\u001b[0m\u001b[0;34m:\u001b[0m\u001b[0;34m\u001b[0m\u001b[0;34m\u001b[0m\u001b[0m\n\u001b[0;32m--> 498\u001b[0;31m         \u001b[0manswer_challenge\u001b[0m\u001b[0;34m(\u001b[0m\u001b[0mc\u001b[0m\u001b[0;34m,\u001b[0m \u001b[0mauthkey\u001b[0m\u001b[0;34m)\u001b[0m\u001b[0;34m\u001b[0m\u001b[0;34m\u001b[0m\u001b[0m\n\u001b[0m\u001b[1;32m    499\u001b[0m         \u001b[0mdeliver_challenge\u001b[0m\u001b[0;34m(\u001b[0m\u001b[0mc\u001b[0m\u001b[0;34m,\u001b[0m \u001b[0mauthkey\u001b[0m\u001b[0;34m)\u001b[0m\u001b[0;34m\u001b[0m\u001b[0;34m\u001b[0m\u001b[0m\n\u001b[1;32m    500\u001b[0m \u001b[0;34m\u001b[0m\u001b[0m\n",
            "\u001b[0;32m/usr/lib/python3.7/multiprocessing/connection.py\u001b[0m in \u001b[0;36manswer_challenge\u001b[0;34m(connection, authkey)\u001b[0m\n\u001b[1;32m    744\u001b[0m     \u001b[0mmessage\u001b[0m \u001b[0;34m=\u001b[0m \u001b[0mmessage\u001b[0m\u001b[0;34m[\u001b[0m\u001b[0mlen\u001b[0m\u001b[0;34m(\u001b[0m\u001b[0mCHALLENGE\u001b[0m\u001b[0;34m)\u001b[0m\u001b[0;34m:\u001b[0m\u001b[0;34m]\u001b[0m\u001b[0;34m\u001b[0m\u001b[0;34m\u001b[0m\u001b[0m\n\u001b[1;32m    745\u001b[0m     \u001b[0mdigest\u001b[0m \u001b[0;34m=\u001b[0m \u001b[0mhmac\u001b[0m\u001b[0;34m.\u001b[0m\u001b[0mnew\u001b[0m\u001b[0;34m(\u001b[0m\u001b[0mauthkey\u001b[0m\u001b[0;34m,\u001b[0m \u001b[0mmessage\u001b[0m\u001b[0;34m,\u001b[0m \u001b[0;34m'md5'\u001b[0m\u001b[0;34m)\u001b[0m\u001b[0;34m.\u001b[0m\u001b[0mdigest\u001b[0m\u001b[0;34m(\u001b[0m\u001b[0;34m)\u001b[0m\u001b[0;34m\u001b[0m\u001b[0;34m\u001b[0m\u001b[0m\n\u001b[0;32m--> 746\u001b[0;31m     \u001b[0mconnection\u001b[0m\u001b[0;34m.\u001b[0m\u001b[0msend_bytes\u001b[0m\u001b[0;34m(\u001b[0m\u001b[0mdigest\u001b[0m\u001b[0;34m)\u001b[0m\u001b[0;34m\u001b[0m\u001b[0;34m\u001b[0m\u001b[0m\n\u001b[0m\u001b[1;32m    747\u001b[0m     \u001b[0mresponse\u001b[0m \u001b[0;34m=\u001b[0m \u001b[0mconnection\u001b[0m\u001b[0;34m.\u001b[0m\u001b[0mrecv_bytes\u001b[0m\u001b[0;34m(\u001b[0m\u001b[0;36m256\u001b[0m\u001b[0;34m)\u001b[0m        \u001b[0;31m# reject large message\u001b[0m\u001b[0;34m\u001b[0m\u001b[0;34m\u001b[0m\u001b[0m\n\u001b[1;32m    748\u001b[0m     \u001b[0;32mif\u001b[0m \u001b[0mresponse\u001b[0m \u001b[0;34m!=\u001b[0m \u001b[0mWELCOME\u001b[0m\u001b[0;34m:\u001b[0m\u001b[0;34m\u001b[0m\u001b[0;34m\u001b[0m\u001b[0m\n",
            "\u001b[0;32m/usr/lib/python3.7/multiprocessing/connection.py\u001b[0m in \u001b[0;36msend_bytes\u001b[0;34m(self, buf, offset, size)\u001b[0m\n\u001b[1;32m    198\u001b[0m         \u001b[0;32melif\u001b[0m \u001b[0moffset\u001b[0m \u001b[0;34m+\u001b[0m \u001b[0msize\u001b[0m \u001b[0;34m>\u001b[0m \u001b[0mn\u001b[0m\u001b[0;34m:\u001b[0m\u001b[0;34m\u001b[0m\u001b[0;34m\u001b[0m\u001b[0m\n\u001b[1;32m    199\u001b[0m             \u001b[0;32mraise\u001b[0m \u001b[0mValueError\u001b[0m\u001b[0;34m(\u001b[0m\u001b[0;34m\"buffer length < offset + size\"\u001b[0m\u001b[0;34m)\u001b[0m\u001b[0;34m\u001b[0m\u001b[0;34m\u001b[0m\u001b[0m\n\u001b[0;32m--> 200\u001b[0;31m         \u001b[0mself\u001b[0m\u001b[0;34m.\u001b[0m\u001b[0m_send_bytes\u001b[0m\u001b[0;34m(\u001b[0m\u001b[0mm\u001b[0m\u001b[0;34m[\u001b[0m\u001b[0moffset\u001b[0m\u001b[0;34m:\u001b[0m\u001b[0moffset\u001b[0m \u001b[0;34m+\u001b[0m \u001b[0msize\u001b[0m\u001b[0;34m]\u001b[0m\u001b[0;34m)\u001b[0m\u001b[0;34m\u001b[0m\u001b[0;34m\u001b[0m\u001b[0m\n\u001b[0m\u001b[1;32m    201\u001b[0m \u001b[0;34m\u001b[0m\u001b[0m\n\u001b[1;32m    202\u001b[0m     \u001b[0;32mdef\u001b[0m \u001b[0msend\u001b[0m\u001b[0;34m(\u001b[0m\u001b[0mself\u001b[0m\u001b[0;34m,\u001b[0m \u001b[0mobj\u001b[0m\u001b[0;34m)\u001b[0m\u001b[0;34m:\u001b[0m\u001b[0;34m\u001b[0m\u001b[0;34m\u001b[0m\u001b[0m\n",
            "\u001b[0;32m/usr/lib/python3.7/multiprocessing/connection.py\u001b[0m in \u001b[0;36m_send_bytes\u001b[0;34m(self, buf)\u001b[0m\n\u001b[1;32m    402\u001b[0m             \u001b[0;31m# Also note we want to avoid sending a 0-length buffer separately,\u001b[0m\u001b[0;34m\u001b[0m\u001b[0;34m\u001b[0m\u001b[0;34m\u001b[0m\u001b[0m\n\u001b[1;32m    403\u001b[0m             \u001b[0;31m# to avoid \"broken pipe\" errors if the other end closed the pipe.\u001b[0m\u001b[0;34m\u001b[0m\u001b[0;34m\u001b[0m\u001b[0;34m\u001b[0m\u001b[0m\n\u001b[0;32m--> 404\u001b[0;31m             \u001b[0mself\u001b[0m\u001b[0;34m.\u001b[0m\u001b[0m_send\u001b[0m\u001b[0;34m(\u001b[0m\u001b[0mheader\u001b[0m \u001b[0;34m+\u001b[0m \u001b[0mbuf\u001b[0m\u001b[0;34m)\u001b[0m\u001b[0;34m\u001b[0m\u001b[0;34m\u001b[0m\u001b[0m\n\u001b[0m\u001b[1;32m    405\u001b[0m \u001b[0;34m\u001b[0m\u001b[0m\n\u001b[1;32m    406\u001b[0m     \u001b[0;32mdef\u001b[0m \u001b[0m_recv_bytes\u001b[0m\u001b[0;34m(\u001b[0m\u001b[0mself\u001b[0m\u001b[0;34m,\u001b[0m \u001b[0mmaxsize\u001b[0m\u001b[0;34m=\u001b[0m\u001b[0;32mNone\u001b[0m\u001b[0;34m)\u001b[0m\u001b[0;34m:\u001b[0m\u001b[0;34m\u001b[0m\u001b[0;34m\u001b[0m\u001b[0m\n",
            "\u001b[0;32m/usr/lib/python3.7/multiprocessing/connection.py\u001b[0m in \u001b[0;36m_send\u001b[0;34m(self, buf, write)\u001b[0m\n\u001b[1;32m    366\u001b[0m         \u001b[0mremaining\u001b[0m \u001b[0;34m=\u001b[0m \u001b[0mlen\u001b[0m\u001b[0;34m(\u001b[0m\u001b[0mbuf\u001b[0m\u001b[0;34m)\u001b[0m\u001b[0;34m\u001b[0m\u001b[0;34m\u001b[0m\u001b[0m\n\u001b[1;32m    367\u001b[0m         \u001b[0;32mwhile\u001b[0m \u001b[0;32mTrue\u001b[0m\u001b[0;34m:\u001b[0m\u001b[0;34m\u001b[0m\u001b[0;34m\u001b[0m\u001b[0m\n\u001b[0;32m--> 368\u001b[0;31m             \u001b[0mn\u001b[0m \u001b[0;34m=\u001b[0m \u001b[0mwrite\u001b[0m\u001b[0;34m(\u001b[0m\u001b[0mself\u001b[0m\u001b[0;34m.\u001b[0m\u001b[0m_handle\u001b[0m\u001b[0;34m,\u001b[0m \u001b[0mbuf\u001b[0m\u001b[0;34m)\u001b[0m\u001b[0;34m\u001b[0m\u001b[0;34m\u001b[0m\u001b[0m\n\u001b[0m\u001b[1;32m    369\u001b[0m             \u001b[0mremaining\u001b[0m \u001b[0;34m-=\u001b[0m \u001b[0mn\u001b[0m\u001b[0;34m\u001b[0m\u001b[0;34m\u001b[0m\u001b[0m\n\u001b[1;32m    370\u001b[0m             \u001b[0;32mif\u001b[0m \u001b[0mremaining\u001b[0m \u001b[0;34m==\u001b[0m \u001b[0;36m0\u001b[0m\u001b[0;34m:\u001b[0m\u001b[0;34m\u001b[0m\u001b[0;34m\u001b[0m\u001b[0m\n",
            "\u001b[0;31mKeyboardInterrupt\u001b[0m: "
          ]
        }
      ]
    },
    {
      "cell_type": "code",
      "source": [
        "print(images[0].cpu().detach().numpy().transpose(1,2,0).shape)"
      ],
      "metadata": {
        "id": "qGU5iKmCi-f3"
      },
      "execution_count": null,
      "outputs": []
    },
    {
      "cell_type": "code",
      "source": [
        "plt.figure(figsize=(10,5))\n",
        "plt.plot(train_loss_graph,'r-*')\n",
        "plt.plot(val_loss_graph, 'b-*')\n",
        "plt.legend(['train_loss_graph','val_loss_graph'])\n",
        "plt.title(\"CIFAR10\")\n",
        "plt.xlabel(\"epoch\")\n",
        "plt.ylabel(\"loss\")\n",
        "plt.show()\n",
        "\n"
      ],
      "metadata": {
        "id": "j024zlDgUWJ7"
      },
      "execution_count": null,
      "outputs": []
    },
    {
      "cell_type": "code",
      "source": [
        ""
      ],
      "metadata": {
        "id": "wHW28QrXfbi_"
      },
      "execution_count": null,
      "outputs": []
    },
    {
      "cell_type": "code",
      "source": [
        "len(tr_loader)"
      ],
      "metadata": {
        "id": "nUmZc914NJTc"
      },
      "execution_count": null,
      "outputs": []
    },
    {
      "cell_type": "code",
      "source": [
        "print(images.size(0))"
      ],
      "metadata": {
        "id": "QToBFwaQlz6d"
      },
      "execution_count": null,
      "outputs": []
    },
    {
      "cell_type": "code",
      "source": [
        "#Batch of test images\n",
        "dataiter = iter(test_loader)\n",
        "images, labels = dataiter.next()\n",
        "\n",
        "\n"
      ],
      "metadata": {
        "id": "RcjZPhqTcqPd"
      },
      "execution_count": null,
      "outputs": []
    },
    {
      "cell_type": "code",
      "source": [
        "#Batch of test images\n",
        "dataiter = iter(test_loader)\n",
        "images, labels = dataiter.next()\n",
        "\n",
        "#Sample outputs\n",
        "images = images.to(device)\n",
        "print('입력 이미지 크기',images.shape)\n",
        "\n",
        "output = model(images)\n",
        "print('출력 이미지 크기',output.shape)\n",
        "\n",
        "images_np = images.cpu().numpy() #입력값은 그래디언 계산이 안 되었으므로(model 안 거침) detach가 필요 없다.\n",
        "output=output.to(device)\n",
        "output_np = output.detach().cpu().numpy()\n",
        "\n",
        "#Original Image(5):\n",
        "for idx in np.arange(5):\n",
        "    \n",
        "    image, label = dataier.next()\n",
        "    image = image.to(device)\n",
        "    output = model()\n",
        "\n",
        "    val_ssim_scikit =  ssim((images_np[idx], output_np[idx], data_range = 1.0,multichannel = True)           \n",
        "\n",
        "    PSNR_custom = Get_psnr(images[idx], output[idx], max_val = 1.0)\n",
        "    PSNR_scikit = psnr(images_np[idx], output_np[idx], data_range = 1.0)\n",
        "#    SSIM = pytorch_ssim(images[idx],output[idx]).data\n",
        "#    SSIM = ssim(images[idx], output[idx], data_range = 1.0, multichannel =True)\n",
        "    print(f'Class {classes[labels[idx]]} Scikit_PSNR {PSNR_scikit} / Custom_PSNR {PSNR_custom}')\n",
        "#   print(SSIM)\n",
        "    print(\"SSIM : {.3f}\", val_ssim_scikit)\n",
        "    ax = plt.subplot(2, 5, idx+1, xticks=[], yticks=[])\n",
        "    imshow(images[idx].cpu())\n",
        "    ax.set_title(classes[labels[idx]])\n",
        "\n",
        "    ax = plt.subplot(2, 5, idx+1+5, xticks=[], yticks=[])\n",
        "    imshow(output[idx].detach().cpu().numpy())\n",
        "    ax.set_title(classes[labels[idx]])\n",
        "plt.show() "
      ],
      "metadata": {
        "id": "VISLRKKJkAhh"
      },
      "execution_count": null,
      "outputs": []
    },
    {
      "cell_type": "code",
      "source": [
        ""
      ],
      "metadata": {
        "id": "LvhsbXbPIWoL"
      },
      "execution_count": null,
      "outputs": []
    },
    {
      "cell_type": "code",
      "source": [
        ""
      ],
      "metadata": {
        "id": "tasfj9jY7Bdk"
      },
      "execution_count": null,
      "outputs": []
    },
    {
      "cell_type": "markdown",
      "source": [
        ""
      ],
      "metadata": {
        "id": "0AflYIS9JtIi"
      }
    }
  ]
}