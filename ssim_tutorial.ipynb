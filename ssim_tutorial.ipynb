{
  "nbformat": 4,
  "nbformat_minor": 0,
  "metadata": {
    "colab": {
      "name": "ssim_tutorial",
      "provenance": [],
      "collapsed_sections": [],
      "mount_file_id": "13Nq4koexlHfCXrBHoKQ0nnKvEIh90rRi",
      "authorship_tag": "ABX9TyMwAfh/XI0nIu3aCGvKE+Qi",
      "include_colab_link": true
    },
    "kernelspec": {
      "name": "python3",
      "display_name": "Python 3"
    },
    "language_info": {
      "name": "python"
    }
  },
  "cells": [
    {
      "cell_type": "markdown",
      "metadata": {
        "id": "view-in-github",
        "colab_type": "text"
      },
      "source": [
        "<a href=\"https://colab.research.google.com/github/wonjae124/2021_Lab_project/blob/main/ssim_tutorial.ipynb\" target=\"_parent\"><img src=\"https://colab.research.google.com/assets/colab-badge.svg\" alt=\"Open In Colab\"/></a>"
      ]
    },
    {
      "cell_type": "code",
      "source": [
        "from google.colab import drive\n",
        "drive.mount('/content/drive')"
      ],
      "metadata": {
        "colab": {
          "base_uri": "https://localhost:8080/"
        },
        "id": "VyyUbCdfq1gp",
        "outputId": "5345efc3-289c-4814-c61d-2f02ff3d1b4d"
      },
      "execution_count": 18,
      "outputs": [
        {
          "output_type": "stream",
          "name": "stdout",
          "text": [
            "Drive already mounted at /content/drive; to attempt to forcibly remount, call drive.mount(\"/content/drive\", force_remount=True).\n"
          ]
        }
      ]
    },
    {
      "cell_type": "code",
      "source": [
        "%cd /content/drive/MyDrive/model"
      ],
      "metadata": {
        "colab": {
          "base_uri": "https://localhost:8080/"
        },
        "id": "97Nkxlw3sPhv",
        "outputId": "2dbac2d1-42a1-4670-c9f3-699dfb806898"
      },
      "execution_count": 10,
      "outputs": [
        {
          "output_type": "stream",
          "name": "stdout",
          "text": [
            "/content/drive/MyDrive/model\n"
          ]
        }
      ]
    },
    {
      "cell_type": "code",
      "source": [
        "!pwd"
      ],
      "metadata": {
        "colab": {
          "base_uri": "https://localhost:8080/"
        },
        "id": "SYwMvFxor5Bx",
        "outputId": "92871291-13b5-46e8-8044-ea8be02b25bb"
      },
      "execution_count": 11,
      "outputs": [
        {
          "output_type": "stream",
          "name": "stdout",
          "text": [
            "/content/drive/MyDrive/model\n"
          ]
        }
      ]
    },
    {
      "cell_type": "code",
      "execution_count": 12,
      "metadata": {
        "id": "21xakslCqO_f"
      },
      "outputs": [],
      "source": [
        "import pytorch_ssim\n",
        "import torch\n",
        "from torch.autograd import Variable"
      ]
    },
    {
      "cell_type": "code",
      "source": [
        "img1 = Variable(torch.rand(1, 1, 256, 256))\n",
        "img2 = Variable(torch.rand(1, 1, 256, 256))"
      ],
      "metadata": {
        "id": "AvAbN7k5savX"
      },
      "execution_count": 14,
      "outputs": []
    },
    {
      "cell_type": "code",
      "source": [
        "if torch.cuda.is_available():\n",
        "  img1 = img1.cuda()\n",
        "  img2 = img2.cuda()\n",
        "else:\n",
        "  print(\"fail\")\n",
        "\n",
        "print(pytorch_ssim.ssim(img1, img2))"
      ],
      "metadata": {
        "colab": {
          "base_uri": "https://localhost:8080/"
        },
        "id": "wGwU41gEsnBW",
        "outputId": "995e98be-30fb-44c2-dac3-8d538c77a130"
      },
      "execution_count": 16,
      "outputs": [
        {
          "output_type": "stream",
          "name": "stdout",
          "text": [
            "fail\n",
            "tensor(0.0214)\n"
          ]
        }
      ]
    },
    {
      "cell_type": "code",
      "source": [
        "ssim_loss = pytorch_ssim.SSIM(window_size = 11)\n",
        "\n",
        "print(ssim_loss(img1, img2))/content/drive/MyDrive/model"
      ],
      "metadata": {
        "colab": {
          "base_uri": "https://localhost:8080/"
        },
        "id": "SugU46n0sviO",
        "outputId": "9e951daf-e9ef-47c1-c938-8e6ba0feb3fa"
      },
      "execution_count": 17,
      "outputs": [
        {
          "output_type": "stream",
          "name": "stdout",
          "text": [
            "tensor(0.0214)\n"
          ]
        }
      ]
    },
    {
      "cell_type": "code",
      "source": [
        ""
      ],
      "metadata": {
        "id": "6EfaFWEVtMX1"
      },
      "execution_count": null,
      "outputs": []
    }
  ]
}