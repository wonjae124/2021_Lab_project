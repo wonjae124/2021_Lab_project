{
  "cells": [
    {
      "cell_type": "markdown",
      "metadata": {
        "id": "view-in-github",
        "colab_type": "text"
      },
      "source": [
        "<a href=\"https://colab.research.google.com/github/wonjae124/2021_Lab_project/blob/main/Compression_Autoencoder_ipynb%EC%9D%98_%EC%82%AC%EB%B3%B8.ipynb\" target=\"_parent\"><img src=\"https://colab.research.google.com/assets/colab-badge.svg\" alt=\"Open In Colab\"/></a>"
      ]
    },
    {
      "cell_type": "code",
      "execution_count": null,
      "metadata": {
        "colab": {
          "base_uri": "https://localhost:8080/"
        },
        "id": "SbEwQe4MpJ-1",
        "outputId": "825c98e3-a205-4071-c977-149fc66c9ef5"
      },
      "outputs": [
        {
          "output_type": "stream",
          "name": "stdout",
          "text": [
            "Drive already mounted at /content/drive; to attempt to forcibly remount, call drive.mount(\"/content/drive\", force_remount=True).\n"
          ]
        }
      ],
      "source": [
        "from google.colab import drive\n",
        "drive.mount('/content/drive')"
      ]
    },
    {
      "cell_type": "markdown",
      "source": [
        "# Set Dataset and model"
      ],
      "metadata": {
        "id": "Vktl6I2z2oYa"
      }
    },
    {
      "cell_type": "markdown",
      "source": [
        "## https://github.com/Po-Hsun-Su/pytorch-ssim -> 자료 참고해서 loss_function으로 SSIM 구하기\n"
      ],
      "metadata": {
        "id": "Yrd6XuqzZwkh"
      }
    },
    {
      "cell_type": "code",
      "execution_count": null,
      "metadata": {
        "id": "Ryi7uQ1ajE5o",
        "colab": {
          "base_uri": "https://localhost:8080/",
          "height": 395
        },
        "outputId": "e416da2c-716d-4643-f8e8-f8390ff755d8"
      },
      "outputs": [
        {
          "output_type": "error",
          "ename": "ImportError",
          "evalue": "ignored",
          "traceback": [
            "\u001b[0;31m---------------------------------------------------------------------------\u001b[0m",
            "\u001b[0;31mImportError\u001b[0m                               Traceback (most recent call last)",
            "\u001b[0;32m<ipython-input-20-3de583814fa0>\u001b[0m in \u001b[0;36m<module>\u001b[0;34m()\u001b[0m\n\u001b[1;32m     17\u001b[0m \u001b[0;32mimport\u001b[0m \u001b[0mmatplotlib\u001b[0m\u001b[0;34m.\u001b[0m\u001b[0mpyplot\u001b[0m \u001b[0;32mas\u001b[0m \u001b[0mplt\u001b[0m\u001b[0;34m\u001b[0m\u001b[0;34m\u001b[0m\u001b[0m\n\u001b[1;32m     18\u001b[0m \u001b[0;32mfrom\u001b[0m \u001b[0mpytorch_msssim\u001b[0m \u001b[0;32mimport\u001b[0m \u001b[0mms_ssim\u001b[0m\u001b[0;34m\u001b[0m\u001b[0;34m\u001b[0m\u001b[0m\n\u001b[0;32m---> 19\u001b[0;31m \u001b[0;32mfrom\u001b[0m \u001b[0mpytorchtools\u001b[0m \u001b[0;32mimport\u001b[0m \u001b[0mEarlyStopping\u001b[0m\u001b[0;34m\u001b[0m\u001b[0;34m\u001b[0m\u001b[0m\n\u001b[0m\u001b[1;32m     20\u001b[0m \u001b[0;34m\u001b[0m\u001b[0m\n\u001b[1;32m     21\u001b[0m \u001b[0mget_ipython\u001b[0m\u001b[0;34m(\u001b[0m\u001b[0;34m)\u001b[0m\u001b[0;34m.\u001b[0m\u001b[0mmagic\u001b[0m\u001b[0;34m(\u001b[0m\u001b[0;34m'matplotlib inline'\u001b[0m\u001b[0;34m)\u001b[0m\u001b[0;34m\u001b[0m\u001b[0;34m\u001b[0m\u001b[0m\n",
            "\u001b[0;31mImportError\u001b[0m: cannot import name 'EarlyStopping' from 'pytorchtools' (/usr/local/lib/python3.7/dist-packages/pytorchtools/__init__.py)",
            "",
            "\u001b[0;31m---------------------------------------------------------------------------\u001b[0;32m\nNOTE: If your import is failing due to a missing package, you can\nmanually install dependencies using either !pip or !apt.\n\nTo view examples of installing some common dependencies, click the\n\"Open Examples\" button below.\n\u001b[0;31m---------------------------------------------------------------------------\u001b[0m\n"
          ],
          "errorDetails": {
            "actions": [
              {
                "action": "open_url",
                "actionText": "Open Examples",
                "url": "/notebooks/snippets/importing_libraries.ipynb"
              }
            ]
          }
        }
      ],
      "source": [
        "import numpy as np\n",
        "import torch\n",
        "import torchvision\n",
        "import torch.nn as nn\n",
        "import torch.optim as optim\n",
        "from torch.utils.data import DataLoader, TensorDataset\n",
        "from torchvision import datasets, transforms\n",
        "from torchvision import utils\n",
        "from torchvision.utils import save_image\n",
        "from skimage.metrics import structural_similarity as ssim\n",
        "from skimage.metrics import peak_signal_noise_ratio\n",
        "from pytorch_msssim import ms_ssim  \n",
        "import math\n",
        "import time\n",
        "from torchsummary import summary\n",
        "import os\n",
        "import matplotlib.pyplot as plt\n",
        "from pytorch_msssim import ms_ssim\n",
        "from pytorchtools import EarlyStopping\n",
        "import pytorchtools\n",
        "\n",
        "%matplotlib inline"
      ]
    },
    {
      "cell_type": "code",
      "source": [
        "from pytorchtools import EarlyStopping\n"
      ],
      "metadata": {
        "colab": {
          "base_uri": "https://localhost:8080/",
          "height": 321
        },
        "id": "Mx0bamGAx1WK",
        "outputId": "dd842d2a-3211-4bc6-a3fa-3279c41653ee"
      },
      "execution_count": null,
      "outputs": [
        {
          "output_type": "error",
          "ename": "ImportError",
          "evalue": "ignored",
          "traceback": [
            "\u001b[0;31m---------------------------------------------------------------------------\u001b[0m",
            "\u001b[0;31mImportError\u001b[0m                               Traceback (most recent call last)",
            "\u001b[0;32m<ipython-input-22-5d72dc66f994>\u001b[0m in \u001b[0;36m<module>\u001b[0;34m()\u001b[0m\n\u001b[0;32m----> 1\u001b[0;31m \u001b[0;32mfrom\u001b[0m \u001b[0mpytorchtools\u001b[0m \u001b[0;32mimport\u001b[0m \u001b[0mEarlyStopping\u001b[0m\u001b[0;34m\u001b[0m\u001b[0;34m\u001b[0m\u001b[0m\n\u001b[0m",
            "\u001b[0;31mImportError\u001b[0m: cannot import name 'EarlyStopping' from 'pytorchtools' (/usr/local/lib/python3.7/dist-packages/pytorchtools/__init__.py)",
            "",
            "\u001b[0;31m---------------------------------------------------------------------------\u001b[0;32m\nNOTE: If your import is failing due to a missing package, you can\nmanually install dependencies using either !pip or !apt.\n\nTo view examples of installing some common dependencies, click the\n\"Open Examples\" button below.\n\u001b[0;31m---------------------------------------------------------------------------\u001b[0m\n"
          ],
          "errorDetails": {
            "actions": [
              {
                "action": "open_url",
                "actionText": "Open Examples",
                "url": "/notebooks/snippets/importing_libraries.ipynb"
              }
            ]
          }
        }
      ]
    },
    {
      "cell_type": "code",
      "source": [
        "import pytorchtools\n"
      ],
      "metadata": {
        "id": "sT5XgAzwwv_d"
      },
      "execution_count": null,
      "outputs": []
    },
    {
      "cell_type": "code",
      "source": [
        "def save_checkpoint(epoch, model, optimizer, path): \n",
        "    state = { 'Epoch': epoch,\n",
        "             'State_dict': model.state_dict(),\n",
        "             'optimizer': optimizer.state_dict() \n",
        "             }\n",
        "    torch.save(state, path)"
      ],
      "metadata": {
        "id": "taWBgJmG_b0E"
      },
      "execution_count": null,
      "outputs": []
    },
    {
      "cell_type": "markdown",
      "source": [
        ""
      ],
      "metadata": {
        "id": "2tSkUUtEWysM"
      }
    },
    {
      "cell_type": "code",
      "execution_count": null,
      "metadata": {
        "id": "AxY9z287EFFD"
      },
      "outputs": [],
      "source": [
        "batch_size = 32 #minibatch가 2024일 때 GPU 사용량 6GB이므로 과하다.\n",
        "torch.manual_seed(1)\n",
        "torch.cuda.manual_seed(1)"
      ]
    },
    {
      "cell_type": "code",
      "source": [
        ""
      ],
      "metadata": {
        "id": "zszcirgbqqVx"
      },
      "execution_count": null,
      "outputs": []
    },
    {
      "cell_type": "markdown",
      "source": [
        "##Original Train/Validation/Test dataset"
      ],
      "metadata": {
        "id": "eOhQ3_A4VXRv"
      }
    },
    {
      "cell_type": "code",
      "execution_count": null,
      "metadata": {
        "id": "MU2kbc2biXjB"
      },
      "outputs": [],
      "source": [
        "org_tr_set = datasets.STL10(root = \"./data\", split = \"unlabeled\", transform = transforms.ToTensor(), download=True)\n",
        "tr_subset, val_subset = torch.utils.data.random_split(org_tr_set,[80000,20000],generator=torch.Generator().manual_seed(1))\n",
        "test_set = datasets.STL10(root = \"./data\", split = \"test\",transform = transforms.ToTensor(), download=True)"
      ]
    },
    {
      "cell_type": "code",
      "source": [
        "plt.imshow(org_tr_set[0][0].numpy().transpose(1,2,0))"
      ],
      "metadata": {
        "id": "_BsgZjnxpXxa"
      },
      "execution_count": null,
      "outputs": []
    },
    {
      "cell_type": "code",
      "execution_count": null,
      "metadata": {
        "id": "_q4goqowQ-AP"
      },
      "outputs": [],
      "source": [
        "tr_dataloader = DataLoader(tr_subset, batch_size = batch_size, num_workers = 0) #pin_memory 삭제하고 num_workers=0으로 변경\n",
        "\n",
        "val_dataloader = DataLoader(val_subset, batch_size = batch_size, num_workers = 0)\n",
        "\n",
        "test_dataloader = DataLoader(test_set, batch_size = batch_size, num_workers = 0)"
      ]
    },
    {
      "cell_type": "code",
      "execution_count": null,
      "metadata": {
        "id": "ol6QZe4-IeV_"
      },
      "outputs": [],
      "source": [
        "print(len(tr_subset),len(val_subset), len(test_set))"
      ]
    },
    {
      "cell_type": "markdown",
      "source": [
        "# Model. Setting parameter -> float"
      ],
      "metadata": {
        "id": "TpHbC8_FPT-2"
      }
    },
    {
      "cell_type": "code",
      "execution_count": null,
      "metadata": {
        "id": "fY18EkZDO93a"
      },
      "outputs": [],
      "source": [
        "class Autoencoder(nn.Module): # 잠재벡터 크기 설정(하드 코딩)\n",
        "  def __init__(self):\n",
        "    super(Autoencoder, self).__init__()\n",
        "    latent_dim = 256\n",
        "    latent_img_size_reduce_2 = 3\n",
        "    latent_img_size_reduce_8 = 9\n",
        "    latent_img_size_reduce_16 = 17 \n",
        "\n",
        "    self.encoder = nn.Sequential(\n",
        "    # 96 by 96 by 3\n",
        "        nn.Conv2d(in_channels = 3, out_channels = 32, kernel_size = 2, stride = 2, padding=0),\n",
        "        nn.BatchNorm2d(32),\n",
        "    # 48 by 48 by 32\n",
        "        nn.ReLU(True),\n",
        "\n",
        "\n",
        "        nn.Conv2d(in_channels = 32, out_channels = 64, kernel_size = 2, stride = 2, padding = 0),\n",
        "        nn.BatchNorm2d(64),\n",
        "        nn.ReLU(True),\n",
        "    # 24 by 24 by 64  \n",
        "\n",
        "        nn.Conv2d(in_channels =64, out_channels = 128,  kernel_size = 2, stride = 2, padding=0),\n",
        "    # 12 by 12 by 128 \n",
        "        nn.BatchNorm2d(128),\n",
        "        nn.ReLU(True),\n",
        "\n",
        "\n",
        "        nn.Conv2d(in_channels = 128, out_channels = 256,  kernel_size = 2, stride = 2, padding=0),\n",
        "        nn.BatchNorm2d(256),\n",
        "    # 6 by 6 by 256\n",
        "        nn.ReLU(True),\n",
        "\n",
        "        nn.Conv2d(in_channels = 256, out_channels = latent_dim,  kernel_size = latent_img_size_reduce_2, stride = 1, padding=0), # latent_vector Z\n",
        "        nn.BatchNorm2d(latent_dim),\n",
        "        nn.ReLU(True),       \n",
        "    )\n",
        "    self.decoder = nn.Sequential(\n",
        "    # 6 by 6 by 256\n",
        "\n",
        "        nn.ConvTranspose2d(in_channels = latent_dim, out_channels = 256,  kernel_size = latent_img_size_reduce_2, stride = 1, padding=0),\n",
        "        nn.BatchNorm2d(256),\n",
        "        nn.ReLU(True),\n",
        "\n",
        "        nn.ConvTranspose2d(in_channels = 256, out_channels = 128,  kernel_size = 2, stride = 2, padding=0),\n",
        "        nn.BatchNorm2d(128),\n",
        "        nn.ReLU(True),\n",
        "\n",
        "    # 12 by 12 by 128  \n",
        "        \n",
        "        nn.ConvTranspose2d(in_channels = 128, out_channels = 64,  kernel_size = 2, stride = 2, padding=0),\n",
        "        nn.BatchNorm2d(64),\n",
        "        nn.ReLU(True),\n",
        "\n",
        "\n",
        "    # 24 by 24 by 64\n",
        "        nn.ConvTranspose2d(in_channels = 64, out_channels = 32,  kernel_size = 2, stride = 2, padding=0),\n",
        "        nn.BatchNorm2d(32),\n",
        "        nn.ReLU(True),   \n",
        "    \n",
        "    # 48 by 48 by 32\n",
        "\n",
        "        nn.ConvTranspose2d(in_channels = 32, out_channels = 3, kernel_size = 2, stride = 2, padding=0),\n",
        "\n",
        "    # 96 by 96 by 3\n",
        "        nn.Sigmoid())\n",
        "  \n",
        "  def forward(self, x):\n",
        "        latent_vector = self.encoder(x)\n",
        "        decoded = self.decoder(latent_vector)\n",
        "        return decoded"
      ]
    },
    {
      "cell_type": "code",
      "execution_count": null,
      "metadata": {
        "id": "e0Fv-crsj-8x",
        "scrolled": false
      },
      "outputs": [],
      "source": [
        "n_epochs = 150\n",
        "#시각화 횟수 설정 \n",
        "device = torch.device('cuda' if torch.cuda.is_available() else 'cpu')\n",
        "\n",
        "print(device)\n",
        "\n",
        "mse_loss_fn = torch.nn.MSELoss()\n",
        "#ms_ssim_loss = ms_ssim()\n",
        "#ms_ssim_val = ms_ssim( X, Y, data_range=1, size_average=False ) #(N,)\n",
        "\n",
        "\n",
        "model = Autoencoder()\n",
        "optimizer = torch.optim.Adam(model.parameters(), lr=0.001, weight_decay  = 1e-04)\n",
        "model=model.to(device)\n",
        "\n",
        "train_loss_graph = np.array([]) # 손실 그래프 \n",
        "val_loss_graph = np.array([])   \n",
        "\n",
        "start = time.time()\n",
        "\n",
        "#initial\n",
        "early_stopping = EarlyStopping(patience = 20, verbose = True)\n",
        "\n",
        "\n",
        "for epoch in range(1, n_epochs+1):\n",
        "    print(f\"Epoch : [{epoch}/{n_epochs}]\",\"\\n\")\n",
        "\n",
        "    model.train()\n",
        "    train_loss = 0.0       #훈련 손실값\n",
        "    total_train_loss = 0.0 \n",
        "    val_loss = 0.0         #검증 손실값\n",
        "    total_val_loss = 0.0\n",
        "\n",
        "    #훈련\n",
        "    for i,(tr_img, _) in enumerate(tr_dataloader):\n",
        "\n",
        "        tr_img = tr_img.to(device)       #입력 이미지\n",
        "        tr_outputs =model(tr_img) #복원 이미지\n",
        "        optimizer.zero_grad()\n",
        "\n",
        "        loss = mse_loss_fn(tr_outputs, tr_img).to(device)\n",
        "        #loss = ms_ssim_loss(tr, Y, data_range=255, size_average=False )\n",
        "        loss.backward()\n",
        "        optimizer.step()\n",
        "\n",
        "        train_loss = loss.clone().detach().item()\n",
        "        total_train_loss += train_loss\n",
        "\n",
        "    total_train_loss = total_train_loss/len(tr_dataloader) #평균 훈련 손실값\n",
        "    train_loss_graph = np.append(train_loss_graph, total_train_loss)\n",
        "\n",
        "    #검증\n",
        "    model.eval()\n",
        "    with torch.no_grad():   \n",
        "        optimizer_strong.zero_grad()\n",
        "        \n",
        "        for i, (val_img, _) in enumerate(val_dataloader):\n",
        "                val_img = val_img.to(device)\n",
        "                val_outputs =model(val_img)\n",
        "                val_loss = mse_loss_fn(val_outputs, val_img)\n",
        "                val_loss = val_loss.item()\n",
        "                total_val_loss += val_loss\n",
        "        total_val_loss = total_val_loss/len(val_dataloader)\n",
        "        val_loss_graph = np.append(val_loss_graph, total_val_loss)\n",
        "        print('Training Loss: {:.6f}\\t validation Loss {:.6f}'.format(total_train_loss, total_val_loss))\n",
        "        \n",
        "        ## save_checkpoint\n",
        "        early_stopping(total_val_loss, model)\n",
        "        if early_stopping.early_stop:\n",
        "            print(\"Early stopping\")\n",
        "            break\n",
        "\n",
        "            \n",
        "        if (epoch)%5 == 0:\n",
        "\n",
        "          for j in range(5):\n",
        "            val_ssim = ssim(val_img[j].cpu().numpy().transpose(1, 2, 0), val_outputs[j].cpu().numpy().transpose(1, 2, 0), multichannel=True, gaussian_weights=True, use_sample_covariance=False)\n",
        "    \n",
        "            val_psnr = peak_signal_noise_ratio(val_img[j].cpu().numpy().transpose(1,2,0), val_outputs[j].cpu().numpy().transpose(1,2,0))\n",
        "            print('PNSR :{:.2f} \\t SSIM : {:.2f}'.format(val_psnr,val_ssim))\n",
        "            \n",
        "            ax = plt.subplot(2,5,j+1)\n",
        "            plt.imshow(val_img[j].cpu().numpy().transpose(1, 2, 0))\n",
        "            ax.get_xaxis().set_visible(False)\n",
        "            ax.get_yaxis().set_visible(False)\n",
        "\n",
        "            ax = plt.subplot(2,5,j+5+1)\n",
        "            plt.imshow(val_outputs[j].cpu().numpy().transpose(1, 2, 0))\n",
        "            ax.get_xaxis().set_visible(False)\n",
        "            ax.get_yaxis().set_visible(False)\n",
        "\n",
        "          plt.show()   \n",
        "\n",
        "end = time.time()\n",
        "\n",
        "total_time = (end-start)/60\n",
        "\n",
        "model.load_state_dict(torch.load('checkpoint.pt'))\n",
        "\n",
        "print(\"execution time : {:.1f}min\".format(total_time))\n",
        "\n",
        "\n"
      ]
    },
    {
      "cell_type": "code",
      "source": [
        "minposs = valid_loss.index(min(valid_loss))+1 \n",
        "plt.axvline(minposs, linestyle='--', color='r',label='Early Stopping Checkpoint')\n",
        "\n",
        "\n",
        "\n",
        "\n",
        "fig = plt.figure(figsize=(10,8))\n",
        "plt.plot(range(1,len(train_loss)+1),train_loss, label='Training Loss')\n",
        "plt.plot(range(1,len(valid_loss)+1),valid_loss,label='Validation Loss'\n",
        "plt.legend(['train_loss','val_loss'])\n",
        "plt.title(\"Stl_10\")\n",
        "plt.xlabel(\"epochs\")\n",
        "plt.ylabel(\"loss\")\n",
        "plt.ylim(0, 0.5) # consistent scale\n",
        "plt.xlim(0, len(train_loss)+1) # consistent scale\n",
        "plt.tight_layout()\n",
        "plt.show()\n",
        "\n",
        "fig.savefig('loss_plot.png', bbox_inches='tight')\n"
      ],
      "metadata": {
        "id": "AnJhOKDWh5Uk"
      },
      "execution_count": null,
      "outputs": []
    },
    {
      "cell_type": "code",
      "source": [
        "# device = torch.device('cuda' if torch.cuda.is_available() else 'cpu')\n",
        "\n",
        "# file_path = '/content/drive/MyDrive/Colab Notebooks/kodag_5'\n",
        "# names = ['04','10','17','18','19']\n",
        "\n",
        "# model.eval()\n",
        "# data = torchvision.datasets.ImageFolder( root = file_path, transform=transforms.ToTensor() )\n",
        "\n",
        "# for  i in range(5):\n",
        "#     kodag_img = data[i][0].unsqueeze(0).to(device)\n",
        "#     kodag_output = model(kodag_img)\n",
        "#     save_image(kodag_output,'reconstruction_kodag'+names[i]+'.png')\n",
        "#     val_ssim = ssim(kodag_img.squeeze(0).detach().cpu().numpy().transpose(1, 2, 0), kodag_output.squeeze(0).detach().cpu().numpy().transpose(1, 2, 0), multichannel=True, gaussian_weights=True, use_sample_covariance=False)\n",
        "#     val_psnr = Get_psnr(kodag_img, kodag_output)\n",
        "#     print('PNSR :{:.2f} \\t SSIM : {:.2f}'.format(val_psnr,val_ssim))\n"
      ],
      "metadata": {
        "id": "u23dfAV5FgLX"
      },
      "execution_count": null,
      "outputs": []
    },
    {
      "cell_type": "code",
      "source": [
        "# kodag_img.shape # 입력 이미지 차원 크기"
      ],
      "metadata": {
        "id": "07JRRJgvE_mA"
      },
      "execution_count": null,
      "outputs": []
    },
    {
      "cell_type": "code",
      "source": [
        "# kodag_output.shape # 출력 이미지 차원 크기"
      ],
      "metadata": {
        "id": "LYwWvAvOFA5o"
      },
      "execution_count": null,
      "outputs": []
    },
    {
      "cell_type": "code",
      "source": [
        "# # print(kodag_img[0].shape)\n",
        "# print(kodag_output[0].shape)"
      ],
      "metadata": {
        "id": "ntzuP96VEgm2"
      },
      "execution_count": null,
      "outputs": []
    },
    {
      "cell_type": "code",
      "source": [
        "# plt.imshow(kodag_output.detach().cpu().numpy().squeeze(0).transpose(1,2,0))\n",
        "# save_image(kodag_output[0],'reconstruction_kodak19.png')"
      ],
      "metadata": {
        "id": "LracixmC_pnt"
      },
      "execution_count": null,
      "outputs": []
    },
    {
      "cell_type": "code",
      "source": [
        "# plt.imshow(kodag_img[0].detach().cpu().numpy().transpose(1,2,0))"
      ],
      "metadata": {
        "id": "KeaoEksO_P12"
      },
      "execution_count": null,
      "outputs": []
    },
    {
      "cell_type": "code",
      "source": [
        "# plt.imshow(kodag_output[0].detach().cpu().numpy().transpose(1,2,0))"
      ],
      "metadata": {
        "id": "LdKABHb49qBC"
      },
      "execution_count": null,
      "outputs": []
    },
    {
      "cell_type": "code",
      "source": [
        "# # 모델의 state_dict 출력\n",
        "# print(\"Model's state_dict:\")\n",
        "# for param_tensor in model.state_dict():\n",
        "#     print(param_tensor, \"\\t\", model.state_dict()[param_tensor].size())\n",
        "\n",
        "# # 옵티마이저의 state_dict 출력\n",
        "# print(\"Optimizer's state_dict:\")\n",
        "# for var_name in optimizer_strong.state_dict():\n",
        "#     print(var_name, \"\\t\", optimizer_strong.state_dict()[var_name])"
      ],
      "metadata": {
        "id": "FODmI9e4TVsv"
      },
      "execution_count": null,
      "outputs": []
    },
    {
      "cell_type": "markdown",
      "metadata": {
        "id": "tNMvehhbIL1B"
      },
      "source": [
        "## test graph for (average psnr, ssim) 미완성"
      ]
    },
    {
      "cell_type": "code",
      "execution_count": null,
      "metadata": {
        "id": "VISLRKKJkAhh"
      },
      "outputs": [],
      "source": [
        "# #TODO. 복원 이미지 그래프 그리기\n",
        "\n",
        "\n",
        "# sum_ssim = 0.0\n",
        "# sum_psnr = 0.0\n",
        "# avg_ssim = 0.0\n",
        "# avg_psnr = 0.0\n",
        "\n",
        "# model.eval()\n",
        "# with torch.no_grad():\n",
        "#     optimizer_strong.zero_grad()\n",
        "#     for i, (test_img, hat_test_img) in enumerate(zip(test_dataloader, Gs_blur_test_dataloader)):\n",
        "        \n",
        "#         test_img, _ = test_img\n",
        "#         test_img = test_img.to(device)\n",
        "#         test_hat_img, _ = hat_test_img\n",
        "#         test_hat_img = test_hat_img.to(device)\n",
        "\n",
        "#         test_outputs = model(test_hat_img)\n",
        "        \n",
        "#     for j in range(10):\n",
        "#         img1_cpu = test_img[j].cpu().numpy().transpose(1, 2, 0)\n",
        "#         img1_float64 = img1_cpu.astype(np.float64)\n",
        "#         img2_cpu = test_outputs[j].cpu().numpy()\n",
        "#         img2_float64 = img2_cpu.astype(np.float64).transpose(1, 2, 0)\n",
        "        \n",
        "#         ssim = ssim(img1_float64, img2_float64, multichannel=True, gaussian_weights=True)\n",
        "#         psnr = peak_signal_noise_ratio(test_img[j], test_outputs[j], max_val = 1.0)\n",
        "#         sum_psnr+=psnr\n",
        "#         sum_ssim+=ssim\n",
        "#         print('PNSR :{:.2f} \\t SSIM : {:.2f}'.format(psnr,ssim))\n",
        "        \n",
        "#         ax = plt.subplot(3,10,j+1)\n",
        "#         plt.imshow(test_img[j].cpu().numpy().transpose(1, 2, 0))\n",
        "#         ax.get_xaxis().set_visible(False)\n",
        "#         ax.get_yaxis().set_visible(False)\n",
        "\n",
        "\n",
        "#         ax = plt.subplot(3,10,j+10+1)\n",
        "#         plt.imshow(test_hat_img[j].cpu().numpy().transpose(1, 2, 0))\n",
        "#         ax.get_xaxis().set_visible(False)\n",
        "#         ax.get_yaxis().set_visible(False)\n",
        "\n",
        "\n",
        "#         ax = plt.subplot(3,10, j+20+1)\n",
        "#         plt.imshow(test_outputs[j].cpu().detach().numpy().transpose(1, 2, 0))\n",
        "#         ax.get_xaxis().set_visible(False)\n",
        "#         ax.get_yaxis().set_visible(False)\n",
        "\n",
        "#     plt.show()   \n",
        "# avg_psnr=sum_psnr/10\n",
        "# avg_ssim=sum_ssim/10\n",
        "\n",
        "# print(\"avg_psnr : {:.2f}\".format(avg_psnr))\n",
        "# print(\"avg_ssim : {:.2f}\".format(avg_ssim))\n"
      ]
    },
    {
      "cell_type": "code",
      "source": [
        "# !pip install pytorchtools"
      ],
      "metadata": {
        "colab": {
          "base_uri": "https://localhost:8080/"
        },
        "id": "q36IMyhKwkF0",
        "outputId": "47dc347b-e5c7-4440-f9e0-e7ddc24ba41c"
      },
      "execution_count": null,
      "outputs": [
        {
          "output_type": "stream",
          "name": "stdout",
          "text": [
            "Collecting pytorchtools\n",
            "  Downloading pytorchtools-0.0.2-py2.py3-none-any.whl (3.1 kB)\n",
            "Installing collected packages: pytorchtools\n",
            "Successfully installed pytorchtools-0.0.2\n"
          ]
        }
      ]
    },
    {
      "cell_type": "code",
      "source": [
        "#!pip install pytorch-msssim"
      ],
      "metadata": {
        "id": "3zSlXdJ5ZbX5"
      },
      "execution_count": null,
      "outputs": []
    }
  ],
  "metadata": {
    "colab": {
      "collapsed_sections": [],
      "machine_shape": "hm",
      "name": "Compression_Autoencoder.ipynb의 사본",
      "provenance": [],
      "include_colab_link": true
    },
    "kernelspec": {
      "display_name": "Python 3 (ipykernel)",
      "language": "python",
      "name": "python3"
    },
    "language_info": {
      "codemirror_mode": {
        "name": "ipython",
        "version": 3
      },
      "file_extension": ".py",
      "mimetype": "text/x-python",
      "name": "python",
      "nbconvert_exporter": "python",
      "pygments_lexer": "ipython3",
      "version": "3.9.7"
    },
    "accelerator": "GPU"
  },
  "nbformat": 4,
  "nbformat_minor": 0
}