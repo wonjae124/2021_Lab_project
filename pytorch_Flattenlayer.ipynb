{
  "nbformat": 4,
  "nbformat_minor": 0,
  "metadata": {
    "colab": {
      "name": "pytorch_Flattenlayer.ipynb",
      "provenance": [],
      "collapsed_sections": [],
      "authorship_tag": "ABX9TyMXonwEy6qqAquyyr2QF9yM",
      "include_colab_link": true
    },
    "kernelspec": {
      "name": "python3",
      "display_name": "Python 3"
    },
    "language_info": {
      "name": "python"
    }
  },
  "cells": [
    {
      "cell_type": "markdown",
      "metadata": {
        "id": "view-in-github",
        "colab_type": "text"
      },
      "source": [
        "<a href=\"https://colab.research.google.com/github/wonjae124/2021_Lab_project/blob/main/pytorch_Flattenlayer.ipynb\" target=\"_parent\"><img src=\"https://colab.research.google.com/assets/colab-badge.svg\" alt=\"Open In Colab\"/></a>"
      ]
    },
    {
      "cell_type": "code",
      "execution_count": null,
      "metadata": {
        "id": "Cl_DuxhiOeQL"
      },
      "outputs": [],
      "source": [
        "import torch \n",
        "import torch.nn as nn\n",
        "import torch.nn.functional as F"
      ]
    },
    {
      "cell_type": "code",
      "source": [
        "class Net(nn.Module):\n",
        "  def __init__(self):\n",
        "    super(Net, self).__init__()\n",
        "\n",
        "    #Convolution layer\n",
        "    self.conv1 = nn.Conv2d(1,32,3,1)\n",
        "    self.conv2 = nn.Conv2d(32,64,3,1)\n",
        "\n",
        "    \n",
        "    self.dropout1= nn.Dropout2d(0.25)\n",
        "    self.dropout2= nn.Dropout2d(0.5)\n",
        "    \n",
        "    #Fully connected layer\n",
        "    self.fc1 = nn.Linear(9216, 128)\n",
        "    self.fc2 = nn.Linear(128, 10)\n",
        "\n",
        "my_nn =Net()\n",
        "print(my_nn)"
      ],
      "metadata": {
        "colab": {
          "base_uri": "https://localhost:8080/"
        },
        "id": "ZXMSx5jnOfnb",
        "outputId": "b42ca72c-5223-4f97-e2dd-5210379ea38c"
      },
      "execution_count": null,
      "outputs": [
        {
          "output_type": "stream",
          "name": "stdout",
          "text": [
            "Net(\n",
            "  (conv1): Conv2d(1, 32, kernel_size=(3, 3), stride=(1, 1))\n",
            "  (conv2): Conv2d(32, 64, kernel_size=(3, 3), stride=(1, 1))\n",
            "  (dropout1): Dropout2d(p=0.25, inplace=False)\n",
            "  (dropout2): Dropout2d(p=0.5, inplace=False)\n",
            "  (fc1): Linear(in_features=9216, out_features=128, bias=True)\n",
            "  (fc2): Linear(in_features=128, out_features=10, bias=True)\n",
            ")\n"
          ]
        }
      ]
    },
    {
      "cell_type": "code",
      "source": [
        "class Net(nn.Module):\n",
        "  def __init__(self):\n",
        "     super(Net, self).__init__()\n",
        "     self.conv1 = nn.Conv2d(1, 32, 3, stride=1)\n",
        "     self.conv2 = nn.Conv2d(32, 64, 3, stride=1)\n",
        "     self.dropout1 = nn.Dropout2d(0.25)\n",
        "     self.dropout2 = nn.Dropout2d(0.5)\n",
        "     self.fc1 = nn.Linear(9216,128)\n",
        "     self.fc2 = nn.Linear(128,10)\n",
        "\n",
        "  def forward(self, x): #x는 입력 데이터\n",
        "    x = self.conv1(x) #데이터를 첫 번째 레이어에 통과\n",
        "    x = F.relu #활성화 함수를 거치게 한다(다중퍼셉트론 구조통과 시작)\n",
        "\n",
        "    x = self.conv2(x) \n",
        "    x = F.relu(x)\n",
        "      \n",
        "    x = F.max_pool2d(x,2) #pooling으로 feature 맵 크기를 절반 줄인다. #pooling 안 해주면 어떻게 되죠?\n",
        "      \n",
        "    x = self.dropout1(x) \n",
        "    x = torch.flatten(x,1) #x를 start_dim=1, 즉 1차원 텐서로 flatten한다.\n",
        "\n",
        "    x = self.fc1(x) #Flatten 된 1차원 텐서를 fully_connected layer를 통과시켜 출력으로 만든다.\n",
        "    x = F.relu(x)\n",
        "    x = self.dropout2(x)\n",
        "    x = self.fc2(x)\n",
        "\n",
        "    output = F.log_softmax(x, dim=1) #sigmoid는 이진분류용임, softmax는 다중분류용임\n",
        "    return output"
      ],
      "metadata": {
        "id": "mzf7tY0LOhO-"
      },
      "execution_count": null,
      "outputs": []
    },
    {
      "cell_type": "code",
      "source": [
        "class Net(nn.Module):\n",
        "  def __init__(self):\n",
        "      super(Net, self).__init__()\n",
        "      self.conv1 = nn.Conv2d(1, 32, 3, 1)\n",
        "      self.conv2 = nn.Conv2d(32, 64, 3, 1)\n",
        "      self.dropout1 = nn.Dropout2d(0.25)\n",
        "      self.dropout2 = nn.Dropout2d(0.5)\n",
        "      self.fc1 = nn.Linear(9216, 128)\n",
        "      self.fc2 = nn.Linear(128, 10)\n",
        "\n",
        "  def forward(self, x): #x는 입력 데이터\n",
        "      x = self.conv1(x) #데이터를 첫 번째 레이어에 통과\n",
        "      x = F.relu(x) #활성화 함수를 거치게 한다(다중퍼셉트론 구조통과 시작) #여기서 relu 뒤에 인자를 빼먹어서 디버깅에 오래 걸림\n",
        "\n",
        "      x = self.conv2(x) \n",
        "      x = F.relu(x)\n",
        "      \n",
        "      x = F.max_pool2d(x,2) #pooling으로 feature 맵 크기를 절반 줄인다. #pooling 안 해주면 어떻게 되죠?\n",
        "      \n",
        "      x = self.dropout1(x) \n",
        "      x = torch.flatten(x,1) #x를 start_dim=1, 즉 1차원 텐서로 flatten한다.\n",
        "\n",
        "      x = self.fc1(x) #Flatten 된 1차원 텐서를 fully_connected layer를 통과시켜 출력으로 만든다.\n",
        "      x = F.relu(x)\n",
        "      x = self.dropout2(x)\n",
        "      x = self.fc2(x)\n",
        "\n",
        "      output = F.log_softmax(x, dim=1) #sigmoid는 이진분류용임, softmax는 다중분류용임\n",
        "      return output"
      ],
      "metadata": {
        "id": "IAg69c4kRsse"
      },
      "execution_count": null,
      "outputs": []
    },
    {
      "cell_type": "code",
      "source": [
        "random_data = torch.rand((1,1,28,28))\n",
        "my_nn = Net()\n",
        "result = my_nn(random_data)\n",
        "print(result)"
      ],
      "metadata": {
        "colab": {
          "base_uri": "https://localhost:8080/"
        },
        "id": "6-OEXj9rR-Wh",
        "outputId": "37dc4a05-2696-4c5b-ed00-b9f88b0430f3"
      },
      "execution_count": null,
      "outputs": [
        {
          "output_type": "stream",
          "name": "stdout",
          "text": [
            "tensor([[-2.3712, -2.1806, -2.3866, -2.1935, -2.4298, -2.2323, -2.3626, -2.4346,\n",
            "         -2.2029, -2.2771]], grad_fn=<LogSoftmaxBackward0>)\n"
          ]
        }
      ]
    }
  ]
}