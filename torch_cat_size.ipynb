{
  "nbformat": 4,
  "nbformat_minor": 0,
  "metadata": {
    "colab": {
      "name": "torch_cat_size.ipynb",
      "provenance": [],
      "collapsed_sections": [],
      "authorship_tag": "ABX9TyNyBF5+8+RlvjTIiheTF9vj",
      "include_colab_link": true
    },
    "kernelspec": {
      "name": "python3",
      "display_name": "Python 3"
    },
    "language_info": {
      "name": "python"
    }
  },
  "cells": [
    {
      "cell_type": "markdown",
      "metadata": {
        "id": "view-in-github",
        "colab_type": "text"
      },
      "source": [
        "<a href=\"https://colab.research.google.com/github/wonjae124/2021_Lab_project/blob/main/torch_cat_size.ipynb\" target=\"_parent\"><img src=\"https://colab.research.google.com/assets/colab-badge.svg\" alt=\"Open In Colab\"/></a>"
      ]
    },
    {
      "cell_type": "code",
      "execution_count": 35,
      "metadata": {
        "colab": {
          "base_uri": "https://localhost:8080/"
        },
        "id": "vrGSB-AwnuTR",
        "outputId": "e6d21a5d-7b7d-4564-cbfa-697da8a1178a"
      },
      "outputs": [
        {
          "output_type": "stream",
          "name": "stdout",
          "text": [
            "torch.Size([3, 10, 256])\n",
            "torch.Size([3, 10, 256])\n",
            "##############\n",
            "torch.Size([3, 10, 256]) \n",
            "\n",
            "torch.Size([3, 20, 256]) \n",
            "\n",
            "torch.Size([3, 10, 512]) \n",
            "\n",
            "torch.Size([6, 10, 256]) \n",
            "\n"
          ]
        }
      ],
      "source": [
        "import torch\n",
        "\n",
        "batch_size, N , K = 3,10,256\n",
        "\n",
        "x = torch.rand(batch_size, N, K) # tensor를 반환하는 rand함수. [M,N,K]로 N은 세로 height, K는 폭 width이다. \n",
        "y = torch.rand(batch_size, N, K)\n",
        "\n",
        "print(x.size()) #dimension은 3,10,256이다.\n",
        "print(y.size()) #dimension은 3,10,256이다.\n",
        "\n",
        "output1 = torch.cat([x,y],1) #10+10 = 20, 3,20,256\n",
        "output2 = torch.cat([x,y],2) #256+256=512, 3,10,512이다.\n",
        "output3 = torch.cat([x,y]) #tensor란 파이썬에서의 배열이다.torch.cat(tensor,dim=0,*,out=None)이다. dim의 default=0으로 첫 번째 차원인 것이다.\n",
        "                           #cat(x,y)를 하면 dim이 int가 아니므로 오류 발생한다. 따라서 배열로 만들게끔 x,y를 []안에 묶어야 한다.\n",
        "\n",
        "print('##############')\n",
        "print(x.size(),'\\n')\n",
        "print(output1.size(),'\\n')\n",
        "print(output2.size(),'\\n')\n",
        "print(output3.size(),'\\n')"
      ]
    },
    {
      "cell_type": "code",
      "source": [
        "t = torch.rand(3, 4, 5)\n",
        "\n",
        "print(t)\n",
        "print(t.size())"
      ],
      "metadata": {
        "colab": {
          "base_uri": "https://localhost:8080/"
        },
        "id": "6skrOYl_o57j",
        "outputId": "75cdf7e3-4abb-484d-9cd4-181787058031"
      },
      "execution_count": 22,
      "outputs": [
        {
          "output_type": "stream",
          "name": "stdout",
          "text": [
            "tensor([[[0.6513, 0.5032, 0.5311, 0.4679, 0.1894],\n",
            "         [0.1756, 0.9064, 0.2867, 0.1359, 0.2176],\n",
            "         [0.8034, 0.7044, 0.3251, 0.6157, 0.0106],\n",
            "         [0.1363, 0.3815, 0.4148, 0.0054, 0.9028]],\n",
            "\n",
            "        [[0.3612, 0.1002, 0.5493, 0.8793, 0.2949],\n",
            "         [0.2090, 0.4070, 0.0370, 0.8735, 0.9106],\n",
            "         [0.0513, 0.3142, 0.8307, 0.9192, 0.2620],\n",
            "         [0.1283, 0.1235, 0.7171, 0.2147, 0.6214]],\n",
            "\n",
            "        [[0.4636, 0.5301, 0.8147, 0.9399, 0.0270],\n",
            "         [0.6427, 0.6115, 0.9074, 0.2803, 0.0166],\n",
            "         [0.4175, 0.0563, 0.4590, 0.5798, 0.6722],\n",
            "         [0.4109, 0.7752, 0.4342, 0.3261, 0.1433]]])\n",
            "torch.Size([3, 4, 5])\n",
            "3\n",
            "4\n",
            "5\n"
          ]
        }
      ]
    },
    {
      "cell_type": "code",
      "source": [
        "x1 = ['Ticks', 'Tock', 'Song']\n",
        "x2 = ['Ticks', 'Tock', 'Song']\n",
        "y = ['Ping', 'Pong']\n",
        "x1.append(y) #append는 맨 끝에 새로운 객체로 추가한다. 리스트 형태로 추가 됬다.\n",
        "x2.extend(y) #리스트(iterable) 끝에 가장 바깥쪽 항목으로 추가한다. 단, 추가는 interable 자료형만 가능함\n",
        "print('x1:', x1)\n",
        "print('x2:', x2)"
      ],
      "metadata": {
        "colab": {
          "base_uri": "https://localhost:8080/"
        },
        "id": "59L8ORhwrqTO",
        "outputId": "a1318b50-ad86-450e-f688-09c1002a2af4"
      },
      "execution_count": 28,
      "outputs": [
        {
          "output_type": "stream",
          "name": "stdout",
          "text": [
            "x1: ['Ticks', 'Tock', 'Song', ['Ping', 'Pong']]\n",
            "x2: ['Ticks', 'Tock', 'Song', 'Ping', 'Pong']\n"
          ]
        }
      ]
    }
  ]
}