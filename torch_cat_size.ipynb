{
  "nbformat": 4,
  "nbformat_minor": 0,
  "metadata": {
    "colab": {
      "name": "torch_cat_size.ipynb",
      "provenance": [],
      "collapsed_sections": [],
      "authorship_tag": "ABX9TyMR6lgo7KOXA+YKMnV8txbI",
      "include_colab_link": true
    },
    "kernelspec": {
      "name": "python3",
      "display_name": "Python 3"
    },
    "language_info": {
      "name": "python"
    }
  },
  "cells": [
    {
      "cell_type": "markdown",
      "metadata": {
        "id": "view-in-github",
        "colab_type": "text"
      },
      "source": [
        "<a href=\"https://colab.research.google.com/github/wonjae124/2021_Lab_project/blob/main/torch_cat_size.ipynb\" target=\"_parent\"><img src=\"https://colab.research.google.com/assets/colab-badge.svg\" alt=\"Open In Colab\"/></a>"
      ]
    },
    {
      "cell_type": "markdown",
      "source": [
        "#torch cat은 주어진 차원을 기준으로 주어진 텐서를 붙인다."
      ],
      "metadata": {
        "id": "2FW91ZrLFSvz"
      }
    },
    {
      "cell_type": "code",
      "source": [
        "from google.colab import drive\n",
        "drive.mount('/content/drive')"
      ],
      "metadata": {
        "id": "uZEld2MmIAO6",
        "outputId": "c7aa1ca7-e12d-4309-d671-a7fd7425e783",
        "colab": {
          "base_uri": "https://localhost:8080/"
        }
      },
      "execution_count": 11,
      "outputs": [
        {
          "output_type": "stream",
          "name": "stdout",
          "text": [
            "Mounted at /content/drive\n"
          ]
        }
      ]
    },
    {
      "cell_type": "code",
      "source": [
        "cd /content/drive/MyDrive/model/example"
      ],
      "metadata": {
        "id": "mtBUXzwtIUnu",
        "outputId": "22b6b9ad-53a8-4c88-856f-26eb778d1982",
        "colab": {
          "base_uri": "https://localhost:8080/"
        }
      },
      "execution_count": 12,
      "outputs": [
        {
          "output_type": "stream",
          "name": "stdout",
          "text": [
            "/content/drive/MyDrive/model/example\n"
          ]
        }
      ]
    },
    {
      "cell_type": "code",
      "source": [
        "!git clone https://github.com/wonjae124/2021_Lab_project.git"
      ],
      "metadata": {
        "id": "b0qrT_e8IQAF",
        "outputId": "0e86b88c-606c-41ef-bc55-ea89466f79e0",
        "colab": {
          "base_uri": "https://localhost:8080/"
        }
      },
      "execution_count": 13,
      "outputs": [
        {
          "output_type": "stream",
          "name": "stdout",
          "text": [
            "Cloning into '2021_Lab_project'...\n",
            "remote: Enumerating objects: 114, done.\u001b[K\n",
            "remote: Counting objects: 100% (114/114), done.\u001b[K\n",
            "remote: Compressing objects: 100% (112/112), done.\u001b[K\n",
            "remote: Total 114 (delta 49), reused 0 (delta 0), pack-reused 0\u001b[K\n",
            "Receiving objects: 100% (114/114), 18.39 MiB | 10.44 MiB/s, done.\n",
            "Resolving deltas: 100% (49/49), done.\n"
          ]
        }
      ]
    },
    {
      "cell_type": "code",
      "execution_count": 2,
      "metadata": {
        "colab": {
          "base_uri": "https://localhost:8080/"
        },
        "id": "vrGSB-AwnuTR",
        "outputId": "3cf849ce-a5bf-486b-c0f6-302bcef34c11"
      },
      "outputs": [
        {
          "output_type": "stream",
          "name": "stdout",
          "text": [
            "torch.Size([3, 10, 256])\n",
            "torch.Size([3, 10, 256])\n",
            "##############\n",
            "torch.Size([3, 10, 256]) \n",
            "\n",
            "torch.Size([3, 20, 256]) \n",
            "\n",
            "torch.Size([3, 10, 512]) \n",
            "\n",
            "torch.Size([6, 10, 256]) \n",
            "\n"
          ]
        }
      ],
      "source": [
        "import torch\n",
        "\n",
        "batch_size, N , K = 3,10,256\n",
        "\n",
        "x = torch.rand(batch_size, N, K) # tensor를 반환하는 rand함수. [M,N,K]로 N은 세로 height, K는 폭 width이다. \n",
        "y = torch.rand(batch_size, N, K)\n",
        "\n",
        "print(x.size()) #dimension은 3,10,256이다.\n",
        "print(y.size()) #dimension은 3,10,256이다.\n",
        "\n",
        "output1 = torch.cat([x,y],1) #10+10 = 20, 3,20,256\n",
        "output2 = torch.cat([x,y],2) #256+256=512, 3,10,512이다.\n",
        "output3 = torch.cat([x,y]) #tensor란 파이썬에서의 배열이다.torch.cat(tensor,dim=0,*,out=None)이다. dim의 default=0으로 첫 번째 차원인 것이다.\n",
        "                           #cat(x,y)를 하면 dim이 int가 아니므로 오류 발생한다. 따라서 배열로 만들게끔 x,y를 []안에 묶어야 한다.\n",
        "\n",
        "print('##############')\n",
        "print(x.size(),'\\n')\n",
        "print(output1.size(),'\\n')\n",
        "print(output2.size(),'\\n')\n",
        "print(output3.size(),'\\n')"
      ]
    },
    {
      "cell_type": "code",
      "source": [
        "t1 = torch.tensor([[1,2],\n",
        "                  [3,4]])\n",
        "t2 = torch.tensor([[5,6],\n",
        "                   [7,8]])"
      ],
      "metadata": {
        "id": "sMpGNMS5FaB-"
      },
      "execution_count": 3,
      "outputs": []
    },
    {
      "cell_type": "code",
      "source": [
        "t1.size()"
      ],
      "metadata": {
        "colab": {
          "base_uri": "https://localhost:8080/"
        },
        "id": "UK6q7unWF2A5",
        "outputId": "22d62ce1-84d2-47d4-aae6-d13916160426"
      },
      "execution_count": 6,
      "outputs": [
        {
          "output_type": "execute_result",
          "data": {
            "text/plain": [
              "torch.Size([2, 2])"
            ]
          },
          "metadata": {},
          "execution_count": 6
        }
      ]
    },
    {
      "cell_type": "code",
      "source": [
        "t3 = torch.cat([t1,t2],dim=0)\n",
        "print(t3,'\\n')\n",
        "print(t3.size())"
      ],
      "metadata": {
        "colab": {
          "base_uri": "https://localhost:8080/"
        },
        "id": "quCZZj4wFnTY",
        "outputId": "0e3ad5be-eef5-47bd-9fa8-f15645bf6221"
      },
      "execution_count": 7,
      "outputs": [
        {
          "output_type": "stream",
          "name": "stdout",
          "text": [
            "tensor([[1, 2],\n",
            "        [3, 4],\n",
            "        [5, 6],\n",
            "        [7, 8]]) \n",
            "\n",
            "torch.Size([4, 2])\n"
          ]
        }
      ]
    },
    {
      "cell_type": "code",
      "source": [
        "t4 = torch.cat([t1, t2], dim=1)\n",
        "print(t4,'\\n')\n",
        "print(t4.size())"
      ],
      "metadata": {
        "colab": {
          "base_uri": "https://localhost:8080/"
        },
        "id": "hkbVTshvF1TL",
        "outputId": "0e500800-480f-4442-d997-0e0870a2d548"
      },
      "execution_count": 8,
      "outputs": [
        {
          "output_type": "stream",
          "name": "stdout",
          "text": [
            "tensor([[1, 2, 5, 6],\n",
            "        [3, 4, 7, 8]]) \n",
            "\n",
            "torch.Size([2, 4])\n"
          ]
        }
      ]
    },
    {
      "cell_type": "markdown",
      "source": [
        "#torch.stack은 새로운 차원을 생성한다."
      ],
      "metadata": {
        "id": "XuaDmLhOGO0r"
      }
    },
    {
      "cell_type": "code",
      "source": [
        "t5 = torch.stack((t1, t2))\n",
        "print(t5,'\\n')\n",
        "print(t5.size())"
      ],
      "metadata": {
        "colab": {
          "base_uri": "https://localhost:8080/"
        },
        "id": "QFHbTDg5GDv1",
        "outputId": "20c28d99-1026-424e-f709-97f2a912ffea"
      },
      "execution_count": 9,
      "outputs": [
        {
          "output_type": "stream",
          "name": "stdout",
          "text": [
            "tensor([[[1, 2],\n",
            "         [3, 4]],\n",
            "\n",
            "        [[5, 6],\n",
            "         [7, 8]]]) \n",
            "\n",
            "torch.Size([2, 2, 2])\n"
          ]
        }
      ]
    },
    {
      "cell_type": "code",
      "source": [
        "x1 = ['Ticks', 'Tock', 'Song']\n",
        "x2 = ['Ticks', 'Tock', 'Song']\n",
        "y = ['Ping', 'Pong']\n",
        "x1.append(y) #append는 맨 끝에 새로운 객체로 추가한다. 리스트 형태로 추가 됬다.\n",
        "x2.extend(y) #리스트(iterable) 끝에 가장 바깥쪽 항목으로 추가한다. 단, 추가는 interable 자료형만 가능함\n",
        "print('x1:', x1)\n",
        "print('x2:', x2)"
      ],
      "metadata": {
        "colab": {
          "base_uri": "https://localhost:8080/"
        },
        "id": "59L8ORhwrqTO",
        "outputId": "a1318b50-ad86-450e-f688-09c1002a2af4"
      },
      "execution_count": null,
      "outputs": [
        {
          "output_type": "stream",
          "name": "stdout",
          "text": [
            "x1: ['Ticks', 'Tock', 'Song', ['Ping', 'Pong']]\n",
            "x2: ['Ticks', 'Tock', 'Song', 'Ping', 'Pong']\n"
          ]
        }
      ]
    },
    {
      "cell_type": "code",
      "source": [
        "#view(-1), tensor차원 풀기. 반환값 tensor임.\n",
        "#view(n,-1)로 tensor차원 풀되, [nX]형태로 유지하기\n",
        "t3 = torch.tensor([[1,2],[3,4],[5,6]]) #3X2\n",
        "print(t3, '\\n')\n",
        "print(t3.size(),'\\n\\n')\n",
        "print(t3.view(-1),'\\n')\n",
        "print(t3.view(-1).size(),'\\n\\n') #결과 차원은 6이다.\n",
        "print(t3.view(1,-1),'\\n')\n",
        "print(t3.view(1,-1).size(),'\\n\\n') # 차원 [1X] 형태로 만듦. 결과는 1X6\n",
        "\n",
        "출처 :https://technical-support.tistory.com/95"
      ],
      "metadata": {
        "colab": {
          "base_uri": "https://localhost:8080/"
        },
        "id": "xP47LUhevNra",
        "outputId": "08c162ae-88aa-4765-d438-453c75da83b0"
      },
      "execution_count": null,
      "outputs": [
        {
          "output_type": "stream",
          "name": "stdout",
          "text": [
            "tensor([[1, 2],\n",
            "        [3, 4],\n",
            "        [5, 6]]) \n",
            "\n",
            "torch.Size([3, 2]) \n",
            "\n",
            "\n",
            "tensor([1, 2, 3, 4, 5, 6]) \n",
            "\n",
            "torch.Size([6]) \n",
            "\n",
            "\n",
            "tensor([[1, 2, 3, 4, 5, 6]]) \n",
            "\n",
            "torch.Size([1, 6]) \n",
            "\n",
            "\n"
          ]
        }
      ]
    },
    {
      "cell_type": "code",
      "source": [
        "t2 = torch.tensor([1,2])"
      ],
      "metadata": {
        "id": "9qusDBTEve61"
      },
      "execution_count": null,
      "outputs": []
    }
  ]
}