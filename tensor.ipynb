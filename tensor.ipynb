{
  "nbformat": 4,
  "nbformat_minor": 0,
  "metadata": {
    "colab": {
      "name": "tensor.ipynb",
      "provenance": [],
      "collapsed_sections": [],
      "authorship_tag": "ABX9TyOiWi/SV8wZHpoVS+qglc5t",
      "include_colab_link": true
    },
    "kernelspec": {
      "name": "python3",
      "display_name": "Python 3"
    },
    "language_info": {
      "name": "python"
    }
  },
  "cells": [
    {
      "cell_type": "markdown",
      "metadata": {
        "id": "view-in-github",
        "colab_type": "text"
      },
      "source": [
        "<a href=\"https://colab.research.google.com/github/wonjae124/2021_Lab_project/blob/main/tensor.ipynb\" target=\"_parent\"><img src=\"https://colab.research.google.com/assets/colab-badge.svg\" alt=\"Open In Colab\"/></a>"
      ]
    },
    {
      "cell_type": "code",
      "execution_count": 1,
      "metadata": {
        "id": "O82mhHslRPgW"
      },
      "outputs": [],
      "source": [
        "import torch\n",
        "import numpy as np"
      ]
    },
    {
      "cell_type": "code",
      "source": [
        "x=torch.empty(5,4) #5X4행렬 생성\n",
        "x"
      ],
      "metadata": {
        "colab": {
          "base_uri": "https://localhost:8080/"
        },
        "id": "u93WDIgURU2D",
        "outputId": "a61ead2d-d29d-448d-eea7-6ad3b7d6d5f0"
      },
      "execution_count": 3,
      "outputs": [
        {
          "output_type": "execute_result",
          "data": {
            "text/plain": [
              "tensor([[-2.7949e+12,  3.0872e-41,  7.0065e-44,  7.0065e-44],\n",
              "        [ 6.3058e-44,  6.7262e-44,  6.8664e-44,  6.3058e-44],\n",
              "        [ 6.8664e-44,  7.0065e-44,  1.1771e-43,  6.7262e-44],\n",
              "        [ 7.1466e-44,  8.1275e-44,  6.8664e-44,  7.0065e-44],\n",
              "        [ 8.1275e-44,  6.8664e-44,  7.8473e-44,  6.4460e-44]])"
            ]
          },
          "metadata": {},
          "execution_count": 3
        }
      ]
    },
    {
      "cell_type": "code",
      "source": [
        "torch.ones(3,3)"
      ],
      "metadata": {
        "colab": {
          "base_uri": "https://localhost:8080/"
        },
        "id": "4wglbQXyRW7u",
        "outputId": "a43798a4-1c0e-4865-e209-72919acd1d35"
      },
      "execution_count": 4,
      "outputs": [
        {
          "output_type": "execute_result",
          "data": {
            "text/plain": [
              "tensor([[1., 1., 1.],\n",
              "        [1., 1., 1.],\n",
              "        [1., 1., 1.]])"
            ]
          },
          "metadata": {},
          "execution_count": 4
        }
      ]
    },
    {
      "cell_type": "code",
      "source": [
        "torch.rand(5,6)"
      ],
      "metadata": {
        "colab": {
          "base_uri": "https://localhost:8080/"
        },
        "id": "pdo1VyrERcQ1",
        "outputId": "2ed30f64-72e4-42bc-841f-8cccc3b142a3"
      },
      "execution_count": 5,
      "outputs": [
        {
          "output_type": "execute_result",
          "data": {
            "text/plain": [
              "tensor([[0.8931, 0.4215, 0.9316, 0.4220, 0.9579, 0.8378],\n",
              "        [0.7830, 0.7227, 0.5201, 0.7596, 0.6530, 0.9941],\n",
              "        [0.1806, 0.0900, 0.9726, 0.9557, 0.3453, 0.8450],\n",
              "        [0.7004, 0.5211, 0.6899, 0.4406, 0.6634, 0.2167],\n",
              "        [0.5167, 0.0286, 0.7621, 0.6767, 0.6105, 0.4744]])"
            ]
          },
          "metadata": {},
          "execution_count": 5
        }
      ]
    },
    {
      "cell_type": "code",
      "source": [
        "l = [1,2,3]\n",
        "a = [[1,2,3],[4,5,6]]\n",
        "print(torch.tensor(l))\n",
        "print(torch.tensor(a))"
      ],
      "metadata": {
        "colab": {
          "base_uri": "https://localhost:8080/"
        },
        "id": "2GvzFBTIRd3d",
        "outputId": "8871756a-ac86-44ed-ce41-e463f13c9597"
      },
      "execution_count": 6,
      "outputs": [
        {
          "output_type": "stream",
          "name": "stdout",
          "text": [
            "tensor([1, 2, 3])\n",
            "tensor([[1, 2, 3],\n",
            "        [4, 5, 6]])\n"
          ]
        }
      ]
    },
    {
      "cell_type": "code",
      "source": [
        "x.size()"
      ],
      "metadata": {
        "colab": {
          "base_uri": "https://localhost:8080/"
        },
        "id": "g8YnZDXWRm7c",
        "outputId": "8e7fe93b-172e-4678-cc3a-30afe7087687"
      },
      "execution_count": 7,
      "outputs": [
        {
          "output_type": "execute_result",
          "data": {
            "text/plain": [
              "torch.Size([5, 4])"
            ]
          },
          "metadata": {},
          "execution_count": 7
        }
      ]
    },
    {
      "cell_type": "code",
      "source": [
        "print(x.size())"
      ],
      "metadata": {
        "colab": {
          "base_uri": "https://localhost:8080/"
        },
        "id": "wwioChXWRou9",
        "outputId": "963b657b-3190-4068-8651-87610a1988ad"
      },
      "execution_count": 8,
      "outputs": [
        {
          "output_type": "stream",
          "name": "stdout",
          "text": [
            "torch.Size([5, 4])\n"
          ]
        }
      ]
    },
    {
      "cell_type": "code",
      "source": [
        "type(x)"
      ],
      "metadata": {
        "colab": {
          "base_uri": "https://localhost:8080/"
        },
        "id": "15F44NkxRp39",
        "outputId": "de5e54e2-29a8-49de-89f9-8edccf3e7862"
      },
      "execution_count": 9,
      "outputs": [
        {
          "output_type": "execute_result",
          "data": {
            "text/plain": [
              "torch.Tensor"
            ]
          },
          "metadata": {},
          "execution_count": 9
        }
      ]
    },
    {
      "cell_type": "code",
      "source": [
        "y=torch.ones(2,2)\n",
        "y"
      ],
      "metadata": {
        "colab": {
          "base_uri": "https://localhost:8080/"
        },
        "id": "AIQcOhLTRq-d",
        "outputId": "f179d162-f13f-4672-e08b-3ae11ed99e32"
      },
      "execution_count": 27,
      "outputs": [
        {
          "output_type": "execute_result",
          "data": {
            "text/plain": [
              "tensor([[1., 1.],\n",
              "        [1., 1.]])"
            ]
          },
          "metadata": {},
          "execution_count": 27
        }
      ]
    },
    {
      "cell_type": "code",
      "source": [
        "y.add(x) #아직 y의 값이 할당되지는 않았음. y=y.add(x)로 해야지 초기화 완료 됨."
      ],
      "metadata": {
        "colab": {
          "base_uri": "https://localhost:8080/"
        },
        "id": "mnZIN0HYRs01",
        "outputId": "c38b6932-3f17-42c3-9034-03332bca0bb5"
      },
      "execution_count": 29,
      "outputs": [
        {
          "output_type": "execute_result",
          "data": {
            "text/plain": [
              "tensor([[2., 2.],\n",
              "        [2., 2.]])"
            ]
          },
          "metadata": {},
          "execution_count": 29
        }
      ]
    },
    {
      "cell_type": "code",
      "source": [
        "y"
      ],
      "metadata": {
        "colab": {
          "base_uri": "https://localhost:8080/"
        },
        "id": "yQ5QKj3lSTrv",
        "outputId": "41e587ba-fb7e-432b-907c-d6105d4c840a"
      },
      "execution_count": 30,
      "outputs": [
        {
          "output_type": "execute_result",
          "data": {
            "text/plain": [
              "tensor([[1., 1.],\n",
              "        [1., 1.]])"
            ]
          },
          "metadata": {},
          "execution_count": 30
        }
      ]
    },
    {
      "cell_type": "code",
      "source": [
        "torch.add(y,y)#y의 값이 할당이 여전히 안 됨."
      ],
      "metadata": {
        "colab": {
          "base_uri": "https://localhost:8080/"
        },
        "id": "GlTcMKy3RvsF",
        "outputId": "f04c88d6-a65d-4552-fc57-0d01519a2c91"
      },
      "execution_count": 31,
      "outputs": [
        {
          "output_type": "execute_result",
          "data": {
            "text/plain": [
              "tensor([[2., 2.],\n",
              "        [2., 2.]])"
            ]
          },
          "metadata": {},
          "execution_count": 31
        }
      ]
    },
    {
      "cell_type": "code",
      "source": [
        "y"
      ],
      "metadata": {
        "colab": {
          "base_uri": "https://localhost:8080/"
        },
        "id": "WVKS4oB8SUxK",
        "outputId": "923d7c98-e21f-4390-80fe-670ffcfaaa6c"
      },
      "execution_count": 32,
      "outputs": [
        {
          "output_type": "execute_result",
          "data": {
            "text/plain": [
              "tensor([[1., 1.],\n",
              "        [1., 1.]])"
            ]
          },
          "metadata": {},
          "execution_count": 32
        }
      ]
    },
    {
      "cell_type": "code",
      "source": [
        "#텐서의 크기를 변화하는 방법\n",
        "#2차원 행렬 정의\n",
        "x=torch.rand(8,8)\n",
        "x.size()"
      ],
      "metadata": {
        "colab": {
          "base_uri": "https://localhost:8080/"
        },
        "id": "lZgpf17TSgcb",
        "outputId": "c1b1f0e3-843e-4647-aab8-0aa98904c915"
      },
      "execution_count": 41,
      "outputs": [
        {
          "output_type": "execute_result",
          "data": {
            "text/plain": [
              "torch.Size([8, 8])"
            ]
          },
          "metadata": {},
          "execution_count": 41
        }
      ]
    },
    {
      "cell_type": "code",
      "source": [
        "x\n",
        "@대괄호가 2개 있다."
      ],
      "metadata": {
        "colab": {
          "base_uri": "https://localhost:8080/"
        },
        "id": "x-alA-_ASvNN",
        "outputId": "8a68fb91-a588-4b6b-ae05-f16c0e2b120a"
      },
      "execution_count": 40,
      "outputs": [
        {
          "output_type": "execute_result",
          "data": {
            "text/plain": [
              "tensor([[0.2203, 0.8508, 0.7299, 0.8461, 0.0704, 0.1360, 0.0674, 0.3223],\n",
              "        [0.3222, 0.1972, 0.0371, 0.8087, 0.5769, 0.5631, 0.7961, 0.1337],\n",
              "        [0.9340, 0.5137, 0.1116, 0.4120, 0.3439, 0.3355, 0.3007, 0.0522],\n",
              "        [0.1076, 0.0865, 0.1845, 0.2281, 0.8093, 0.8173, 0.3745, 0.0983],\n",
              "        [0.5558, 0.1974, 0.1180, 0.0395, 0.0373, 0.0281, 0.8786, 0.5047],\n",
              "        [0.7126, 0.2811, 0.8241, 0.6172, 0.4034, 0.3921, 0.4733, 0.7200],\n",
              "        [0.6035, 0.0552, 0.5416, 0.6060, 0.7862, 0.4375, 0.3516, 0.3764],\n",
              "        [0.4842, 0.8945, 0.3469, 0.0074, 0.2735, 0.2164, 0.0786, 0.3296]])"
            ]
          },
          "metadata": {},
          "execution_count": 40
        }
      ]
    },
    {
      "cell_type": "code",
      "source": [
        "#2차원 행렬을 1차원 행렬로 변환\n",
        "a=x.view(64) \n",
        "a.size()"
      ],
      "metadata": {
        "colab": {
          "base_uri": "https://localhost:8080/"
        },
        "id": "lINusmfWR5Gk",
        "outputId": "5ab18dd1-1c4d-42c9-c649-be66b9d10e1f"
      },
      "execution_count": 42,
      "outputs": [
        {
          "output_type": "execute_result",
          "data": {
            "text/plain": [
              "torch.Size([64])"
            ]
          },
          "metadata": {},
          "execution_count": 42
        }
      ]
    },
    {
      "cell_type": "code",
      "source": [
        "a #1차원 행렬 확인하기"
      ],
      "metadata": {
        "colab": {
          "base_uri": "https://localhost:8080/"
        },
        "id": "9rdggsXUSl5H",
        "outputId": "49e987b9-beec-47c3-ca1a-68c1f3f65c36"
      },
      "execution_count": 44,
      "outputs": [
        {
          "output_type": "execute_result",
          "data": {
            "text/plain": [
              "tensor([0.2660, 0.5387, 0.3802, 0.5905, 0.8140, 0.4642, 0.3407, 0.2346, 0.8318,\n",
              "        0.7161, 0.2358, 0.9385, 0.7554, 0.8523, 0.4284, 0.8660, 0.2934, 0.2116,\n",
              "        0.3904, 0.9204, 0.0280, 0.4235, 0.8480, 0.7623, 0.2866, 0.1994, 0.6040,\n",
              "        0.7686, 0.2135, 0.9468, 0.5499, 0.0392, 0.8537, 0.4795, 0.4995, 0.3011,\n",
              "        0.2095, 0.2016, 0.9566, 0.8395, 0.2820, 0.1938, 0.8641, 0.0308, 0.3613,\n",
              "        0.5679, 0.2368, 0.6016, 0.5940, 0.0240, 0.2653, 0.3498, 0.0853, 0.6009,\n",
              "        0.9996, 0.3026, 0.1424, 0.9828, 0.9827, 0.0361, 0.6046, 0.4050, 0.9248,\n",
              "        0.5725])"
            ]
          },
          "metadata": {},
          "execution_count": 44
        }
      ]
    },
    {
      "cell_type": "code",
      "source": [
        "#2차원 행렬을 3차원 행렬로 변환\n",
        "b=x.view(-1,4,4) #-1은 모든 원서를 다 표현하게끔 컴퓨터가 자동(알아서)으로 차원을 결정한다.\n",
        "b.size()"
      ],
      "metadata": {
        "colab": {
          "base_uri": "https://localhost:8080/",
          "height": 227
        },
        "id": "1WX1BLOJSqkq",
        "outputId": "661fc75f-1fad-4dca-ed3e-4f696df8979c"
      },
      "execution_count": 51,
      "outputs": [
        {
          "output_type": "error",
          "ename": "RuntimeError",
          "evalue": "ignored",
          "traceback": [
            "\u001b[0;31m---------------------------------------------------------------------------\u001b[0m",
            "\u001b[0;31mRuntimeError\u001b[0m                              Traceback (most recent call last)",
            "\u001b[0;32m<ipython-input-51-7480b9dcff84>\u001b[0m in \u001b[0;36m<module>\u001b[0;34m()\u001b[0m\n\u001b[1;32m      1\u001b[0m \u001b[0;31m#2차원 행렬을 3차원 행렬로 변환\u001b[0m\u001b[0;34m\u001b[0m\u001b[0;34m\u001b[0m\u001b[0;34m\u001b[0m\u001b[0m\n\u001b[0;32m----> 2\u001b[0;31m \u001b[0mb\u001b[0m\u001b[0;34m=\u001b[0m\u001b[0mx\u001b[0m\u001b[0;34m.\u001b[0m\u001b[0mview\u001b[0m\u001b[0;34m(\u001b[0m\u001b[0;34m-\u001b[0m\u001b[0;36m1\u001b[0m\u001b[0;34m,\u001b[0m\u001b[0;36m4\u001b[0m\u001b[0;34m,\u001b[0m\u001b[0;36m4\u001b[0m\u001b[0;34m)\u001b[0m \u001b[0;31m#-1은 모든 원서를 다 표현하게끔 컴퓨터가 자동(알아서)으로 차원을 결정한다.\u001b[0m\u001b[0;34m\u001b[0m\u001b[0;34m\u001b[0m\u001b[0m\n\u001b[0m\u001b[1;32m      3\u001b[0m \u001b[0mb\u001b[0m\u001b[0;34m.\u001b[0m\u001b[0msize\u001b[0m\u001b[0;34m(\u001b[0m\u001b[0;34m)\u001b[0m\u001b[0;34m\u001b[0m\u001b[0;34m\u001b[0m\u001b[0m\n\u001b[1;32m      4\u001b[0m \u001b[0mb\u001b[0m\u001b[0;34m.\u001b[0m\u001b[0mshape\u001b[0m\u001b[0;34m(\u001b[0m\u001b[0;34m)\u001b[0m\u001b[0;34m\u001b[0m\u001b[0;34m\u001b[0m\u001b[0m\n",
            "\u001b[0;31mRuntimeError\u001b[0m: shape '[-1, 4, 4]' is invalid for input of size 5"
          ]
        }
      ]
    },
    {
      "cell_type": "code",
      "source": [
        "#3차원 행렬 확인하기\n",
        "#대괄호가 3개 있다.\n",
        "b"
      ],
      "metadata": {
        "colab": {
          "base_uri": "https://localhost:8080/"
        },
        "id": "ECo0i-6FTR4d",
        "outputId": "a4e48f6c-bd10-4cfd-bcdd-b44f88007712"
      },
      "execution_count": 46,
      "outputs": [
        {
          "output_type": "execute_result",
          "data": {
            "text/plain": [
              "tensor([[[0.2660, 0.5387, 0.3802, 0.5905],\n",
              "         [0.8140, 0.4642, 0.3407, 0.2346],\n",
              "         [0.8318, 0.7161, 0.2358, 0.9385],\n",
              "         [0.7554, 0.8523, 0.4284, 0.8660]],\n",
              "\n",
              "        [[0.2934, 0.2116, 0.3904, 0.9204],\n",
              "         [0.0280, 0.4235, 0.8480, 0.7623],\n",
              "         [0.2866, 0.1994, 0.6040, 0.7686],\n",
              "         [0.2135, 0.9468, 0.5499, 0.0392]],\n",
              "\n",
              "        [[0.8537, 0.4795, 0.4995, 0.3011],\n",
              "         [0.2095, 0.2016, 0.9566, 0.8395],\n",
              "         [0.2820, 0.1938, 0.8641, 0.0308],\n",
              "         [0.3613, 0.5679, 0.2368, 0.6016]],\n",
              "\n",
              "        [[0.5940, 0.0240, 0.2653, 0.3498],\n",
              "         [0.0853, 0.6009, 0.9996, 0.3026],\n",
              "         [0.1424, 0.9828, 0.9827, 0.0361],\n",
              "         [0.6046, 0.4050, 0.9248, 0.5725]]])"
            ]
          },
          "metadata": {},
          "execution_count": 46
        }
      ]
    },
    {
      "cell_type": "code",
      "source": [
        "#단일 텐서에서 값을 추출하기\n",
        "x = torch.ones(5)\n",
        "x"
      ],
      "metadata": {
        "colab": {
          "base_uri": "https://localhost:8080/"
        },
        "id": "G_E7u8q5TSSg",
        "outputId": "578694ee-31f5-4539-ad85-228d17395808"
      },
      "execution_count": 49,
      "outputs": [
        {
          "output_type": "execute_result",
          "data": {
            "text/plain": [
              "tensor([1., 1., 1., 1., 1.])"
            ]
          },
          "metadata": {},
          "execution_count": 49
        }
      ]
    },
    {
      "cell_type": "code",
      "source": [
        "x.item() \n",
        "#단일 값을 뽑아내기 위해서는 item함수를 사용한다.\n"
      ],
      "metadata": {
        "colab": {
          "base_uri": "https://localhost:8080/"
        },
        "id": "LaKOQ-8sTXzA",
        "outputId": "aefa49a0-743a-4db5-a6cb-bf1d1a1ed36c"
      },
      "execution_count": 48,
      "outputs": [
        {
          "output_type": "execute_result",
          "data": {
            "text/plain": [
              "1.0"
            ]
          },
          "metadata": {},
          "execution_count": 48
        }
      ]
    },
    {
      "cell_type": "code",
      "source": [
        ""
      ],
      "metadata": {
        "id": "CcEQwkXIVEKB"
      },
      "execution_count": null,
      "outputs": []
    },
    {
      "cell_type": "code",
      "source": [
        ""
      ],
      "metadata": {
        "id": "DRqZRNh8VEML"
      },
      "execution_count": null,
      "outputs": []
    },
    {
      "cell_type": "code",
      "source": [
        "#############단일 이미지 값을 뽑아내는 방법을 알아보자(2차원 행렬이 필요하겠지?)###############"
      ],
      "metadata": {
        "id": "A5q9rs-FU3KG"
      },
      "execution_count": null,
      "outputs": []
    },
    {
      "cell_type": "code",
      "source": [
        ""
      ],
      "metadata": {
        "id": "HCQ0qyaBU3No"
      },
      "execution_count": null,
      "outputs": []
    },
    {
      "cell_type": "code",
      "source": [
        ""
      ],
      "metadata": {
        "id": "5Rjus8TFU3SN"
      },
      "execution_count": null,
      "outputs": []
    },
    {
      "cell_type": "code",
      "source": [
        ""
      ],
      "metadata": {
        "id": "rqnDIisjUubW"
      },
      "execution_count": null,
      "outputs": []
    }
  ]
}