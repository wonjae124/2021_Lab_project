{
  "nbformat": 4,
  "nbformat_minor": 0,
  "metadata": {
    "colab": {
      "name": "AddNoise.ipynb",
      "provenance": [],
      "collapsed_sections": [],
      "authorship_tag": "ABX9TyNgiTTI1AAu1M59iwSxNu5W",
      "include_colab_link": true
    },
    "kernelspec": {
      "name": "python3",
      "display_name": "Python 3"
    },
    "language_info": {
      "name": "python"
    }
  },
  "cells": [
    {
      "cell_type": "markdown",
      "metadata": {
        "id": "view-in-github",
        "colab_type": "text"
      },
      "source": [
        "<a href=\"https://colab.research.google.com/github/wonjae124/2021_Lab_project/blob/main/Noise_dimension_tutorial.ipynb\" target=\"_parent\"><img src=\"https://colab.research.google.com/assets/colab-badge.svg\" alt=\"Open In Colab\"/></a>"
      ]
    },
    {
      "cell_type": "code",
      "execution_count": 1,
      "metadata": {
        "id": "gUY5JZWSmRoO"
      },
      "outputs": [],
      "source": [
        "import torch\n",
        "import skimage.util.noise as noise #Denoise 패키지인 Sckit.image의 util모듈. return 값은 numpy로 다루는 ndarray임. https://scikit-image.org/docs/stable/api/skimage.util.html#random-noise \n",
        "from torchvision import datasets, transforms\n",
        "from torch.utils.data import DataLoader\n",
        "import matplotlib.pyplot as plt\n"
      ]
    },
    {
      "cell_type": "code",
      "source": [
        "train_set = datasets.MNIST('./data',train=True, download=True,transform=transforms.ToTensor())\n",
        "test_set = datasets.MNIST('./data',train=False, download=False,transform=transforms.ToTensor())\n",
        "\n",
        "tr_subset, val_subset = torch.utils.data.random_split(train_set,(50000,10000),generator=torch.Generator().manual_seed(1))\n",
        "\n",
        "X_train_set = tr_subset.dataset.data[tr_subset.indices] #이미지 데이터\n",
        "Y_train_set = tr_subset.dataset.targets[tr_subset.indices] # 정답 라벨\n",
        "\n",
        "X_val_set = val_subset.dataset.data[val_subset.indices]\n",
        "Y_val_set = val_subset.dataset.targets[val_subset.indices]\n"
      ],
      "metadata": {
        "id": "lRJ-Kt9dvATt"
      },
      "execution_count": 40,
      "outputs": []
    },
    {
      "cell_type": "code",
      "source": [
        "train_set_arr=X_train_set.numpy() #numpy 자료형(ndarray) 변환.\n",
        "test_set_arr=test_set.data.numpy()"
      ],
      "metadata": {
        "id": "2VIDrgVivAcg"
      },
      "execution_count": 41,
      "outputs": []
    },
    {
      "cell_type": "code",
      "source": [
        "Snp_train_set_arr1 = noise.random_noise(train_set_arr,mode='s&p',amount=0.1) #함수 random_noise를 사용한다. speckle도 추가 가능\n",
        "Snp_train_set_arr2 = noise.random_noise(train_set_arr,mode='s&p',amount=0.3)\n",
        "Snp_train_set_arr3 = noise.random_noise(train_set_arr,mode='s&p',amount=0.5)\n",
        "\n",
        "Gn_train_set_arr1 = noise.random_noise(train_set_arr,mode='gaussian',mean=0.1) #gaussian,speckle noise의 비율을 결정하는 파라미터인 mean이다. default는 0이다.\n",
        "Gn_train_set_arr2 = noise.random_noise(train_set_arr,mode='gaussian',mean=0.3)\n",
        "Gn_train_set_arr3 = noise.random_noise(train_set_arr,mode='gaussian',mean=0.5)\n"
      ],
      "metadata": {
        "id": "j68OAwjfvAgQ"
      },
      "execution_count": 42,
      "outputs": []
    },
    {
      "cell_type": "markdown",
      "source": [
        ""
      ],
      "metadata": {
        "id": "yFXhgczdEE3g"
      }
    },
    {
      "cell_type": "markdown",
      "source": [
        ""
      ],
      "metadata": {
        "id": "TnXrdYr9EEy7"
      }
    },
    {
      "cell_type": "code",
      "source": [
        "\n",
        "# 각 데이터셋에서 이미지를 하나씩 추출한다. snp_train_set_arr1[0] 배열로 말이다.\n",
        "# 총 6개의 이미지를 표현한다고 생각하자. plt라이브러리를 사용한다.\n",
        "# corrupted_input으로 enumerate로 나열시켜서 만들어주면 편할 것이다\n",
        "\n",
        "plt.imshow(Snp_train_set_arr1[0],cmap='gray')\n",
        "\n",
        "titles = ['Snp_week', 'Snp_moderate', 'Snp_strong', 'Gaussian_week', 'Gaussian_moderate', 'Gaussian_strong']\n",
        "images = [ Snp_train_set_arr1[0], Snp_train_set_arr2[0], Snp_train_set_arr3[0], Gn_train_set_arr1[0], Gn_train_set_arr2[0], Gn_train_set_arr3[0]]\n",
        "\n",
        "for i in range(6):\n",
        "  plt.subplot(2,3,i+1), plt.imshow(images[i],cmap='gray')\n",
        "  plt.title(titles[i])\n",
        "  plt.xticks([]), plt.yticks([]) #xticks?\n"
      ],
      "metadata": {
        "colab": {
          "base_uri": "https://localhost:8080/",
          "height": 267
        },
        "id": "e9cL24XNBcXZ",
        "outputId": "b08c1ec7-aa02-45fb-a711-f1c96fe938f3"
      },
      "execution_count": 43,
      "outputs": [
        {
          "output_type": "display_data",
          "data": {
            "image/png": "[encoded data removed]",
            "text/plain": [
              "<Figure size 432x288 with 6 Axes>"
            ]
          },
          "metadata": {}
        }
      ]
    },
    {
      "cell_type": "code",
      "source": [
        ""
      ],
      "metadata": {
        "id": "3XK6-hbvrWlG"
      },
      "execution_count": 43,
      "outputs": []
    },
    {
      "cell_type": "code",
      "source": [
        "Snp_week = torch.from_numpy(Snp_train_set_arr1).float().div(255).unsqueeze(1)\n",
        "Snp_moderate = torch.from_numpy(Snp_train_set_arr2)\n",
        "Snp_strong = torch.from_numpy(Snp_train_set_arr3)\n",
        "\n",
        "Gaussian_week = torch.from_numpy(Gn_train_set_arr1)\n",
        "Gaussian_moderate = torch.from_numpy(Gn_train_set_arr2)\n",
        "Gaussian_strong = torch.from_numpy(Gn_train_set_arr3)"
      ],
      "metadata": {
        "id": "LiSWAqWCvAj4"
      },
      "execution_count": 44,
      "outputs": []
    },
    {
      "cell_type": "code",
      "source": [
        "custom_snp_train_data = []\n",
        "for i in range(len(Snp_week)):\n",
        "   custom_snp_train_data.append([Snp_week[i], Y_train_set[i]])\n"
      ],
      "metadata": {
        "id": "XbUXZrO1oqsc"
      },
      "execution_count": 45,
      "outputs": []
    },
    {
      "cell_type": "code",
      "source": [
        "num_workers= 2\n",
        "batch_size = 256\n",
        "\n",
        "origin_loader = DataLoader(tr_subset,batch_size=batch_size)\n",
        "Custom_Snp_week_Loader = DataLoader(custom_snp_train_data, batch_size = batch_size)\n",
        "\n",
        "#print(data[0].shape)\n",
        "list = torch.rand(50000,1,28,28)\n",
        "list_loader = DataLoader(list, batch_size = batch_size)\n",
        "\n",
        "#for data,labels in origin_loader:\n",
        "#  break\n",
        "\n",
        "#for data,list in zip(origin_loader,list_loader):\n",
        "#  break\n",
        "\n",
        "#for i,(origin,list) in enumerate(zip(origin_loader,list_loader)):\n",
        "#  break\n",
        "\n",
        "for i,(noisy,origin) in enumerate(zip(Custom_Snp_week_Loader,origin_loader)):\n",
        "  corrupted_img,_  = noisy\n",
        "  origin_img,_ = origin\n",
        "  \n",
        "  break\n",
        "#  batch_img,_ = data\n",
        "#  origin_img,_ = origin\n",
        "  \n",
        "\n",
        "#for i, (batch_img,origin_img)  in enumerate(zip(Custom_Snp_week_Loader, origin_loader)):\n",
        "#   print(batch_img[i].shape)\n",
        "\n"
      ],
      "metadata": {
        "id": "DR-fWatbmfL1"
      },
      "execution_count": 57,
      "outputs": []
    },
    {
      "cell_type": "code",
      "source": [
        "dsorigin_loader_1= iter(origin_loader)\n",
        "origin_loader_2 = origin_loader_1.next()\n",
        "print(origin_loader_2[0].shape)\n"
      ],
      "metadata": {
        "colab": {
          "base_uri": "https://localhost:8080/",
          "height": 210
        },
        "id": "sWWsgDpwwvVG",
        "outputId": "546edbde-9ba9-4b61-df3f-e97c225b6ce1"
      },
      "execution_count": 47,
      "outputs": [
        {
          "output_type": "error",
          "ename": "NameError",
          "evalue": "ignored",
          "traceback": [
            "\u001b[0;31m---------------------------------------------------------------------------\u001b[0m",
            "\u001b[0;31mNameError\u001b[0m                                 Traceback (most recent call last)",
            "\u001b[0;32m<ipython-input-47-c92055e7ba11>\u001b[0m in \u001b[0;36m<module>\u001b[0;34m()\u001b[0m\n\u001b[1;32m      1\u001b[0m \u001b[0mdsorigin_loader_1\u001b[0m\u001b[0;34m=\u001b[0m \u001b[0miter\u001b[0m\u001b[0;34m(\u001b[0m\u001b[0morigin_loader\u001b[0m\u001b[0;34m)\u001b[0m\u001b[0;34m\u001b[0m\u001b[0;34m\u001b[0m\u001b[0m\n\u001b[0;32m----> 2\u001b[0;31m \u001b[0morigin_loader_2\u001b[0m \u001b[0;34m=\u001b[0m \u001b[0morigin_loader_1\u001b[0m\u001b[0;34m.\u001b[0m\u001b[0mnext\u001b[0m\u001b[0;34m(\u001b[0m\u001b[0;34m)\u001b[0m\u001b[0;34m\u001b[0m\u001b[0;34m\u001b[0m\u001b[0m\n\u001b[0m\u001b[1;32m      3\u001b[0m \u001b[0mprint\u001b[0m\u001b[0;34m(\u001b[0m\u001b[0morigin_loader_2\u001b[0m\u001b[0;34m[\u001b[0m\u001b[0;36m0\u001b[0m\u001b[0;34m]\u001b[0m\u001b[0;34m.\u001b[0m\u001b[0mshape\u001b[0m\u001b[0;34m)\u001b[0m\u001b[0;34m\u001b[0m\u001b[0;34m\u001b[0m\u001b[0m\n",
            "\u001b[0;31mNameError\u001b[0m: name 'origin_loader_1' is not defined"
          ]
        }
      ]
    },
    {
      "cell_type": "code",
      "source": [
        "names = ['Alice','Bob','Charlie']\n",
        "ages = [24, 50, 18]\n",
        "\n",
        "\n",
        "\n",
        "for i, (name,age) in enumerate(zip(names,ages)):\n",
        "  print(i,name,age)"
      ],
      "metadata": {
        "id": "LmH1OJ00srsM"
      },
      "execution_count": null,
      "outputs": []
    },
    {
      "cell_type": "code",
      "source": [
        ""
      ],
      "metadata": {
        "id": "TMx3HyXTohxQ"
      },
      "execution_count": null,
      "outputs": []
    }
  ]
}