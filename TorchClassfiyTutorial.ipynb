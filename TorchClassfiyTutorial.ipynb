{
 "nbformat": 4,
 "nbformat_minor": 0,
 "metadata": {
  "colab": {
   "name": "TorchClassfiyTutorial.ipynb",
   "provenance": [],
   "collapsed_sections": [],
   "authorship_tag": "ABX9TyPM8SUa/nI05zaI1pks5F+5",
   "include_colab_link": true
  },
  "kernelspec": {
   "name": "python3",
   "display_name": "Python 3"
  },
  "language_info": {
   "name": "python"
  }
 },
 "cells": [
  {
   "cell_type": "markdown",
   "metadata": {
    "id": "view-in-github",
    "colab_type": "text"
   },
   "source": [
    "<a href=\"https://colab.research.google.com/github/wonjae124/2021_Lab_project/blob/main/TorchClassfiyTutorial.ipynb\" target=\"_parent\"><img src=\"https://colab.research.google.com/assets/colab-badge.svg\" alt=\"Open In Colab\"/></a>"
   ]
  },
  {
   "cell_type": "code",
   "execution_count": 2,
   "metadata": {
    "id": "bREKBHAv3Iq2"
   },
   "outputs": [],
   "source": [
    "#손글씨 분류 파이토치 실습\n",
    "#불러오기\n",
    "import torch #파이토치 라이브러리 불러오기\n",
    "import torch.nn as nn #딥러닝 네트워크의 기본 구성요소를 포함한 torch.nn패키지를 가져와서 nn이름으로 선언\n",
    "import torch.nn.functional as F  #딥러닝에 자주 사용되는 함수가 포함 된 module인 torch.nn.funtional을 가져온다. F로 선언\n",
    "import torch.optim as optim #가중치 추정에 필요한 알고리즘이 포함 된 모듈 torch.optim을 가져온다. optim으로 선언\n",
    "from torchvision import datasets, transforms #기본적인 딥러닝 데이터셋이 포함 모델 구조, 이미지 변환 기술을 포함한 torchvision모듈이다.\n",
    "#torchvsion 모듈에서 datasets와 transform 함수만 가져온다.\n",
    "from matplotlib import pyplot as plt\n"
   ]
  },
  {
   "cell_type": "code",
   "source": [
    "#분석 환경 설정하기\n",
    "is_cuda = torch.cuda.is_available()\n",
    "device = torch.device('cuda'if is_cuda else 'cpu')#GPU(쿠다)를 사용할 수 있으면 true이고 아니면 false로 cpu를 사용한다.\n",
    "\n",
    "print('Current cuda device is', device)\n"
   ],
   "metadata": {
    "colab": {
     "base_uri": "https://localhost:8080/"
    },
    "id": "LGoFQB1J3fI_",
    "outputId": "93e7a4ad-2170-45d2-d758-150d3a3b5955"
   },
   "execution_count": 3,
   "outputs": [
    {
     "name": "stdout",
     "output_type": "stream",
     "text": [
      "Current cuda device is cuda\n"
     ]
    }
   ]
  },
  {
   "cell_type": "code",
   "source": [
    "#HyperParameter 지정하기\n",
    "batch_size = 50 #한 번에 학습 할 이미지의 양\n",
    "epoch_num = 15 #총 학습 횟수\n",
    "learning_rate = 0.0001 #가중치 업데이트(학습율) 정도"
   ],
   "metadata": {
    "id": "sUFq6gYY46wB"
   },
   "execution_count": 4,
   "outputs": []
  },
  {
   "cell_type": "code",
   "source": [
    "#Mnist 데이터셋 불러오기.\n",
    "train_data = datasets.MNIST(root = './data', train = True, download=True, transform = transforms.ToTensor())\n",
    "#root는 Mnistdata를 저장할 공간이다. ./data는 현재위치의 폴더이다.\n",
    "#download는 데이터셋이 아직 저장 안 되어 있다면 True로 설정해서 불러온다.\n",
    "test_data = datasets.MNIST(root = './data', train=False, transform = transforms.ToTensor())\n",
    "#transform을 통해서 입력과 Mnist데이터를 입력과 동시에 전처리 할 수 있는 옵션이다. 파이토치는 입력데이터로 tensor로 사용하므로 이미지를 tensor로 변형하여 처리하는 transforms.ToTensor()를 사용한다. \n",
    "\n",
    "print('number of training data : ', len(train_data))\n",
    "print('number of test data : ', len(test_data))\n"
   ],
   "metadata": {
    "colab": {
     "base_uri": "https://localhost:8080/"
    },
    "id": "NegxvmyR46zX",
    "outputId": "6db2b5a5-d06b-42ac-9fea-bbcc2651bca1"
   },
   "execution_count": 5,
   "outputs": [
    {
     "name": "stdout",
     "output_type": "stream",
     "text": [
      "Downloading http://yann.lecun.com/exdb/mnist/train-images-idx3-ubyte.gz\n",
      "Downloading http://yann.lecun.com/exdb/mnist/train-images-idx3-ubyte.gz to ./data\\MNIST\\raw\\train-images-idx3-ubyte.gz\n"
     ]
    },
    {
     "name": "stderr",
     "output_type": "stream",
     "text": [
      "31.0%IOPub message rate exceeded.\n",
      "The notebook server will temporarily stop sending output\n",
      "to the client in order to avoid crashing it.\n",
      "To change this limit, set the config variable\n",
      "`--NotebookApp.iopub_msg_rate_limit`.\n",
      "\n",
      "Current values:\n",
      "NotebookApp.iopub_msg_rate_limit=1000.0 (msgs/sec)\n",
      "NotebookApp.rate_limit_window=3.0 (secs)\n",
      "\n"
     ]
    },
    {
     "name": "stdout",
     "output_type": "stream",
     "text": [
      "\n",
      "Downloading http://yann.lecun.com/exdb/mnist/train-labels-idx1-ubyte.gz\n",
      "Downloading http://yann.lecun.com/exdb/mnist/train-labels-idx1-ubyte.gz to ./data\\MNIST\\raw\\train-labels-idx1-ubyte.gz\n"
     ]
    },
    {
     "name": "stderr",
     "output_type": "stream",
     "text": [
      "102.8%\n"
     ]
    },
    {
     "name": "stdout",
     "output_type": "stream",
     "text": [
      "Extracting ./data\\MNIST\\raw\\train-labels-idx1-ubyte.gz to ./data\\MNIST\\raw\n",
      "\n",
      "Downloading http://yann.lecun.com/exdb/mnist/t10k-images-idx3-ubyte.gz\n",
      "Downloading http://yann.lecun.com/exdb/mnist/t10k-images-idx3-ubyte.gz to ./data\\MNIST\\raw\\t10k-images-idx3-ubyte.gz\n"
     ]
    },
    {
     "name": "stderr",
     "output_type": "stream",
     "text": [
      "100.0%\n"
     ]
    },
    {
     "name": "stdout",
     "output_type": "stream",
     "text": [
      "Extracting ./data\\MNIST\\raw\\t10k-images-idx3-ubyte.gz to ./data\\MNIST\\raw\n",
      "\n",
      "Downloading http://yann.lecun.com/exdb/mnist/t10k-labels-idx1-ubyte.gz\n",
      "Downloading http://yann.lecun.com/exdb/mnist/t10k-labels-idx1-ubyte.gz to ./data\\MNIST\\raw\\t10k-labels-idx1-ubyte.gz\n"
     ]
    },
    {
     "name": "stderr",
     "output_type": "stream",
     "text": [
      "112.7%"
     ]
    },
    {
     "name": "stdout",
     "output_type": "stream",
     "text": [
      "Extracting ./data\\MNIST\\raw\\t10k-labels-idx1-ubyte.gz to ./data\\MNIST\\raw\n",
      "\n",
      "number of training data :  60000\n",
      "number of test data :  10000\n"
     ]
    },
    {
     "name": "stderr",
     "output_type": "stream",
     "text": [
      "\n"
     ]
    }
   ]
  },
  {
   "cell_type": "code",
   "source": [
    "#Mnist data 확인하기\n",
    "\n",
    "image, label = train_data[0] #image와 label에 첫 번째 학습 데이터의 입력데이터와 정답(라벨)을 제공한다.\n",
    "#Mnist의 이미지는  3차원 tesnor로 [channel,width,height]=[1,28,28]이다.\n",
    "plt.imshow(image.squeeze().numpy(),cmap='gray')\n",
    "#3차원 이미지를 2차원 텐서[28.28]로 줄이는 image.squeeze().numpy()함수를 사용한다. matplotlib의 pyplot에 포함 되어 있다.\n",
    "plt.title('label : %s'%label)\n",
    "plt.show()\n"
   ],
   "metadata": {
    "colab": {
     "base_uri": "https://localhost:8080/",
     "height": 281
    },
    "id": "fow7ZYu7461x",
    "outputId": "319d19a7-02d5-4865-d74f-94391a1ff2ba"
   },
   "execution_count": 6,
   "outputs": [
    {
     "data": {
      "text/plain": "<Figure size 432x288 with 1 Axes>",
      "image/png": "[encoded data removed]"
     },
     "metadata": {
      "needs_background": "light"
     },
     "output_type": "display_data"
    }
   ]
  },
  {
   "cell_type": "markdown",
   "source": [],
   "metadata": {
    "id": "gUlqJEv63hMN"
   }
  },
  {
   "cell_type": "code",
   "source": [
    "#미니 배치 구성하기\n",
    "train_loader = torch.utils.data.DataLoader(dataset = train_data, #dataset 파라미터로 미니 배치로 구성할 데이터로 초기화 \n",
    "                                           batch_size = batch_size, #미니 배치의 사이즈를 50개로 결정\n",
    "                                           shuffle = True) #딥러닝이므로 시계열이 아닌 이상 순서를 섞음으로써 훈련 시킴.\n",
    "test_loader = torch.utils.data.DataLoader(dataset= test_data,\n",
    "                                          batch_size = batch_size,\n",
    "                                          shuffle = True)\n",
    "\n",
    "first_batch = next(iter(train_loader))\n",
    "print('{:15s} | {:25s} | {}'.format('name','type','size')) #60000개의 훈련데이터를 50개씩 쪼갰으므로 총 1200개의 배치가 생성 됨.\n",
    "print('{:15s} | {:25s} | {}'.format('Num of batch','',len(train_loader))) \n",
    "print('{:15s} | {:25s} | {}'.format('first_batch',str(type(first_batch)),len(first_batch))) # \n",
    "print('{:15s} | {:25s} | {}'.format('first_batch[0]',str(type(first_batch[0])),first_batch[0].shape)) #미니배치의 첫 번째 요소의 차원은 4차원 텐서로 [50,1,28,28]이다. [batch_size, channel, width, height]이다.\n",
    "print('{:15s} | {:25s} | {}'.format('first_batch[1]',str(first_batch[1]),first_batch[1].shape)) #미니배치의 두 번째 요소에는 정답이 저장되어 있다.\n"
   ],
   "metadata": {
    "colab": {
     "base_uri": "https://localhost:8080/"
    },
    "id": "IN_R64hf89IV",
    "outputId": "7d4fad07-10e3-4e13-85a4-8b379b285290"
   },
   "execution_count": 7,
   "outputs": [
    {
     "name": "stdout",
     "output_type": "stream",
     "text": [
      "name            | type                      | size\n",
      "Num of batch    |                           | 1200\n",
      "first_batch     | <class 'list'>            | 2\n",
      "first_batch[0]  | <class 'torch.Tensor'>    | torch.Size([50, 1, 28, 28])\n",
      "first_batch[1]  | tensor([8, 8, 7, 5, 4, 6, 7, 8, 9, 6, 3, 9, 5, 0, 4, 3, 5, 3, 0, 0, 3, 7, 5, 0,\n",
      "        0, 2, 1, 5, 6, 9, 1, 4, 1, 7, 0, 5, 3, 7, 4, 2, 8, 6, 4, 0, 8, 1, 0, 1,\n",
      "        3, 4]) | torch.Size([50])\n"
     ]
    }
   ]
  },
  {
   "cell_type": "code",
   "source": [
    ""
   ],
   "metadata": {
    "id": "g3_USWZO89NH"
   },
   "execution_count": null,
   "outputs": []
  },
  {
   "cell_type": "code",
   "source": [
    ""
   ],
   "metadata": {
    "id": "9L4tVhb389PE"
   },
   "execution_count": null,
   "outputs": []
  },
  {
   "cell_type": "code",
   "source": [
    ""
   ],
   "metadata": {
    "id": "8GGM2Wh689Q9"
   },
   "execution_count": null,
   "outputs": []
  },
  {
   "cell_type": "code",
   "source": [
    ""
   ],
   "metadata": {
    "id": "ZvFSfN4Y89S1"
   },
   "execution_count": null,
   "outputs": []
  }
 ]
}